{
 "cells": [
  {
   "cell_type": "code",
   "execution_count": 13,
   "metadata": {},
   "outputs": [],
   "source": [
    "import pandas as pd"
   ]
  },
  {
   "cell_type": "code",
   "execution_count": 16,
   "metadata": {},
   "outputs": [],
   "source": [
    "data = pd.read_csv('articles.csv')"
   ]
  },
  {
   "cell_type": "code",
   "execution_count": 17,
   "metadata": {},
   "outputs": [
    {
     "data": {
      "text/html": [
       "<div>\n",
       "<style scoped>\n",
       "    .dataframe tbody tr th:only-of-type {\n",
       "        vertical-align: middle;\n",
       "    }\n",
       "\n",
       "    .dataframe tbody tr th {\n",
       "        vertical-align: top;\n",
       "    }\n",
       "\n",
       "    .dataframe thead th {\n",
       "        text-align: right;\n",
       "    }\n",
       "</style>\n",
       "<table border=\"1\" class=\"dataframe\">\n",
       "  <thead>\n",
       "    <tr style=\"text-align: right;\">\n",
       "      <th></th>\n",
       "      <th>Unnamed: 0</th>\n",
       "      <th>PreviewURL</th>\n",
       "      <th>ReportURL</th>\n",
       "      <th>Date</th>\n",
       "      <th>Source</th>\n",
       "      <th>Title</th>\n",
       "      <th>Label</th>\n",
       "      <th>Explanation</th>\n",
       "      <th>Country</th>\n",
       "    </tr>\n",
       "  </thead>\n",
       "  <tbody>\n",
       "    <tr>\n",
       "      <th>0</th>\n",
       "      <td>0</td>\n",
       "      <td>https://www.poynter.org/?ifcn_misinformation=c...</td>\n",
       "      <td>https://facta.news/notizia-falsa/2021/03/01/le...</td>\n",
       "      <td>2021-03-01</td>\n",
       "      <td>Facta</td>\n",
       "      <td>Covid-19 masks are dangerous and the obligatio...</td>\n",
       "      <td>FALSE</td>\n",
       "      <td>Covid-19 face masks are safe and there is no c...</td>\n",
       "      <td>Italy</td>\n",
       "    </tr>\n",
       "    <tr>\n",
       "      <th>1</th>\n",
       "      <td>1</td>\n",
       "      <td>https://www.poynter.org/?ifcn_misinformation=t...</td>\n",
       "      <td>https://www.newtral.es/bulo-protesta-rumania-m...</td>\n",
       "      <td>2021-03-01</td>\n",
       "      <td>Newtral.es</td>\n",
       "      <td>Thousands of people demonstrate in Romania aga...</td>\n",
       "      <td>FALSE</td>\n",
       "      <td>The photograph corresponds to protests held in...</td>\n",
       "      <td>Spain, Romaina</td>\n",
       "    </tr>\n",
       "    <tr>\n",
       "      <th>2</th>\n",
       "      <td>2</td>\n",
       "      <td>https://www.poynter.org/?ifcn_misinformation=t...</td>\n",
       "      <td>https://chequeado.com/verificacionfb/es-falso-...</td>\n",
       "      <td>2021-02-28</td>\n",
       "      <td>Chequeado</td>\n",
       "      <td>The Argentine Vice President, Cristina Fernánd...</td>\n",
       "      <td>FALSE</td>\n",
       "      <td>One of the images corresponds to the flu vacci...</td>\n",
       "      <td>Argentina</td>\n",
       "    </tr>\n",
       "    <tr>\n",
       "      <th>3</th>\n",
       "      <td>3</td>\n",
       "      <td>https://www.poynter.org/?ifcn_misinformation=t...</td>\n",
       "      <td>https://chequeado.com/verificacionfb/es-falso-...</td>\n",
       "      <td>2021-02-26</td>\n",
       "      <td>Chequeado</td>\n",
       "      <td>The Province of Buenos Aires (Argentina) has a...</td>\n",
       "      <td>FALSE</td>\n",
       "      <td>The misinformation arose from a tweet by the d...</td>\n",
       "      <td>Argentina</td>\n",
       "    </tr>\n",
       "    <tr>\n",
       "      <th>4</th>\n",
       "      <td>4</td>\n",
       "      <td>https://www.poynter.org/?ifcn_misinformation=p...</td>\n",
       "      <td>https://facta.news/notizia-falsa/2021/02/26/qu...</td>\n",
       "      <td>2021-02-26</td>\n",
       "      <td>Facta</td>\n",
       "      <td>Pfizer, Moderna and Astrazeneca are handing ou...</td>\n",
       "      <td>FALSE</td>\n",
       "      <td>The flyers are fake</td>\n",
       "      <td>Italy</td>\n",
       "    </tr>\n",
       "  </tbody>\n",
       "</table>\n",
       "</div>"
      ],
      "text/plain": [
       "   Unnamed: 0                                         PreviewURL  \\\n",
       "0           0  https://www.poynter.org/?ifcn_misinformation=c...   \n",
       "1           1  https://www.poynter.org/?ifcn_misinformation=t...   \n",
       "2           2  https://www.poynter.org/?ifcn_misinformation=t...   \n",
       "3           3  https://www.poynter.org/?ifcn_misinformation=t...   \n",
       "4           4  https://www.poynter.org/?ifcn_misinformation=p...   \n",
       "\n",
       "                                           ReportURL        Date      Source  \\\n",
       "0  https://facta.news/notizia-falsa/2021/03/01/le...  2021-03-01       Facta   \n",
       "1  https://www.newtral.es/bulo-protesta-rumania-m...  2021-03-01  Newtral.es   \n",
       "2  https://chequeado.com/verificacionfb/es-falso-...  2021-02-28   Chequeado   \n",
       "3  https://chequeado.com/verificacionfb/es-falso-...  2021-02-26   Chequeado   \n",
       "4  https://facta.news/notizia-falsa/2021/02/26/qu...  2021-02-26       Facta   \n",
       "\n",
       "                                               Title  Label  \\\n",
       "0  Covid-19 masks are dangerous and the obligatio...  FALSE   \n",
       "1  Thousands of people demonstrate in Romania aga...  FALSE   \n",
       "2  The Argentine Vice President, Cristina Fernánd...  FALSE   \n",
       "3  The Province of Buenos Aires (Argentina) has a...  FALSE   \n",
       "4  Pfizer, Moderna and Astrazeneca are handing ou...  FALSE   \n",
       "\n",
       "                                         Explanation         Country  \n",
       "0  Covid-19 face masks are safe and there is no c...           Italy  \n",
       "1  The photograph corresponds to protests held in...  Spain, Romaina  \n",
       "2  One of the images corresponds to the flu vacci...       Argentina  \n",
       "3  The misinformation arose from a tweet by the d...       Argentina  \n",
       "4                                The flyers are fake           Italy  "
      ]
     },
     "execution_count": 17,
     "metadata": {},
     "output_type": "execute_result"
    }
   ],
   "source": [
    "data.head()"
   ]
  },
  {
   "cell_type": "code",
   "execution_count": 18,
   "metadata": {},
   "outputs": [],
   "source": [
    "import warnings\n",
    "warnings.filterwarnings(\"ignore\", message=\"numpy.dtype size changed\")\n",
    "warnings.filterwarnings(\"ignore\", message=\"numpy.ufunc size changed\")"
   ]
  },
  {
   "cell_type": "code",
   "execution_count": 19,
   "metadata": {},
   "outputs": [],
   "source": [
    "from bertopic import BERTopic"
   ]
  },
  {
   "cell_type": "code",
   "execution_count": 30,
   "metadata": {},
   "outputs": [],
   "source": [
    "model = BERTopic(embedding_model=\"xlm-r-bert-base-nli-stsb-mean-tokens\",nr_topics=10)"
   ]
  },
  {
   "cell_type": "code",
   "execution_count": 31,
   "metadata": {},
   "outputs": [],
   "source": [
    "data_list = list(data.Title)"
   ]
  },
  {
   "cell_type": "code",
   "execution_count": 32,
   "metadata": {},
   "outputs": [],
   "source": [
    "topics, probabilities = model.fit_transform(data_list)"
   ]
  },
  {
   "cell_type": "code",
   "execution_count": 33,
   "metadata": {},
   "outputs": [
    {
     "data": {
      "text/plain": [
       "'Covid-19 masks are dangerous and the obligation to wear them is a crime against humanity'"
      ]
     },
     "execution_count": 33,
     "metadata": {},
     "output_type": "execute_result"
    }
   ],
   "source": [
    "data_list[0]"
   ]
  },
  {
   "cell_type": "code",
   "execution_count": 34,
   "metadata": {},
   "outputs": [],
   "source": [
    "timestamps = data.Date.to_list()"
   ]
  },
  {
   "cell_type": "code",
   "execution_count": 35,
   "metadata": {},
   "outputs": [],
   "source": [
    "topics_over_time = model.topics_over_time(data_list, topics, timestamps)"
   ]
  },
  {
   "cell_type": "code",
   "execution_count": 36,
   "metadata": {},
   "outputs": [
    {
     "data": {
      "text/html": [
       "<div>\n",
       "<style scoped>\n",
       "    .dataframe tbody tr th:only-of-type {\n",
       "        vertical-align: middle;\n",
       "    }\n",
       "\n",
       "    .dataframe tbody tr th {\n",
       "        vertical-align: top;\n",
       "    }\n",
       "\n",
       "    .dataframe thead th {\n",
       "        text-align: right;\n",
       "    }\n",
       "</style>\n",
       "<table border=\"1\" class=\"dataframe\">\n",
       "  <thead>\n",
       "    <tr style=\"text-align: right;\">\n",
       "      <th></th>\n",
       "      <th>Topic</th>\n",
       "      <th>Words</th>\n",
       "      <th>Frequency</th>\n",
       "      <th>Timestamp</th>\n",
       "    </tr>\n",
       "  </thead>\n",
       "  <tbody>\n",
       "    <tr>\n",
       "      <th>0</th>\n",
       "      <td>10</td>\n",
       "      <td>tamil, prayers, rules, lockdown, india</td>\n",
       "      <td>1</td>\n",
       "      <td>2020-01-05</td>\n",
       "    </tr>\n",
       "    <tr>\n",
       "      <th>1</th>\n",
       "      <td>-1</td>\n",
       "      <td>mall, plaza, mandaluyong, shangri, clinics</td>\n",
       "      <td>1</td>\n",
       "      <td>2020-01-14</td>\n",
       "    </tr>\n",
       "    <tr>\n",
       "      <th>2</th>\n",
       "      <td>-1</td>\n",
       "      <td>veracruz, stores, supermarkets, supplies, buy</td>\n",
       "      <td>1</td>\n",
       "      <td>2020-01-18</td>\n",
       "    </tr>\n",
       "    <tr>\n",
       "      <th>3</th>\n",
       "      <td>-1</td>\n",
       "      <td>two, calm, all, happen, 18</td>\n",
       "      <td>1</td>\n",
       "      <td>2020-01-19</td>\n",
       "    </tr>\n",
       "    <tr>\n",
       "      <th>4</th>\n",
       "      <td>-1</td>\n",
       "      <td>market, caused, chinese, new, video</td>\n",
       "      <td>1</td>\n",
       "      <td>2020-01-21</td>\n",
       "    </tr>\n",
       "    <tr>\n",
       "      <th>...</th>\n",
       "      <td>...</td>\n",
       "      <td>...</td>\n",
       "      <td>...</td>\n",
       "      <td>...</td>\n",
       "    </tr>\n",
       "    <tr>\n",
       "      <th>1889</th>\n",
       "      <td>10</td>\n",
       "      <td>finished, vaccinating, argentina, already, all</td>\n",
       "      <td>1</td>\n",
       "      <td>2021-02-26</td>\n",
       "    </tr>\n",
       "    <tr>\n",
       "      <th>1890</th>\n",
       "      <td>223</td>\n",
       "      <td>medication, herbal, treatment, indian, health</td>\n",
       "      <td>1</td>\n",
       "      <td>2021-02-26</td>\n",
       "    </tr>\n",
       "    <tr>\n",
       "      <th>1891</th>\n",
       "      <td>234</td>\n",
       "      <td>mikovits, 2021, 19, cure, hydroxychloroquine</td>\n",
       "      <td>1</td>\n",
       "      <td>2021-02-26</td>\n",
       "    </tr>\n",
       "    <tr>\n",
       "      <th>1892</th>\n",
       "      <td>-1</td>\n",
       "      <td>kirchner, cristina, fernández, argentine, vice</td>\n",
       "      <td>1</td>\n",
       "      <td>2021-02-28</td>\n",
       "    </tr>\n",
       "    <tr>\n",
       "      <th>1893</th>\n",
       "      <td>-1</td>\n",
       "      <td>obligation, crime, romania, dangerous, measures</td>\n",
       "      <td>2</td>\n",
       "      <td>2021-03-01</td>\n",
       "    </tr>\n",
       "  </tbody>\n",
       "</table>\n",
       "<p>1894 rows × 4 columns</p>\n",
       "</div>"
      ],
      "text/plain": [
       "      Topic                                            Words  Frequency  \\\n",
       "0        10           tamil, prayers, rules, lockdown, india          1   \n",
       "1        -1       mall, plaza, mandaluyong, shangri, clinics          1   \n",
       "2        -1    veracruz, stores, supermarkets, supplies, buy          1   \n",
       "3        -1                       two, calm, all, happen, 18          1   \n",
       "4        -1              market, caused, chinese, new, video          1   \n",
       "...     ...                                              ...        ...   \n",
       "1889     10   finished, vaccinating, argentina, already, all          1   \n",
       "1890    223    medication, herbal, treatment, indian, health          1   \n",
       "1891    234     mikovits, 2021, 19, cure, hydroxychloroquine          1   \n",
       "1892     -1   kirchner, cristina, fernández, argentine, vice          1   \n",
       "1893     -1  obligation, crime, romania, dangerous, measures          2   \n",
       "\n",
       "      Timestamp  \n",
       "0    2020-01-05  \n",
       "1    2020-01-14  \n",
       "2    2020-01-18  \n",
       "3    2020-01-19  \n",
       "4    2020-01-21  \n",
       "...         ...  \n",
       "1889 2021-02-26  \n",
       "1890 2021-02-26  \n",
       "1891 2021-02-26  \n",
       "1892 2021-02-28  \n",
       "1893 2021-03-01  \n",
       "\n",
       "[1894 rows x 4 columns]"
      ]
     },
     "execution_count": 36,
     "metadata": {},
     "output_type": "execute_result"
    }
   ],
   "source": [
    "topics_over_time"
   ]
  },
  {
   "cell_type": "code",
   "execution_count": 27,
   "metadata": {},
   "outputs": [
    {
     "data": {
      "application/vnd.plotly.v1+json": {
       "config": {
        "plotlyServerURL": "https://plot.ly"
       },
       "data": [
        {
         "hoverinfo": "text",
         "hovertext": [
          "<b>Topic 9</b><br>Words: liver, bull, fennel, prevention, paulo",
          "<b>Topic 9</b><br>Words: rumors, radio, american, brazil, deaths",
          "<b>Topic 9</b><br>Words: aliexpress, brazil, doctors, novel, hospital",
          "<b>Topic 9</b><br>Words: kachashi, tamaki, danced, prefecture, terrified",
          "<b>Topic 9</b><br>Words: senegalese, president, brazilian, brazil, paulo",
          "<b>Topic 9</b><br>Words: beneficiaries, conditional, brazilian, cash, bolsonaro",
          "<b>Topic 9</b><br>Words: juventus, denies, paulo, brazilian, brazil",
          "<b>Topic 9</b><br>Words: beverage, beer, stops, brazilian, bolsonaro",
          "<b>Topic 9</b><br>Words: brazilian, 26ºc, blessed, fiocruz, universal",
          "<b>Topic 9</b><br>Words: beats, dances, forbids, sterilization, egyptian",
          "<b>Topic 9</b><br>Words: refineries, uber, suspend, closing, brazil",
          "<b>Topic 9</b><br>Words: boyfriend, pensions, brazilian, wandering, brazil",
          "<b>Topic 9</b><br>Words: registration, brazilian, brazil, paulo, rio",
          "<b>Topic 9</b><br>Words: brazilian, healthcare, 20there, brazil, messejana",
          "<b>Topic 9</b><br>Words: brazilian, funk, personality, fees, continue",
          "<b>Topic 9</b><br>Words: sunbathers, copacabana, malaysian, rio, beach",
          "<b>Topic 9</b><br>Words: 320, performed, brazilian, singer, fight",
          "<b>Topic 9</b><br>Words: unemployed, spent, portuguese, ventilators, suicide",
          "<b>Topic 9</b><br>Words: sacked, mobs, 19the, damaging, angry",
          "<b>Topic 9</b><br>Words: decree, paulo, governor, brazilian, brazil",
          "<b>Topic 9</b><br>Words: gasping, doubt, relatives, patient, brazilian",
          "<b>Topic 9</b><br>Words: brazilian, governor, brazil, bolsonaro, 600",
          "<b>Topic 9</b><br>Words: intoxicated, criticized, shortage, brazilian, supermarkets",
          "<b>Topic 9</b><br>Words: contagem, brazilian, minas, distribution, 31",
          "<b>Topic 9</b><br>Words: firing, brazil, businessman, himself, discarding",
          "<b>Topic 9</b><br>Words: brazil, selling, performances, intimidate, brother",
          "<b>Topic 9</b><br>Words: brazilians, restaurants, brazilian, candlelit, gangs",
          "<b>Topic 9</b><br>Words: rudolph, zeballos, novartis, brazilians, roberto",
          "<b>Topic 9</b><br>Words: leftist, brazilian, sudan, criticizes, deputies",
          "<b>Topic 9</b><br>Words: brazil, quarentine, rejected, brazilian, register",
          "<b>Topic 9</b><br>Words: pacaembu, gazolla, paulo, divorced, brazil",
          "<b>Topic 9</b><br>Words: carlos, brazil, rio, brazi, bolsonaro",
          "<b>Topic 9</b><br>Words: bengali, roy, chemist, hydroxychloroquine, dr",
          "<b>Topic 9</b><br>Words: garbage, shelves, portuguese, supermarket, empty",
          "<b>Topic 9</b><br>Words: joggers, rules, odessa, punish, clashes",
          "<b>Topic 9</b><br>Words: disrespected, mistreated, beaten, brazil, brothers",
          "<b>Topic 9</b><br>Words: brazilian, beating, unecessary, rubber, annoys",
          "<b>Topic 9</b><br>Words: brazil, februrary, immobilizing, plummeted, pushed",
          "<b>Topic 9</b><br>Words: mitigate, exaggerated, 600, bolsonaro, aid",
          "<b>Topic 9</b><br>Words: boat, sudanese, embargo, sudan, imposed",
          "<b>Topic 9</b><br>Words: brazil, bolsonaro, paulo, araçatuba, motorbike",
          "<b>Topic 9</b><br>Words: brazil, rates, paulo, leite, corticosteroids",
          "<b>Topic 9</b><br>Words: rio, revelead, audits, inflate, brazil",
          "<b>Topic 9</b><br>Words: brazilian, brazil, econômica, 187, nelson",
          "<b>Topic 9</b><br>Words: perpetrate, gown, producer, frauds, gloves",
          "<b>Topic 9</b><br>Words: mortal, brasilian, danger, tests, chinese",
          "<b>Topic 9</b><br>Words: gunfire, globonews, ghebreyesus, criminal, imported",
          "<b>Topic 9</b><br>Words: brazil, empty, manaus, crisis, panic",
          "<b>Topic 9</b><br>Words: bolsonaro, brazilian, brazil, manaus, porto",
          "<b>Topic 9</b><br>Words: brazil, brazilian, empty, coffins, barbalho",
          "<b>Topic 9</b><br>Words: drivers, brazilian, police, brazil, paulo",
          "<b>Topic 9</b><br>Words: coffin, instead, empty, body, brazil",
          "<b>Topic 9</b><br>Words: sewing, motorcycles, driving, cars, registry",
          "<b>Topic 9</b><br>Words: amazonas, brazil, hasselmann, brazilian, nelson",
          "<b>Topic 9</b><br>Words: guarulhos, brazilian, pharmacists, monthly, amazonas",
          "<b>Topic 9</b><br>Words: wood, unearthed, cemetery, trucks, federal",
          "<b>Topic 9</b><br>Words: manaus, decreased, merchants, brazil, nelson",
          "<b>Topic 9</b><br>Words: brazilian, brazil, piauí, 2019, registry",
          "<b>Topic 9</b><br>Words: disapproval, brazil, campinas, dismantled, paulo",
          "<b>Topic 9</b><br>Words: malls, shut, showrooms, moulding, 2016",
          "<b>Topic 9</b><br>Words: graves, paulo, brazilian, mandetta, tamiflu",
          "<b>Topic 9</b><br>Words: moinhos, brazilial, odessa, riot, refusing",
          "<b>Topic 9</b><br>Words: inspectors, henrique, brazil, scam, left",
          "<b>Topic 9</b><br>Words: botafogo, clean, rio, brazil, water",
          "<b>Topic 9</b><br>Words: rio, wilson, money, hcpm, hospitals",
          "<b>Topic 9</b><br>Words: calmly, dugstores, forging, tucked, sand",
          "<b>Topic 9</b><br>Words: paulo, monster, 995, mayor, brasil",
          "<b>Topic 9</b><br>Words: 600, willian, itaperuna, wealthy, brazil",
          "<b>Topic 9</b><br>Words: paraguay, latin, fewer, paulo, brazilian",
          "<b>Topic 9</b><br>Words: saluting, protesters, isolation, paulo, brazilian",
          "<b>Topic 9</b><br>Words: 450, brahma, bars, bankrupt, 16",
          "<b>Topic 9</b><br>Words: lunch, rio, restaurant, disregards, disregarding",
          "<b>Topic 9</b><br>Words: bankrupcy, surfer, frauds, brasil, brazil",
          "<b>Topic 9</b><br>Words: 215, 193, fuel, energy, bahia",
          "<b>Topic 9</b><br>Words: 29, brazil, pneumonia, brazilian, paulo",
          "<b>Topic 9</b><br>Words: 177, reduced, rio, death, brazilian",
          "<b>Topic 9</b><br>Words: 31, 90, brazil, federal, 30",
          "<b>Topic 9</b><br>Words: vasconcellos, maria, azithromycin, treated, cured",
          "<b>Topic 9</b><br>Words: brazilia, brasil, rio, lack, closed",
          "<b>Topic 9</b><br>Words: brazilian, suspect, genocide, fernando, candidate",
          "<b>Topic 9</b><br>Words: favelas, funk, sanitizers, sand, bottles",
          "<b>Topic 9</b><br>Words: defrauded, commits, guests, brazilian, greek",
          "<b>Topic 9</b><br>Words: meals, twice, paulo, governor, deaths",
          "<b>Topic 9</b><br>Words: dancing, gachibowli, cricket, grandmother, brazilian",
          "<b>Topic 9</b><br>Words: copacabana, graveyard, dancing, centers, beach",
          "<b>Topic 9</b><br>Words: brazailian, dancing, covid19, empty, mumbai",
          "<b>Topic 9</b><br>Words: contract, august, dancing, scam, brazilian",
          "<b>Topic 9</b><br>Words: nightclub, dances, ghebreyesus, parliament, brazilian",
          "<b>Topic 9</b><br>Words: seizing, brazilian, respirators, prorrogating, expletives",
          "<b>Topic 9</b><br>Words: brazilian, brazil, cheering, bullrich, tested",
          "<b>Topic 9</b><br>Words: hampering, brazil, brazilian, municipalities, 250",
          "<b>Topic 9</b><br>Words: closing, lack, nurses, brazil, hospital",
          "<b>Topic 9</b><br>Words: camilo, criticized, respirators, treatment, brazilian",
          "<b>Topic 9</b><br>Words: lottery, stealing, closes, ward, lack",
          "<b>Topic 9</b><br>Words: 18, brazilian, registered, 200, brazil",
          "<b>Topic 9</b><br>Words: infirm, hidroxychloroquine, prohibited, empty, emergency",
          "<b>Topic 9</b><br>Words: paulo, banned, drug, chloroquine, brazilian",
          "<b>Topic 9</b><br>Words: farce, brazilian, deceased, far, hoax",
          "<b>Topic 9</b><br>Words: responsability, court, combating, determine, brazilian",
          "<b>Topic 9</b><br>Words: row, rui, fired, 38, easily",
          "<b>Topic 9</b><br>Words: propane, liquigás, canisters, energy, brazilian",
          "<b>Topic 9</b><br>Words: decrease, brazil, brazilian, paulo, rio",
          "<b>Topic 9</b><br>Words: appealed, dismissed, bahia, chloroquine, brazilian",
          "<b>Topic 9</b><br>Words: murders, prisioners, bed, 13, brazilian",
          "<b>Topic 9</b><br>Words: inquiry, philosophy, mendes, sergio, lunch",
          "<b>Topic 9</b><br>Words: multiplication, pregnancy, nitazoxanide, economist, abortion",
          "<b>Topic 9</b><br>Words: application, portuguese, brazilian, brazil, paulo",
          "<b>Topic 9</b><br>Words: chadox1, brazilian, dances, fiocruz, bar",
          "<b>Topic 9</b><br>Words: brasil, park, porto, removed, brazil",
          "<b>Topic 9</b><br>Words: 2019, rather, decreased, brazil, lower",
          "<b>Topic 9</b><br>Words: methane, cows, fiocruz, greenhouse, emissions",
          "<b>Topic 9</b><br>Words: brazilian, blew, prefectures, tube, rui",
          "<b>Topic 9</b><br>Words: distorted, separate, contaminate, graphics, manipulate",
          "<b>Topic 9</b><br>Words: uruguay, 55, medecine, brazil, brazilian",
          "<b>Topic 9</b><br>Words: denounced, brazilian, wasteful, fraudulent, 396",
          "<b>Topic 9</b><br>Words: fetus, aborted, brazil, tested, coronavac",
          "<b>Topic 9</b><br>Words: begging, detention, lima, dying, philippine",
          "<b>Topic 9</b><br>Words: volunteer, fevers, marie, cheap, brazilian",
          "<b>Topic 9</b><br>Words: swollen, volunteer, coronavac, brazilian, brazil",
          "<b>Topic 9</b><br>Words: cartoon, catarina, boycott, brazilian, lockdowns",
          "<b>Topic 9</b><br>Words: eduardo, drop, leite, kicillof, hydroxichloroquine",
          "<b>Topic 9</b><br>Words: ambulaces, license, parking, ambulances, costa",
          "<b>Topic 9</b><br>Words: catarina, sales, boycott, 30, brazilian",
          "<b>Topic 9</b><br>Words: imports, 78, boycott, brazil, chinese",
          "<b>Topic 9</b><br>Words: incint, inácio, luís, decreeing, minas",
          "<b>Topic 9</b><br>Words: rio, august, brazilian, lima, trains",
          "<b>Topic 9</b><br>Words: purchases, 78, boycott, slowed, decreased",
          "<b>Topic 9</b><br>Words: hydroxichloroquine, porto, single, 50, brazil",
          "<b>Topic 9</b><br>Words: brazilian, camila, pitanga, malaria, contracted",
          "<b>Topic 9</b><br>Words: medecin, mayors, capsules, paulo, brazilian",
          "<b>Topic 9</b><br>Words: antiethical, hundred, 100, brazilian, brazil",
          "<b>Topic 9</b><br>Words: catarina, sales, boycott, isolated, paulo",
          "<b>Topic 9</b><br>Words: decline, chloroquine, lancet, paulo, brazilian",
          "<b>Topic 9</b><br>Words: barbecue, quinta, buses, argentine, paulo",
          "<b>Topic 9</b><br>Words: pitanga, camila, incorrect, malaria, brazilian",
          "<b>Topic 9</b><br>Words: useless, vaccines, brazil, china, brazilian",
          "<b>Topic 9</b><br>Words: directs, bury, blame, brazilian, brazil",
          "<b>Topic 9</b><br>Words: dino, father, funeral, aglomeration, funerals",
          "<b>Topic 9</b><br>Words: ipanema, agglomeration, rio, beach, august",
          "<b>Topic 9</b><br>Words: crowded, beach, rio, brazilian, brazil",
          "<b>Topic 9</b><br>Words: rousseff, teachers, brazilian, solution, students",
          "<b>Topic 9</b><br>Words: brazilians, drop, swedish, suffer, left",
          "<b>Topic 9</b><br>Words: azitromicin, drops, hydroxichloroquine, beaches, brazil",
          "<b>Topic 9</b><br>Words: hydroxichloroquine, deputies, bahia, rio, federal",
          "<b>Topic 9</b><br>Words: cubans, venezuelans, argentinians, brazilians, poor",
          "<b>Topic 9</b><br>Words: homeless, brazil, three, killed, died",
          "<b>Topic 9</b><br>Words: azithromycin, drugs, hydroxychloroquine, brazilian, brazil",
          "<b>Topic 9</b><br>Words: parked, parking, cars, rio, cannot",
          "<b>Topic 9</b><br>Words: companies, brazilian, china, brazil, rio",
          "<b>Topic 9</b><br>Words: conde, guinean, alpha, politicians, argentina",
          "<b>Topic 9</b><br>Words: handcuffs, dictatorship, policemen, protest, french",
          "<b>Topic 9</b><br>Words: teach, teachers, reduced, classes, 25",
          "<b>Topic 9</b><br>Words: droppped, beacause, rio, brazilian, brazil",
          "<b>Topic 9</b><br>Words: federal, municipalities, politicians, half, money",
          "<b>Topic 9</b><br>Words: younger, 35, education, paulo, old",
          "<b>Topic 9</b><br>Words: coffins, mayor, paulo, brazilian, brazil",
          "<b>Topic 9</b><br>Words: fails, contaminate, paulo, governor, coronavac",
          "<b>Topic 9</b><br>Words: mandatory, brazil, brazilian, paulo, rio",
          "<b>Topic 9</b><br>Words: trial, brazil, brazilian, paulo, rio",
          "<b>Topic 9</b><br>Words: trials, clinical, brazil, tested, vaccines",
          "<b>Topic 9</b><br>Words: trials, brazilian, doctor, brazil, paulo",
          "<b>Topic 9</b><br>Words: brazilians, herd, animals, immunity, brazil",
          "<b>Topic 9</b><br>Words: forbids, brazilian, vaccination, law, brazil",
          "<b>Topic 9</b><br>Words: regulatory, directors, brazilian, brazil, paulo",
          "<b>Topic 9</b><br>Words: brazil, china, brazilian, paulo, rio",
          "<b>Topic 9</b><br>Words: trials, clinical, brazilian, brazil, death",
          "<b>Topic 9</b><br>Words: election, brazilian, brazil, paulo, rio",
          "<b>Topic 9</b><br>Words: paulo, chinese, brazilian, brazil, rio",
          "<b>Topic 9</b><br>Words: 2009, brazil, flu, brazilian, paulo",
          "<b>Topic 9</b><br>Words: cologne, spahn, 250, portugal, brazilian",
          "<b>Topic 9</b><br>Words: petition, camila, pitanga, activist, actress",
          "<b>Topic 9</b><br>Words: illegal, portuguese, confinement, court, brazilian",
          "<b>Topic 9</b><br>Words: porto, zero, brazil, hydroxychloroquine, deaths",
          "<b>Topic 9</b><br>Words: baixada, santista, restrictive, commercial, lists",
          "<b>Topic 9</b><br>Words: boulos, einstein, albert, expensive, hospitals",
          "<b>Topic 9</b><br>Words: deadly, brazil, vaccination, brazilian, paulo",
          "<b>Topic 9</b><br>Words: single, brazilian, brazil, paulo, rio",
          "<b>Topic 9</b><br>Words: bribes, paulo, governor, chinese, brazilian",
          "<b>Topic 9</b><br>Words: soccer, catch, illegal, paulo, brazil",
          "<b>Topic 9</b><br>Words: suicidal, cancer, coronavac, brazil, 10",
          "<b>Topic 9</b><br>Words: ghebreyesus, armed, leader, arrested, large",
          "<b>Topic 9</b><br>Words: unconstitutional, 2018, brazilian, vaccination, brazil",
          "<b>Topic 9</b><br>Words: presidents, refused, paulo, brazilian, brazil",
          "<b>Topic 9</b><br>Words: drawing, destruction, egyptian, brazilian, brazil",
          "<b>Topic 9</b><br>Words: 22, paulo, brazilian, brazil, governor",
          "<b>Topic 9</b><br>Words: serum, brazilian, brazil, paulo, rio",
          "<b>Topic 9</b><br>Words: vasconcelos, agglomerating, caetano, actors, journalist",
          "<b>Topic 9</b><br>Words: caetano, maria, dancing, 2019, brazilian",
          "<b>Topic 9</b><br>Words: horse, brasil, serum, plasma, 100",
          "<b>Topic 9</b><br>Words: dancing, indonesia, without, health, brazilian",
          "<b>Topic 9</b><br>Words: mocked, doria, paulo, brazilian, brazil",
          "<b>Topic 9</b><br>Words: martins, brazillian, immunized, amazonas, forbade",
          "<b>Topic 9</b><br>Words: ignoring, immunized, cuts, soccer, brazilian",
          "<b>Topic 9</b><br>Words: jaraguá, com, man, vaccinated, old",
          "<b>Topic 9</b><br>Words: bolsonaro, carlos, rio, military, hospital",
          "<b>Topic 9</b><br>Words: fabio, stocks, owns, paulo, governor",
          "<b>Topic 9</b><br>Words: biotech, brazilian, 20, president, brazil",
          "<b>Topic 9</b><br>Words: negotiation, billboards, english, colombian, paulo",
          "<b>Topic 9</b><br>Words: bauru, denied, paulo, brazil, vaccines",
          "<b>Topic 9</b><br>Words: libertadores, final, paulo, without, brazilian",
          "<b>Topic 9</b><br>Words: rollerskating, leblon, rio, without, brazilian",
          "<b>Topic 9</b><br>Words: brasília, strife, bauru, billboards, mayor",
          "<b>Topic 9</b><br>Words: azitromicin, hidroxychloroquine, eduardo, amazonas, decreased",
          "<b>Topic 9</b><br>Words: amazonas, 99, brazilian, death, health",
          "<b>Topic 9</b><br>Words: flamengo, mariana, billboards, 400, paid",
          "<b>Topic 9</b><br>Words: biologist, natália, brazilian, treatment, brazil",
          "<b>Topic 9</b><br>Words: drivers, traffic, military, without, brazilian"
         ],
         "marker": {
          "color": "#E69F00"
         },
         "mode": "lines",
         "name": "9_brazilian_brazil_paulo_rio",
         "type": "scatter",
         "x": [
          "2020-01-26T00:00:00",
          "2020-01-27T00:00:00",
          "2020-02-05T00:00:00",
          "2020-02-12T00:00:00",
          "2020-03-10T00:00:00",
          "2020-03-12T00:00:00",
          "2020-03-13T00:00:00",
          "2020-03-16T00:00:00",
          "2020-03-17T00:00:00",
          "2020-03-18T00:00:00",
          "2020-03-19T00:00:00",
          "2020-03-20T00:00:00",
          "2020-03-21T00:00:00",
          "2020-03-22T00:00:00",
          "2020-03-23T00:00:00",
          "2020-03-24T00:00:00",
          "2020-03-25T00:00:00",
          "2020-03-26T00:00:00",
          "2020-03-27T00:00:00",
          "2020-03-28T00:00:00",
          "2020-03-29T00:00:00",
          "2020-03-30T00:00:00",
          "2020-03-31T00:00:00",
          "2020-04-01T00:00:00",
          "2020-04-02T00:00:00",
          "2020-04-03T00:00:00",
          "2020-04-04T00:00:00",
          "2020-04-05T00:00:00",
          "2020-04-06T00:00:00",
          "2020-04-07T00:00:00",
          "2020-04-08T00:00:00",
          "2020-04-09T00:00:00",
          "2020-04-10T00:00:00",
          "2020-04-12T00:00:00",
          "2020-04-13T00:00:00",
          "2020-04-14T00:00:00",
          "2020-04-15T00:00:00",
          "2020-04-17T00:00:00",
          "2020-04-18T00:00:00",
          "2020-04-19T00:00:00",
          "2020-04-20T00:00:00",
          "2020-04-22T00:00:00",
          "2020-04-23T00:00:00",
          "2020-04-24T00:00:00",
          "2020-04-25T00:00:00",
          "2020-04-26T00:00:00",
          "2020-04-27T00:00:00",
          "2020-04-28T00:00:00",
          "2020-04-29T00:00:00",
          "2020-04-30T00:00:00",
          "2020-05-01T00:00:00",
          "2020-05-02T00:00:00",
          "2020-05-04T00:00:00",
          "2020-05-05T00:00:00",
          "2020-05-06T00:00:00",
          "2020-05-07T00:00:00",
          "2020-05-08T00:00:00",
          "2020-05-11T00:00:00",
          "2020-05-12T00:00:00",
          "2020-05-13T00:00:00",
          "2020-05-14T00:00:00",
          "2020-05-15T00:00:00",
          "2020-05-16T00:00:00",
          "2020-05-17T00:00:00",
          "2020-05-18T00:00:00",
          "2020-05-19T00:00:00",
          "2020-05-20T00:00:00",
          "2020-05-21T00:00:00",
          "2020-05-22T00:00:00",
          "2020-05-24T00:00:00",
          "2020-05-25T00:00:00",
          "2020-05-26T00:00:00",
          "2020-05-28T00:00:00",
          "2020-05-29T00:00:00",
          "2020-06-01T00:00:00",
          "2020-06-02T00:00:00",
          "2020-06-03T00:00:00",
          "2020-06-04T00:00:00",
          "2020-06-05T00:00:00",
          "2020-06-08T00:00:00",
          "2020-06-09T00:00:00",
          "2020-06-10T00:00:00",
          "2020-06-11T00:00:00",
          "2020-06-12T00:00:00",
          "2020-06-13T00:00:00",
          "2020-06-14T00:00:00",
          "2020-06-15T00:00:00",
          "2020-06-16T00:00:00",
          "2020-06-17T00:00:00",
          "2020-06-18T00:00:00",
          "2020-06-19T00:00:00",
          "2020-06-22T00:00:00",
          "2020-06-23T00:00:00",
          "2020-06-24T00:00:00",
          "2020-06-25T00:00:00",
          "2020-06-26T00:00:00",
          "2020-06-29T00:00:00",
          "2020-06-30T00:00:00",
          "2020-07-01T00:00:00",
          "2020-07-02T00:00:00",
          "2020-07-03T00:00:00",
          "2020-07-06T00:00:00",
          "2020-07-07T00:00:00",
          "2020-07-08T00:00:00",
          "2020-07-09T00:00:00",
          "2020-07-10T00:00:00",
          "2020-07-11T00:00:00",
          "2020-07-13T00:00:00",
          "2020-07-14T00:00:00",
          "2020-07-15T00:00:00",
          "2020-07-16T00:00:00",
          "2020-07-17T00:00:00",
          "2020-07-20T00:00:00",
          "2020-07-21T00:00:00",
          "2020-07-22T00:00:00",
          "2020-07-23T00:00:00",
          "2020-07-24T00:00:00",
          "2020-07-27T00:00:00",
          "2020-07-28T00:00:00",
          "2020-07-30T00:00:00",
          "2020-07-31T00:00:00",
          "2020-08-03T00:00:00",
          "2020-08-04T00:00:00",
          "2020-08-05T00:00:00",
          "2020-08-06T00:00:00",
          "2020-08-07T00:00:00",
          "2020-08-10T00:00:00",
          "2020-08-11T00:00:00",
          "2020-08-12T00:00:00",
          "2020-08-13T00:00:00",
          "2020-08-14T00:00:00",
          "2020-08-17T00:00:00",
          "2020-08-18T00:00:00",
          "2020-08-19T00:00:00",
          "2020-08-21T00:00:00",
          "2020-08-24T00:00:00",
          "2020-08-25T00:00:00",
          "2020-08-27T00:00:00",
          "2020-08-31T00:00:00",
          "2020-09-01T00:00:00",
          "2020-09-02T00:00:00",
          "2020-09-03T00:00:00",
          "2020-09-04T00:00:00",
          "2020-09-08T00:00:00",
          "2020-09-10T00:00:00",
          "2020-09-14T00:00:00",
          "2020-09-16T00:00:00",
          "2020-09-17T00:00:00",
          "2020-09-22T00:00:00",
          "2020-09-23T00:00:00",
          "2020-09-26T00:00:00",
          "2020-09-29T00:00:00",
          "2020-09-30T00:00:00",
          "2020-10-02T00:00:00",
          "2020-10-09T00:00:00",
          "2020-10-13T00:00:00",
          "2020-10-19T00:00:00",
          "2020-10-20T00:00:00",
          "2020-10-21T00:00:00",
          "2020-10-22T00:00:00",
          "2020-10-23T00:00:00",
          "2020-10-26T00:00:00",
          "2020-10-27T00:00:00",
          "2020-10-29T00:00:00",
          "2020-10-30T00:00:00",
          "2020-11-13T00:00:00",
          "2020-11-14T00:00:00",
          "2020-11-15T00:00:00",
          "2020-11-17T00:00:00",
          "2020-11-21T00:00:00",
          "2020-11-23T00:00:00",
          "2020-11-24T00:00:00",
          "2020-11-27T00:00:00",
          "2020-12-01T00:00:00",
          "2020-12-04T00:00:00",
          "2020-12-06T00:00:00",
          "2020-12-07T00:00:00",
          "2020-12-10T00:00:00",
          "2020-12-11T00:00:00",
          "2020-12-15T00:00:00",
          "2020-12-17T00:00:00",
          "2020-12-21T00:00:00",
          "2020-12-22T00:00:00",
          "2020-12-23T00:00:00",
          "2020-12-30T00:00:00",
          "2021-01-04T00:00:00",
          "2021-01-05T00:00:00",
          "2021-01-06T00:00:00",
          "2021-01-07T00:00:00",
          "2021-01-11T00:00:00",
          "2021-01-14T00:00:00",
          "2021-01-18T00:00:00",
          "2021-01-19T00:00:00",
          "2021-01-20T00:00:00",
          "2021-01-22T00:00:00",
          "2021-01-26T00:00:00",
          "2021-01-27T00:00:00",
          "2021-01-28T00:00:00",
          "2021-01-29T00:00:00",
          "2021-02-01T00:00:00",
          "2021-02-02T00:00:00",
          "2021-02-04T00:00:00",
          "2021-02-08T00:00:00",
          "2021-02-09T00:00:00",
          "2021-02-10T00:00:00",
          "2021-02-11T00:00:00",
          "2021-02-24T00:00:00"
         ],
         "y": [
          1,
          1,
          2,
          1,
          2,
          2,
          1,
          2,
          4,
          2,
          2,
          4,
          1,
          7,
          5,
          2,
          2,
          3,
          2,
          1,
          2,
          10,
          3,
          4,
          6,
          6,
          8,
          3,
          4,
          5,
          5,
          7,
          1,
          1,
          6,
          7,
          6,
          6,
          2,
          2,
          7,
          8,
          3,
          4,
          2,
          1,
          2,
          3,
          4,
          12,
          1,
          1,
          5,
          5,
          5,
          2,
          5,
          6,
          5,
          4,
          5,
          3,
          3,
          1,
          5,
          4,
          6,
          5,
          2,
          1,
          3,
          5,
          4,
          3,
          2,
          1,
          2,
          2,
          3,
          4,
          2,
          4,
          2,
          6,
          3,
          2,
          5,
          2,
          7,
          11,
          4,
          1,
          1,
          2,
          8,
          2,
          1,
          2,
          3,
          3,
          3,
          1,
          1,
          2,
          3,
          3,
          1,
          3,
          2,
          2,
          4,
          5,
          2,
          3,
          5,
          3,
          2,
          3,
          2,
          3,
          4,
          1,
          1,
          1,
          3,
          5,
          2,
          1,
          8,
          3,
          4,
          2,
          3,
          2,
          1,
          1,
          1,
          3,
          2,
          1,
          2,
          2,
          3,
          2,
          1,
          3,
          1,
          1,
          1,
          3,
          1,
          1,
          1,
          1,
          1,
          1,
          2,
          1,
          1,
          1,
          1,
          2,
          2,
          1,
          1,
          2,
          1,
          1,
          1,
          2,
          1,
          1,
          1,
          3,
          1,
          1,
          1,
          1,
          1,
          1,
          2,
          1,
          1,
          1,
          1,
          1,
          2,
          3,
          1,
          1,
          1,
          3,
          2,
          2,
          1,
          1,
          1,
          2,
          1,
          1,
          1,
          2,
          2,
          1,
          2,
          1,
          1
         ]
        },
        {
         "hoverinfo": "text",
         "hovertext": [
          "<b>Topic 62</b><br>Words: collapsing, lost, hospital, died, infected",
          "<b>Topic 62</b><br>Words: bites, hyderabad, doctor, died, coffins",
          "<b>Topic 62</b><br>Words: dying, collapses, mall, shopping, patients",
          "<b>Topic 62</b><br>Words: fainted, collapsing, doctor, infected, died",
          "<b>Topic 62</b><br>Words: falling, doctor, patient, coffins, dead",
          "<b>Topic 62</b><br>Words: doctor, coffins, dead, died, falling",
          "<b>Topic 62</b><br>Words: fainting, doctor, infected, patient, coffins",
          "<b>Topic 62</b><br>Words: chow, leslie, surgery, cremated, victim",
          "<b>Topic 62</b><br>Words: infection, doctors, infected, doctor, coffins",
          "<b>Topic 62</b><br>Words: sickbed, murdered, autopsy, doctor, coffins",
          "<b>Topic 62</b><br>Words: couple, elderly, chinese, hospital, doctor",
          "<b>Topic 62</b><br>Words: burned, doctor, coffins, dead, died",
          "<b>Topic 62</b><br>Words: liang, wedding, chinese, coffins, dead",
          "<b>Topic 62</b><br>Words: funeral, couple, elderly, hospital, chinese",
          "<b>Topic 62</b><br>Words: died, infected, doctor, patient, coffins",
          "<b>Topic 62</b><br>Words: turkey, infected, coffins, dead, died",
          "<b>Topic 62</b><br>Words: bodies, hospital, doctor, coffins, dead",
          "<b>Topic 62</b><br>Words: murdered, novel, doctor, coffins, dead",
          "<b>Topic 62</b><br>Words: dying, doctor, coffins, dead, died",
          "<b>Topic 62</b><br>Words: dead, infected, doctor, coffins, died",
          "<b>Topic 62</b><br>Words: drops, dead, doctor, coffins, died",
          "<b>Topic 62</b><br>Words: killed, infected, doctor, coffins, dead",
          "<b>Topic 62</b><br>Words: guru, yoga, ramdev, drops, dead",
          "<b>Topic 62</b><br>Words: warfare, intensive, respirators, audio, madrid",
          "<b>Topic 62</b><br>Words: crematoriums, hospitals, doctor, coffins, dead",
          "<b>Topic 62</b><br>Words: actor, died, doctor, coffins, dead",
          "<b>Topic 62</b><br>Words: collapses, doctor, coffins, dead, died",
          "<b>Topic 62</b><br>Words: coffins, died, doctor, patient, dead",
          "<b>Topic 62</b><br>Words: falling, doctor, coffins, dead, died",
          "<b>Topic 62</b><br>Words: coffins, treating, dead, doctor, died",
          "<b>Topic 62</b><br>Words: dying, killed, died, doctor, coffins",
          "<b>Topic 62</b><br>Words: pakistani, death, doctor, patient, coffins",
          "<b>Topic 62</b><br>Words: madrasas, scholar, suffers, refused, pakistan",
          "<b>Topic 62</b><br>Words: crying, dr, doctor, died, patient",
          "<b>Topic 62</b><br>Words: treating, suicide, died, patients, infected",
          "<b>Topic 62</b><br>Words: coffins, victims, doctor, patient, dead",
          "<b>Topic 62</b><br>Words: suicide, infected, doctor, coffins, dead",
          "<b>Topic 62</b><br>Words: doctor, died, patient, coffins, dead",
          "<b>Topic 62</b><br>Words: treating, dr, doctor, patients, patient",
          "<b>Topic 62</b><br>Words: coffins, barcelona, dead, madrid, hospitals",
          "<b>Topic 62</b><br>Words: mortuary, death, died, infected, hospital",
          "<b>Topic 62</b><br>Words: convoy, cars, bodies, dead, hospital",
          "<b>Topic 62</b><br>Words: mary, coffins, victims, hospital, doctor",
          "<b>Topic 62</b><br>Words: bags, turkey, deaths, doctor, lockdown",
          "<b>Topic 62</b><br>Words: sikh, suicide, infected, doctor, patient",
          "<b>Topic 62</b><br>Words: crowded, barcelona, corpses, madrid, coffins",
          "<b>Topic 62</b><br>Words: crying, hospital, infected, doctor, patient",
          "<b>Topic 62</b><br>Words: rows, medical, doctor, coffins, dead",
          "<b>Topic 62</b><br>Words: bodies, died, doctor, coffins, dead",
          "<b>Topic 62</b><br>Words: neck, cuts, doctor, coffins, dead",
          "<b>Topic 62</b><br>Words: fighting, doctor, patient, coffins, dead",
          "<b>Topic 62</b><br>Words: ulcer, newsflashng, com, pregnant, wife",
          "<b>Topic 62</b><br>Words: coronavírus, crying, mother, dead, infected",
          "<b>Topic 62</b><br>Words: 72, pakistani, prayers, closed, doctor",
          "<b>Topic 62</b><br>Words: wrapped, dozens, victims, bodies, dead",
          "<b>Topic 62</b><br>Words: died, doctor, patient, coffins, dead",
          "<b>Topic 62</b><br>Words: trucks, bodies, dead, coffins, died",
          "<b>Topic 62</b><br>Words: killed, doctor, patient, coffins, dead",
          "<b>Topic 62</b><br>Words: wait, tension, 14, doctor, coffins",
          "<b>Topic 62</b><br>Words: collapses, doctor, coffins, dead, died",
          "<b>Topic 62</b><br>Words: killing, doctor, patient, coffins, dead",
          "<b>Topic 62</b><br>Words: rss, religion, lost, doctor, coffins",
          "<b>Topic 62</b><br>Words: treating, doctor, died, hospital, patients",
          "<b>Topic 62</b><br>Words: desperate, mother, lost, patient, coffins",
          "<b>Topic 62</b><br>Words: marry, doctor, infected, coffins, dead",
          "<b>Topic 62</b><br>Words: 80, dead, virus, doctor, coffins",
          "<b>Topic 62</b><br>Words: killed, doctor, health, patient, coffins",
          "<b>Topic 62</b><br>Words: chroma, deaths, doctor, coffins, dead",
          "<b>Topic 62</b><br>Words: infection, doctor, coffins, dead, died",
          "<b>Topic 62</b><br>Words: mortuary, bodies, dead, hospital, doctor",
          "<b>Topic 62</b><br>Words: zipper, corpse, viral, coffins, dead",
          "<b>Topic 62</b><br>Words: lyricist, celebrity, died, doctor, patient",
          "<b>Topic 62</b><br>Words: comedian, died, doctor, patient, coffins",
          "<b>Topic 62</b><br>Words: died, doctor, patient, coffins, dead",
          "<b>Topic 62</b><br>Words: procession, funeral, doctor, patient, coffins",
          "<b>Topic 62</b><br>Words: collapsed, accident, death, coffins, dead",
          "<b>Topic 62</b><br>Words: doctors, died, infected, hospital, doctor",
          "<b>Topic 62</b><br>Words: kidney, deceased, patient, hospital, doctor",
          "<b>Topic 62</b><br>Words: kidney, patient, medical, hospital, doctor",
          "<b>Topic 62</b><br>Words: singer, doctor, patient, coffins, dead",
          "<b>Topic 62</b><br>Words: kidney, patient, doctor, coffins, dead",
          "<b>Topic 62</b><br>Words: kidney, patient, doctor, coffins, dead",
          "<b>Topic 62</b><br>Words: doctor, died, patient, coffins, dead",
          "<b>Topic 62</b><br>Words: deceased, rs, doctor, patient, coffins",
          "<b>Topic 62</b><br>Words: georgia, death, disease, died, virus",
          "<b>Topic 62</b><br>Words: punctured, doctor, patient, coffins, dead",
          "<b>Topic 62</b><br>Words: patient, doctor, coffins, dead, died",
          "<b>Topic 62</b><br>Words: lorries, transporting, coffins, doctor, dead",
          "<b>Topic 62</b><br>Words: coffins, victims, doctor, patient, dead",
          "<b>Topic 62</b><br>Words: vaccineted, doctor, died, coffins, dead",
          "<b>Topic 62</b><br>Words: coronavac, died, doctor, coffins, dead",
          "<b>Topic 62</b><br>Words: disfunction, vaccinethe, lying, immunity, hospital",
          "<b>Topic 62</b><br>Words: died, doctor, patient, coffins, dead"
         ],
         "marker": {
          "color": "#56B4E9"
         },
         "mode": "lines",
         "name": "62_doctor_patient_coffins_dead",
         "type": "scatter",
         "x": [
          "2020-01-27T00:00:00",
          "2020-01-28T00:00:00",
          "2020-01-29T00:00:00",
          "2020-01-30T00:00:00",
          "2020-02-01T00:00:00",
          "2020-02-02T00:00:00",
          "2020-02-03T00:00:00",
          "2020-02-04T00:00:00",
          "2020-02-06T00:00:00",
          "2020-02-08T00:00:00",
          "2020-02-12T00:00:00",
          "2020-02-17T00:00:00",
          "2020-02-18T00:00:00",
          "2020-02-19T00:00:00",
          "2020-02-22T00:00:00",
          "2020-02-24T00:00:00",
          "2020-02-27T00:00:00",
          "2020-03-02T00:00:00",
          "2020-03-04T00:00:00",
          "2020-03-06T00:00:00",
          "2020-03-09T00:00:00",
          "2020-03-10T00:00:00",
          "2020-03-11T00:00:00",
          "2020-03-12T00:00:00",
          "2020-03-13T00:00:00",
          "2020-03-15T00:00:00",
          "2020-03-16T00:00:00",
          "2020-03-17T00:00:00",
          "2020-03-18T00:00:00",
          "2020-03-20T00:00:00",
          "2020-03-21T00:00:00",
          "2020-03-24T00:00:00",
          "2020-03-25T00:00:00",
          "2020-03-27T00:00:00",
          "2020-03-28T00:00:00",
          "2020-03-29T00:00:00",
          "2020-03-30T00:00:00",
          "2020-03-31T00:00:00",
          "2020-04-01T00:00:00",
          "2020-04-02T00:00:00",
          "2020-04-03T00:00:00",
          "2020-04-04T00:00:00",
          "2020-04-06T00:00:00",
          "2020-04-07T00:00:00",
          "2020-04-10T00:00:00",
          "2020-04-11T00:00:00",
          "2020-04-12T00:00:00",
          "2020-04-13T00:00:00",
          "2020-04-14T00:00:00",
          "2020-04-16T00:00:00",
          "2020-04-18T00:00:00",
          "2020-04-19T00:00:00",
          "2020-04-20T00:00:00",
          "2020-04-21T00:00:00",
          "2020-04-26T00:00:00",
          "2020-04-29T00:00:00",
          "2020-05-06T00:00:00",
          "2020-05-07T00:00:00",
          "2020-05-12T00:00:00",
          "2020-05-14T00:00:00",
          "2020-05-15T00:00:00",
          "2020-05-20T00:00:00",
          "2020-05-21T00:00:00",
          "2020-05-23T00:00:00",
          "2020-05-27T00:00:00",
          "2020-06-11T00:00:00",
          "2020-06-18T00:00:00",
          "2020-06-23T00:00:00",
          "2020-06-26T00:00:00",
          "2020-06-27T00:00:00",
          "2020-06-30T00:00:00",
          "2020-07-12T00:00:00",
          "2020-07-21T00:00:00",
          "2020-07-23T00:00:00",
          "2020-08-08T00:00:00",
          "2020-08-14T00:00:00",
          "2020-08-16T00:00:00",
          "2020-08-19T00:00:00",
          "2020-08-25T00:00:00",
          "2020-08-26T00:00:00",
          "2020-08-29T00:00:00",
          "2020-09-02T00:00:00",
          "2020-09-07T00:00:00",
          "2020-09-28T00:00:00",
          "2020-09-29T00:00:00",
          "2020-10-23T00:00:00",
          "2020-11-03T00:00:00",
          "2020-11-13T00:00:00",
          "2020-12-04T00:00:00",
          "2021-01-13T00:00:00",
          "2021-01-27T00:00:00",
          "2021-02-11T00:00:00",
          "2021-02-12T00:00:00"
         ],
         "y": [
          2,
          3,
          5,
          4,
          2,
          1,
          3,
          8,
          3,
          1,
          2,
          1,
          2,
          3,
          1,
          2,
          1,
          3,
          1,
          1,
          1,
          1,
          2,
          2,
          1,
          1,
          1,
          2,
          1,
          3,
          2,
          1,
          4,
          2,
          3,
          1,
          1,
          1,
          1,
          4,
          3,
          2,
          2,
          2,
          2,
          1,
          1,
          1,
          2,
          1,
          1,
          2,
          2,
          1,
          1,
          1,
          1,
          1,
          1,
          1,
          1,
          1,
          1,
          1,
          1,
          1,
          1,
          1,
          1,
          1,
          1,
          1,
          1,
          1,
          1,
          2,
          1,
          1,
          1,
          1,
          1,
          1,
          1,
          1,
          1,
          1,
          1,
          1,
          1,
          1,
          1,
          1,
          1
         ]
        },
        {
         "hoverinfo": "text",
         "hovertext": [
          "<b>Topic 95</b><br>Words: centuries, pandemics, several, billions, millions",
          "<b>Topic 95</b><br>Words: authors, 65, 2019, kill, hundreds",
          "<b>Topic 95</b><br>Words: 31, 500, thousands, hundreds, twitter",
          "<b>Topic 95</b><br>Words: farts, airports, stations, temperatures, infrared",
          "<b>Topic 95</b><br>Words: breakinguk, updates, full, hundreds, virus",
          "<b>Topic 95</b><br>Words: 20th, epidemics, 100, every, spread",
          "<b>Topic 95</b><br>Words: illness, 400, pneumonia, published, spread",
          "<b>Topic 95</b><br>Words: 2016, coincide, 2004, outbreaks, 2018",
          "<b>Topic 95</b><br>Words: contagion, 50, every, multiple, thousands",
          "<b>Topic 95</b><br>Words: sponsored, patient, facebook, shared, twitter",
          "<b>Topic 95</b><br>Words: global, reveal, 96, twitter, distributed",
          "<b>Topic 95</b><br>Words: election, every, outbreak, thousands, hundreds",
          "<b>Topic 95</b><br>Words: outbreaks, pandemics, shaman, 600, youtube",
          "<b>Topic 95</b><br>Words: 1920, 165, wipe, 1918, hundreds",
          "<b>Topic 95</b><br>Words: seizing, shares, thousands, facebook, infected",
          "<b>Topic 95</b><br>Words: shelves, barren, fully, stocked, meme",
          "<b>Topic 95</b><br>Words: erupting, reddit, fire, sparked, explosion",
          "<b>Topic 95</b><br>Words: rawalpindi, junction, locking, disclosing, paramedics",
          "<b>Topic 95</b><br>Words: 1720, 1919, cleans, pandemia, formula",
          "<b>Topic 95</b><br>Words: pumps, petrol, lists, thousands, companies",
          "<b>Topic 95</b><br>Words: pack, rescue, practitioners, thousands, medication",
          "<b>Topic 95</b><br>Words: donations, packets, millions, food, youtube",
          "<b>Topic 95</b><br>Words: thousands, verses, hotline, multiple, hundreds",
          "<b>Topic 95</b><br>Words: lorries, fleet, pakistan, funerals, burials",
          "<b>Topic 95</b><br>Words: thailand, repeatedly, extinction, rebellion, multiple",
          "<b>Topic 95</b><br>Words: skating, rink, widely, ice, australian",
          "<b>Topic 95</b><br>Words: scandal, parents, crying, 20, beds",
          "<b>Topic 95</b><br>Words: exclusively, multiple, publish, shared, hundreds",
          "<b>Topic 95</b><br>Words: drone, consumer, scaring, pasta, ghost",
          "<b>Topic 95</b><br>Words: methods, autopsies, invented, rapid, victims",
          "<b>Topic 95</b><br>Words: lootings, languages, strewn, websites, shared",
          "<b>Topic 95</b><br>Words: korea, japan, multiple, philippines, boxes",
          "<b>Topic 95</b><br>Words: webpage, vips, exclusively, messaging, thailand",
          "<b>Topic 95</b><br>Words: shaking, violently, lying, ramaphosa, grocery",
          "<b>Topic 95</b><br>Words: suicide, weibo, thousands, nationwide, food",
          "<b>Topic 95</b><br>Words: emirates, exploited, sharjah, traces, spice",
          "<b>Topic 95</b><br>Words: outlawed, assaulted, weibo, ramaphosa, disaster",
          "<b>Topic 95</b><br>Words: singapore, april, 2020, facebook, thousands",
          "<b>Topic 95</b><br>Words: growing, storming, thousands, mob, woman",
          "<b>Topic 95</b><br>Words: guinea, praying, youtube, shared, novel",
          "<b>Topic 95</b><br>Words: salad, permitted, blogs, twitter, sit",
          "<b>Topic 95</b><br>Words: apprehending, thousands, men, patient, facebook",
          "<b>Topic 95</b><br>Words: coworker, exhausted, cremated, funeral, thousands",
          "<b>Topic 95</b><br>Words: blister, overworked, sites, cremated, repeatedly",
          "<b>Topic 95</b><br>Words: killed, multiple, thousands, shared, facebook",
          "<b>Topic 95</b><br>Words: 290, weibo, banknotes, repeatedly, election",
          "<b>Topic 95</b><br>Words: euthanising, corpses, elderly, thousands, death",
          "<b>Topic 95</b><br>Words: salons, dozens, 50, hundreds, victims",
          "<b>Topic 95</b><br>Words: ingesting, 2016, vendors, philippine, youtube",
          "<b>Topic 95</b><br>Words: three, scientists, vaccination, shared, facebook",
          "<b>Topic 95</b><br>Words: aids, crowded, beach, hundreds, africa",
          "<b>Topic 95</b><br>Words: euthanised, elderly, shooting, hundreds, bodies",
          "<b>Topic 95</b><br>Words: calgary, crowded, volunteers, breaking, canada",
          "<b>Topic 95</b><br>Words: 128, invoice, repeatedly, oxford, trial",
          "<b>Topic 95</b><br>Words: app, australia, hundreds, shared, facebook",
          "<b>Topic 95</b><br>Words: shortages, jennifer, grain, sacks, parrots",
          "<b>Topic 95</b><br>Words: sydney, improved, quality, comments, shared",
          "<b>Topic 95</b><br>Words: parade, saudi, instagram, youtube, multiple",
          "<b>Topic 95</b><br>Words: shrubs, overgrown, park, malaysia, twitter",
          "<b>Topic 95</b><br>Words: meal, enjoyed, evening, dozens, pakistani",
          "<b>Topic 95</b><br>Words: tattoos, holocaust, 160, victims, 000",
          "<b>Topic 95</b><br>Words: antiviral, remdesivir, hundreds, medicine, treatment",
          "<b>Topic 95</b><br>Words: salons, anthony, strike, november, began",
          "<b>Topic 95</b><br>Words: eight, prayers, thousands, contracting, boy",
          "<b>Topic 95</b><br>Words: thailand, category, index, ranked, lowest",
          "<b>Topic 95</b><br>Words: 1950, outbreaks, list, hundreds, 2019",
          "<b>Topic 95</b><br>Words: herbal, madagascar, remedy, hundreds, donald",
          "<b>Topic 95</b><br>Words: slickly, eradicating, congratulating, sloth, discredited",
          "<b>Topic 95</b><br>Words: distributed, repeatedly, multiple, twitter, shared",
          "<b>Topic 95</b><br>Words: fatalities, plans, nationwide, influenza, prevention",
          "<b>Topic 95</b><br>Words: provincial, unable, exam, refuses, pakistani",
          "<b>Topic 95</b><br>Words: hundreds, plane, passengers, texas, attacking",
          "<b>Topic 95</b><br>Words: authorises, twitter, repeatedly, rates, kingdom",
          "<b>Topic 95</b><br>Words: banknotes, babies, philanthropist, billionaire, australian",
          "<b>Topic 95</b><br>Words: rumours, rivals, alleging, blogger, sudan",
          "<b>Topic 95</b><br>Words: chiquimula, guatemala, networks, death, multiple",
          "<b>Topic 95</b><br>Words: battles, infections, shared, facebook, multiple",
          "<b>Topic 95</b><br>Words: remedy, youtube, salt, twitter, shared",
          "<b>Topic 95</b><br>Words: skyrocketing, suicide, multiple, thousands, hundreds",
          "<b>Topic 95</b><br>Words: puncture, lifts, insect, wounds, several",
          "<b>Topic 95</b><br>Words: virtual, philanthropist, multiple, billionaire, capital",
          "<b>Topic 95</b><br>Words: intubated, chest, surgery, thousands, heart",
          "<b>Topic 95</b><br>Words: insect, bite, chaos, attack, deadly",
          "<b>Topic 95</b><br>Words: virologist, list, spread, multiple, twitter",
          "<b>Topic 95</b><br>Words: android, aerial, automatically, google, application",
          "<b>Topic 95</b><br>Words: swabbed, noses, throats, meme, politicians",
          "<b>Topic 95</b><br>Words: baswedan, governor, best, youtube, facebook",
          "<b>Topic 95</b><br>Words: africa, 100, years, spanish, thousands",
          "<b>Topic 95</b><br>Words: raped, webpage, stabbed, measles, websites",
          "<b>Topic 95</b><br>Words: lawsuits, facebook, thousands, hundreds, pandemic",
          "<b>Topic 95</b><br>Words: canada, thousands, shared, facebook, multiple",
          "<b>Topic 95</b><br>Words: overflow, beds, thousands, hospital, facebook",
          "<b>Topic 95</b><br>Words: lawsuits, facebook, thousands, hundreds, repeatedly",
          "<b>Topic 95</b><br>Words: vitamins, diet, sunlight, treatments, remedies",
          "<b>Topic 95</b><br>Words: everytime, google, blog, creating, users",
          "<b>Topic 95</b><br>Words: banking, banco, personal, link, argentine",
          "<b>Topic 95</b><br>Words: toronto, communion, canadian, banned, facebook",
          "<b>Topic 95</b><br>Words: hazard, thousands, shared, facebook, hundreds",
          "<b>Topic 95</b><br>Words: undertakers, burying, funerals, corpse, thousand",
          "<b>Topic 95</b><br>Words: residences, zealand, candidate, elections, military",
          "<b>Topic 95</b><br>Words: ukrainian, lugansk, kharkiv, participating, trials",
          "<b>Topic 95</b><br>Words: stories, fraud, boy, facebook, died",
          "<b>Topic 95</b><br>Words: inflamed, tonsils, circulating, facebook, thousands",
          "<b>Topic 95</b><br>Words: protesters, circulating, media, thousands, hundreds",
          "<b>Topic 95</b><br>Words: exempted, washington, funeral, georgia, risk",
          "<b>Topic 95</b><br>Words: hundreds, 2005, websites, treatments, coronaviruses",
          "<b>Topic 95</b><br>Words: australia, between, flu, facebook, multiple",
          "<b>Topic 95</b><br>Words: guards, host, fox, 50, news",
          "<b>Topic 95</b><br>Words: australian, radio, broadcast, 25, homes",
          "<b>Topic 95</b><br>Words: consecutive, 100th, hindu, zealand, temple",
          "<b>Topic 95</b><br>Words: auckland, bubble, tourists, zealand, august",
          "<b>Topic 95</b><br>Words: parent, lawsuits, canada, parliament, school",
          "<b>Topic 95</b><br>Words: conspiracies, television, australian, multiple, facebook",
          "<b>Topic 95</b><br>Words: chiang, posted, novel, multiple, thousands",
          "<b>Topic 95</b><br>Words: popstar, visualization, knew, microbes, penetrate",
          "<b>Topic 95</b><br>Words: email, hospitals, viral, thousands, hundreds",
          "<b>Topic 95</b><br>Words: attack, 20, bill, multiple, hundreds",
          "<b>Topic 95</b><br>Words: nationwide, combat, virus, lockdown, thousands",
          "<b>Topic 95</b><br>Words: suicides, celebrities, 250, instagram, 200",
          "<b>Topic 95</b><br>Words: certificates, microsoft, networks, vaccines, shared"
         ],
         "marker": {
          "color": "#009E73"
         },
         "mode": "lines",
         "name": "95_multiple_thousands_hundreds_twitter",
         "type": "scatter",
         "x": [
          "2020-01-29T00:00:00",
          "2020-01-30T00:00:00",
          "2020-01-31T00:00:00",
          "2020-02-05T00:00:00",
          "2020-02-11T00:00:00",
          "2020-02-13T00:00:00",
          "2020-02-27T00:00:00",
          "2020-02-28T00:00:00",
          "2020-03-05T00:00:00",
          "2020-03-06T00:00:00",
          "2020-03-07T00:00:00",
          "2020-03-10T00:00:00",
          "2020-03-12T00:00:00",
          "2020-03-13T00:00:00",
          "2020-03-14T00:00:00",
          "2020-03-15T00:00:00",
          "2020-03-18T00:00:00",
          "2020-03-19T00:00:00",
          "2020-03-20T00:00:00",
          "2020-03-21T00:00:00",
          "2020-03-22T00:00:00",
          "2020-03-23T00:00:00",
          "2020-03-24T00:00:00",
          "2020-03-25T00:00:00",
          "2020-03-26T00:00:00",
          "2020-03-27T00:00:00",
          "2020-03-28T00:00:00",
          "2020-03-29T00:00:00",
          "2020-03-30T00:00:00",
          "2020-03-31T00:00:00",
          "2020-04-01T00:00:00",
          "2020-04-02T00:00:00",
          "2020-04-03T00:00:00",
          "2020-04-04T00:00:00",
          "2020-04-05T00:00:00",
          "2020-04-06T00:00:00",
          "2020-04-07T00:00:00",
          "2020-04-08T00:00:00",
          "2020-04-09T00:00:00",
          "2020-04-10T00:00:00",
          "2020-04-11T00:00:00",
          "2020-04-12T00:00:00",
          "2020-04-13T00:00:00",
          "2020-04-14T00:00:00",
          "2020-04-15T00:00:00",
          "2020-04-18T00:00:00",
          "2020-04-19T00:00:00",
          "2020-04-20T00:00:00",
          "2020-04-21T00:00:00",
          "2020-04-22T00:00:00",
          "2020-04-23T00:00:00",
          "2020-04-24T00:00:00",
          "2020-04-25T00:00:00",
          "2020-04-26T00:00:00",
          "2020-04-27T00:00:00",
          "2020-04-28T00:00:00",
          "2020-04-29T00:00:00",
          "2020-05-01T00:00:00",
          "2020-05-02T00:00:00",
          "2020-05-03T00:00:00",
          "2020-05-04T00:00:00",
          "2020-05-05T00:00:00",
          "2020-05-06T00:00:00",
          "2020-05-07T00:00:00",
          "2020-05-08T00:00:00",
          "2020-05-09T00:00:00",
          "2020-05-10T00:00:00",
          "2020-05-11T00:00:00",
          "2020-05-12T00:00:00",
          "2020-05-14T00:00:00",
          "2020-05-15T00:00:00",
          "2020-05-16T00:00:00",
          "2020-05-17T00:00:00",
          "2020-05-18T00:00:00",
          "2020-05-21T00:00:00",
          "2020-05-22T00:00:00",
          "2020-05-23T00:00:00",
          "2020-05-24T00:00:00",
          "2020-05-26T00:00:00",
          "2020-05-27T00:00:00",
          "2020-05-30T00:00:00",
          "2020-05-31T00:00:00",
          "2020-06-04T00:00:00",
          "2020-06-05T00:00:00",
          "2020-06-06T00:00:00",
          "2020-06-07T00:00:00",
          "2020-06-10T00:00:00",
          "2020-06-11T00:00:00",
          "2020-06-12T00:00:00",
          "2020-06-13T00:00:00",
          "2020-06-14T00:00:00",
          "2020-06-15T00:00:00",
          "2020-06-16T00:00:00",
          "2020-06-22T00:00:00",
          "2020-06-24T00:00:00",
          "2020-07-06T00:00:00",
          "2020-07-08T00:00:00",
          "2020-07-16T00:00:00",
          "2020-07-21T00:00:00",
          "2020-07-22T00:00:00",
          "2020-07-27T00:00:00",
          "2020-07-28T00:00:00",
          "2020-07-31T00:00:00",
          "2020-08-01T00:00:00",
          "2020-08-02T00:00:00",
          "2020-08-03T00:00:00",
          "2020-08-05T00:00:00",
          "2020-08-06T00:00:00",
          "2020-08-07T00:00:00",
          "2020-08-08T00:00:00",
          "2020-08-12T00:00:00",
          "2020-08-15T00:00:00",
          "2020-08-17T00:00:00",
          "2020-08-18T00:00:00",
          "2020-08-26T00:00:00",
          "2020-09-25T00:00:00",
          "2020-09-27T00:00:00",
          "2020-11-15T00:00:00",
          "2020-11-20T00:00:00",
          "2021-02-15T00:00:00"
         ],
         "y": [
          3,
          1,
          1,
          1,
          2,
          1,
          1,
          2,
          2,
          1,
          4,
          1,
          4,
          3,
          1,
          2,
          2,
          3,
          3,
          2,
          9,
          3,
          9,
          4,
          5,
          8,
          2,
          6,
          2,
          2,
          3,
          2,
          2,
          4,
          2,
          3,
          3,
          1,
          3,
          2,
          3,
          2,
          1,
          3,
          1,
          2,
          1,
          2,
          2,
          1,
          2,
          4,
          2,
          2,
          1,
          2,
          2,
          1,
          1,
          2,
          1,
          1,
          2,
          3,
          4,
          1,
          1,
          3,
          1,
          2,
          3,
          4,
          2,
          2,
          2,
          1,
          1,
          1,
          1,
          3,
          2,
          4,
          2,
          1,
          2,
          2,
          1,
          1,
          2,
          1,
          1,
          1,
          1,
          2,
          2,
          1,
          1,
          1,
          1,
          1,
          1,
          1,
          1,
          1,
          1,
          2,
          1,
          2,
          1,
          1,
          1,
          2,
          1,
          1,
          3,
          1,
          1,
          1,
          1,
          1
         ]
        },
        {
         "hoverinfo": "text",
         "hovertext": [
          "<b>Topic 230</b><br>Words: virus, tests, sweden, immune, isolated",
          "<b>Topic 230</b><br>Words: disinfectant, immune, children, tests, never",
          "<b>Topic 230</b><br>Words: ghana, never, immune, without, isolated",
          "<b>Topic 230</b><br>Words: resistant, tests, never, immune, isolated",
          "<b>Topic 230</b><br>Words: resistant, skin, african, never, immune",
          "<b>Topic 230</b><br>Words: warm, tests, sweden, sars, immune",
          "<b>Topic 230</b><br>Words: tests, asymptomatic, never, sweden, immune",
          "<b>Topic 230</b><br>Words: screening, sputum, runny, fewer, nothing",
          "<b>Topic 230</b><br>Words: avoids, smokers, free, never, immune",
          "<b>Topic 230</b><br>Words: mortuary, care, novel, infected, pcr",
          "<b>Topic 230</b><br>Words: disinfectant, nothing, sanitizer, virus, tests",
          "<b>Topic 230</b><br>Words: expert, efficient, ebola, professor, risk",
          "<b>Topic 230</b><br>Words: cold, doctor, tests, never, sweden",
          "<b>Topic 230</b><br>Words: conspiracy, profit, pharmaceutical, dangerous, outbreak",
          "<b>Topic 230</b><br>Words: denmark, israel, cure, china, tests",
          "<b>Topic 230</b><br>Words: soldiers, busy, 37, everybody, immune",
          "<b>Topic 230</b><br>Words: deadly, virus, tests, detect, immune",
          "<b>Topic 230</b><br>Words: low, greece, complications, danger, refused",
          "<b>Topic 230</b><br>Words: nothing, asymptomatic, never, immune, without",
          "<b>Topic 230</b><br>Words: russia, tests, detect, asymptomatic, sweden",
          "<b>Topic 230</b><br>Words: immune, tests, sweden, isolated, dangerous",
          "<b>Topic 230</b><br>Words: diamond, princess, dangerous, tests, detect",
          "<b>Topic 230</b><br>Words: lockdowns, israel, without, tests, never",
          "<b>Topic 230</b><br>Words: malaria, steve, sisolak, nevada, banned",
          "<b>Topic 230</b><br>Words: problem, strain, best, israel, isolation",
          "<b>Topic 230</b><br>Words: arresting, authorities, spanish, tests, never",
          "<b>Topic 230</b><br>Words: nitrogen, dutch, tiny, agricultural, sector",
          "<b>Topic 230</b><br>Words: tries, fake, dangerous, tests, sweden",
          "<b>Topic 230</b><br>Words: catch, management, citizen, less, alcohol",
          "<b>Topic 230</b><br>Words: madagascar, without, only, never, sweden",
          "<b>Topic 230</b><br>Words: afraid, few, infected, tests, asymptomatic",
          "<b>Topic 230</b><br>Words: magnitude, worldwide, pandemics, diseases, tests",
          "<b>Topic 230</b><br>Words: fewer, coronaviruses, four, vaccination, media",
          "<b>Topic 230</b><br>Words: nude, statue, danish, failed, donald",
          "<b>Topic 230</b><br>Words: aerosols, tests, asymptomatic, sars, immune",
          "<b>Topic 230</b><br>Words: herbalist, herbs, heal, drugs, allowed",
          "<b>Topic 230</b><br>Words: pills, arbidol, saved, medication, johnson",
          "<b>Topic 230</b><br>Words: iron, excessive, pneumonia, tests, asymptomatic",
          "<b>Topic 230</b><br>Words: denmark, norway, worse, sweden, never",
          "<b>Topic 230</b><br>Words: profitable, deborah, normal, private, lack",
          "<b>Topic 230</b><br>Words: nor, therapy, corona, isolation, text",
          "<b>Topic 230</b><br>Words: deadly, corona, virus, tests, never",
          "<b>Topic 230</b><br>Words: thrombosis, pneumonia, virus, tests, asymptomatic",
          "<b>Topic 230</b><br>Words: madagascar, tests, sweden, immune, isolated",
          "<b>Topic 230</b><br>Words: disposable, gloves, tests, detect, asymptomatic",
          "<b>Topic 230</b><br>Words: belarus, quarantine, tests, sweden, immune",
          "<b>Topic 230</b><br>Words: belarus, quarantine, tests, asymptomatic, sweden",
          "<b>Topic 230</b><br>Words: remain, registry, 12, total, respiratory",
          "<b>Topic 230</b><br>Words: tests, asymptomatic, sweden, immune, isolated",
          "<b>Topic 230</b><br>Words: flu, tests, asymptomatic, never, sweden",
          "<b>Topic 230</b><br>Words: bacterium, thrombosis, pneumonia, tests, kill",
          "<b>Topic 230</b><br>Words: worldalcohol, antibiotics, cure, virus, health",
          "<b>Topic 230</b><br>Words: pass, nothing, hoax, gates, without",
          "<b>Topic 230</b><br>Words: unlike, 2003, panic, quarantine, tests",
          "<b>Topic 230</b><br>Words: tests, never, sweden, immune, isolated",
          "<b>Topic 230</b><br>Words: discourage, health, masks, tests, asymptomatic",
          "<b>Topic 230</b><br>Words: tests, sweden, immune, isolated, dangerous",
          "<b>Topic 230</b><br>Words: socialist, tests, detect, sweden, immune",
          "<b>Topic 230</b><br>Words: transmit, never, infection, patients, lockdown",
          "<b>Topic 230</b><br>Words: rarely, contagious, tests, sweden, immune",
          "<b>Topic 230</b><br>Words: asymptomatic, spread, tests, detect, sweden",
          "<b>Topic 230</b><br>Words: epidemic, tests, only, never, pandemic",
          "<b>Topic 230</b><br>Words: few, testing, tests, detect, asymptomatic",
          "<b>Topic 230</b><br>Words: tests, asymptomatic, sweden, immune, isolated",
          "<b>Topic 230</b><br>Words: bacterial, infection, virus, tests, immune",
          "<b>Topic 230</b><br>Words: afraid, few, tests, asymptomatic, immune",
          "<b>Topic 230</b><br>Words: own, tests, asymptomatic, never, immune",
          "<b>Topic 230</b><br>Words: pandemicthe, stakhiv, tests, detect, asymptomatic",
          "<b>Topic 230</b><br>Words: proving, transmit, 26, scientific, asymptomatic",
          "<b>Topic 230</b><br>Words: europe, doctor, tests, never, sweden",
          "<b>Topic 230</b><br>Words: transmit, infectious, asymptomatic, tests, detect",
          "<b>Topic 230</b><br>Words: verifying, pathologists, sars, identify, antibodies",
          "<b>Topic 230</b><br>Words: infections, test, doctor, tests, asymptomatic",
          "<b>Topic 230</b><br>Words: asymptomatic, immune, virus, tests, detect",
          "<b>Topic 230</b><br>Words: tools, doubt, tests, detect, never",
          "<b>Topic 230</b><br>Words: inventor, measles, ebola, cannot, test",
          "<b>Topic 230</b><br>Words: lockdowns, tests, asymptomatic, sweden, immune",
          "<b>Topic 230</b><br>Words: churches, tests, never, sweden, immune",
          "<b>Topic 230</b><br>Words: liabilities, procuders, coats, never, white",
          "<b>Topic 230</b><br>Words: strains, pointless, mutations, tests, never",
          "<b>Topic 230</b><br>Words: sweden, unnecessary, few, proves, other",
          "<b>Topic 230</b><br>Words: sweden, never, spain, italy, tests",
          "<b>Topic 230</b><br>Words: euskadi, biologists, chemistry, dean, college",
          "<b>Topic 230</b><br>Words: immune, tests, sweden, isolated, dangerous",
          "<b>Topic 230</b><br>Words: detect, pcr, tests, asymptomatic, sweden",
          "<b>Topic 230</b><br>Words: inventing, detection, winner, prize, nobel",
          "<b>Topic 230</b><br>Words: infect, picky, famous, tests, never",
          "<b>Topic 230</b><br>Words: karl, friston, immune, found, tests",
          "<b>Topic 230</b><br>Words: polymerase, inventor, pcr, detect, viruses",
          "<b>Topic 230</b><br>Words: detect, pcr, tests, asymptomatic, sweden",
          "<b>Topic 230</b><br>Words: susceptible, supermarket, infection, tests, never",
          "<b>Topic 230</b><br>Words: scientifically, proven, tests, detect, immune",
          "<b>Topic 230</b><br>Words: medical, tests, immune, isolated, dangerous",
          "<b>Topic 230</b><br>Words: fail, isolated, prevention, tests, disease",
          "<b>Topic 230</b><br>Words: inappropriately, testing, test, virus, tests",
          "<b>Topic 230</b><br>Words: purification, contagious, cells, created, virus",
          "<b>Topic 230</b><br>Words: aerial, mosquitoes, bacterium, spraying, epidemic",
          "<b>Topic 230</b><br>Words: dangerous, tests, flu, disease, asymptomatic",
          "<b>Topic 230</b><br>Words: droplets, airborne, antibodies, proven, transmitted",
          "<b>Topic 230</b><br>Words: disrespecting, detecting, distance, without, no",
          "<b>Topic 230</b><br>Words: tests, never, sweden, immune, isolated",
          "<b>Topic 230</b><br>Words: computer, reliable, test, only, virus",
          "<b>Topic 230</b><br>Words: deceased, infections, virus, pcr, tests",
          "<b>Topic 230</b><br>Words: kingdom, vaccines, tests, asymptomatic, never",
          "<b>Topic 230</b><br>Words: seasonal, deadly, dangerous, flu, health",
          "<b>Topic 230</b><br>Words: masons, iraq, invented, virus, tests",
          "<b>Topic 230</b><br>Words: chlorine, dioxide, tests, detect, asymptomatic",
          "<b>Topic 230</b><br>Words: sweden, restrictions, mandatory, other, masks",
          "<b>Topic 230</b><br>Words: thrombosis, pneumonia, tests, asymptomatic, immune",
          "<b>Topic 230</b><br>Words: cdcs, sarscov2, denied, tests, infected",
          "<b>Topic 230</b><br>Words: failed, campaign, tests, never, immune",
          "<b>Topic 230</b><br>Words: estonia, 98, medication, treat, tests",
          "<b>Topic 230</b><br>Words: isolated, never, tests, sweden, immune",
          "<b>Topic 230</b><br>Words: 99, sars, tests, asymptomatic, sweden",
          "<b>Topic 230</b><br>Words: fewer, spain, tests, asymptomatic, sweden",
          "<b>Topic 230</b><br>Words: infect, detect, asymptomatic, cannot, immune",
          "<b>Topic 230</b><br>Words: research, scientists, tests, sweden, immune",
          "<b>Topic 230</b><br>Words: vaccines, pandemic, tests, asymptomatic, immune",
          "<b>Topic 230</b><br>Words: aids, common, cancer, sars, flu",
          "<b>Topic 230</b><br>Words: syringe, needle, never, vaccination, cure",
          "<b>Topic 230</b><br>Words: boris, scientists, tests, detect, never",
          "<b>Topic 230</b><br>Words: faucci, anthony, fauci, vaccinated, pcr",
          "<b>Topic 230</b><br>Words: efficacy, safety, coronavac, tests, asymptomatic",
          "<b>Topic 230</b><br>Words: futile, detection, detect, tests, asymptomatic",
          "<b>Topic 230</b><br>Words: doubted, efficacy, coronavac, tests, never",
          "<b>Topic 230</b><br>Words: lethality, lowest, protocol, treatment, tests",
          "<b>Topic 230</b><br>Words: vaccined, injection, pcr, tests, asymptomatic",
          "<b>Topic 230</b><br>Words: harmless, protocols, wrong, herd, sweden",
          "<b>Topic 230</b><br>Words: syringe, needle, vaccinated, vaccination, tests"
         ],
         "marker": {
          "color": "#F0E442"
         },
         "mode": "lines",
         "name": "230_tests_never_sweden_immune",
         "type": "scatter",
         "x": [
          "2020-02-01T00:00:00",
          "2020-02-05T00:00:00",
          "2020-02-06T00:00:00",
          "2020-02-17T00:00:00",
          "2020-02-19T00:00:00",
          "2020-02-27T00:00:00",
          "2020-03-01T00:00:00",
          "2020-03-02T00:00:00",
          "2020-03-04T00:00:00",
          "2020-03-06T00:00:00",
          "2020-03-09T00:00:00",
          "2020-03-10T00:00:00",
          "2020-03-11T00:00:00",
          "2020-03-12T00:00:00",
          "2020-03-13T00:00:00",
          "2020-03-14T00:00:00",
          "2020-03-16T00:00:00",
          "2020-03-17T00:00:00",
          "2020-03-18T00:00:00",
          "2020-03-20T00:00:00",
          "2020-03-22T00:00:00",
          "2020-03-23T00:00:00",
          "2020-03-24T00:00:00",
          "2020-03-25T00:00:00",
          "2020-03-27T00:00:00",
          "2020-03-29T00:00:00",
          "2020-03-30T00:00:00",
          "2020-03-31T00:00:00",
          "2020-04-02T00:00:00",
          "2020-04-03T00:00:00",
          "2020-04-05T00:00:00",
          "2020-04-06T00:00:00",
          "2020-04-07T00:00:00",
          "2020-04-08T00:00:00",
          "2020-04-13T00:00:00",
          "2020-04-16T00:00:00",
          "2020-04-17T00:00:00",
          "2020-04-18T00:00:00",
          "2020-04-19T00:00:00",
          "2020-04-20T00:00:00",
          "2020-04-23T00:00:00",
          "2020-04-27T00:00:00",
          "2020-04-29T00:00:00",
          "2020-04-30T00:00:00",
          "2020-05-07T00:00:00",
          "2020-05-09T00:00:00",
          "2020-05-12T00:00:00",
          "2020-05-13T00:00:00",
          "2020-05-15T00:00:00",
          "2020-05-16T00:00:00",
          "2020-05-17T00:00:00",
          "2020-05-19T00:00:00",
          "2020-05-21T00:00:00",
          "2020-05-22T00:00:00",
          "2020-05-24T00:00:00",
          "2020-05-25T00:00:00",
          "2020-05-26T00:00:00",
          "2020-06-05T00:00:00",
          "2020-06-09T00:00:00",
          "2020-06-10T00:00:00",
          "2020-06-11T00:00:00",
          "2020-06-12T00:00:00",
          "2020-06-15T00:00:00",
          "2020-06-17T00:00:00",
          "2020-06-18T00:00:00",
          "2020-06-19T00:00:00",
          "2020-06-23T00:00:00",
          "2020-06-25T00:00:00",
          "2020-06-26T00:00:00",
          "2020-07-02T00:00:00",
          "2020-07-05T00:00:00",
          "2020-07-06T00:00:00",
          "2020-07-22T00:00:00",
          "2020-07-23T00:00:00",
          "2020-07-28T00:00:00",
          "2020-07-30T00:00:00",
          "2020-07-31T00:00:00",
          "2020-08-02T00:00:00",
          "2020-08-04T00:00:00",
          "2020-08-06T00:00:00",
          "2020-08-07T00:00:00",
          "2020-08-09T00:00:00",
          "2020-08-10T00:00:00",
          "2020-08-11T00:00:00",
          "2020-08-13T00:00:00",
          "2020-08-14T00:00:00",
          "2020-08-17T00:00:00",
          "2020-08-18T00:00:00",
          "2020-08-23T00:00:00",
          "2020-08-31T00:00:00",
          "2020-09-01T00:00:00",
          "2020-09-04T00:00:00",
          "2020-09-10T00:00:00",
          "2020-09-11T00:00:00",
          "2020-09-18T00:00:00",
          "2020-09-20T00:00:00",
          "2020-09-21T00:00:00",
          "2020-09-24T00:00:00",
          "2020-09-29T00:00:00",
          "2020-10-01T00:00:00",
          "2020-10-08T00:00:00",
          "2020-10-10T00:00:00",
          "2020-10-13T00:00:00",
          "2020-10-16T00:00:00",
          "2020-10-20T00:00:00",
          "2020-10-22T00:00:00",
          "2020-10-23T00:00:00",
          "2020-10-26T00:00:00",
          "2020-10-29T00:00:00",
          "2020-10-30T00:00:00",
          "2020-11-03T00:00:00",
          "2020-11-06T00:00:00",
          "2020-11-11T00:00:00",
          "2020-11-23T00:00:00",
          "2020-11-24T00:00:00",
          "2020-11-26T00:00:00",
          "2020-11-29T00:00:00",
          "2020-12-03T00:00:00",
          "2020-12-13T00:00:00",
          "2020-12-27T00:00:00",
          "2021-01-04T00:00:00",
          "2021-01-14T00:00:00",
          "2021-01-15T00:00:00",
          "2021-01-21T00:00:00",
          "2021-01-22T00:00:00",
          "2021-01-25T00:00:00",
          "2021-01-27T00:00:00",
          "2021-02-05T00:00:00",
          "2021-02-10T00:00:00"
         ],
         "y": [
          2,
          3,
          1,
          1,
          1,
          1,
          1,
          3,
          2,
          1,
          3,
          2,
          1,
          1,
          2,
          1,
          2,
          3,
          1,
          1,
          1,
          1,
          2,
          2,
          2,
          1,
          2,
          1,
          3,
          1,
          1,
          1,
          2,
          2,
          1,
          1,
          2,
          1,
          1,
          2,
          1,
          1,
          1,
          1,
          1,
          1,
          1,
          1,
          1,
          1,
          4,
          2,
          2,
          1,
          1,
          1,
          1,
          1,
          3,
          1,
          1,
          1,
          1,
          1,
          1,
          1,
          1,
          1,
          2,
          1,
          1,
          1,
          1,
          1,
          1,
          2,
          1,
          2,
          3,
          1,
          1,
          1,
          2,
          1,
          1,
          1,
          1,
          1,
          1,
          1,
          1,
          1,
          1,
          1,
          1,
          1,
          1,
          2,
          2,
          2,
          1,
          1,
          1,
          1,
          1,
          1,
          1,
          1,
          1,
          2,
          1,
          1,
          1,
          1,
          1,
          2,
          1,
          1,
          1,
          2,
          1,
          2,
          1,
          2,
          1,
          1,
          1,
          2,
          1
         ]
        },
        {
         "hoverinfo": "text",
         "hovertext": [
          "<b>Topic 22</b><br>Words: frankfurt, germany, virus, german, germans",
          "<b>Topic 22</b><br>Words: germans, quarantined, german, germany, koch",
          "<b>Topic 22</b><br>Words: german, germany, germans, pandemic, markus",
          "<b>Topic 22</b><br>Words: germany, german, masks, koch, germans",
          "<b>Topic 22</b><br>Words: germany, german, pandemic, germans, markus",
          "<b>Topic 22</b><br>Words: wolfgang, bioweapon, german, germany, germans",
          "<b>Topic 22</b><br>Words: görlitz, asylum, germany, german, germans",
          "<b>Topic 22</b><br>Words: german, germany, koch, germans, markus",
          "<b>Topic 22</b><br>Words: supermarkets, germany, week, german, 130",
          "<b>Topic 22</b><br>Words: refugees, medically, attempt, german, germany",
          "<b>Topic 22</b><br>Words: jobcenters, unemployed, germany, german, germans",
          "<b>Topic 22</b><br>Words: desinfect, grams, koch, german, 100",
          "<b>Topic 22</b><br>Words: disinfectants, helicopters, german, germany, five",
          "<b>Topic 22</b><br>Words: refused, germany, german, germans, spahn",
          "<b>Topic 22</b><br>Words: cheaper, croatia, germany, german, koch",
          "<b>Topic 22</b><br>Words: bundestag, german, chancellor, merkel, germany",
          "<b>Topic 22</b><br>Words: ard, german, coffins, germany, germans",
          "<b>Topic 22</b><br>Words: assassination, mahmoud, tunisian, germany, german",
          "<b>Topic 22</b><br>Words: germany, german, germans, markus, spahn",
          "<b>Topic 22</b><br>Words: german, corinavirus, harvest, pensioners, ludwig",
          "<b>Topic 22</b><br>Words: germany, qader, assassination, german, mahmoud",
          "<b>Topic 22</b><br>Words: germany, german, koch, germans, markus",
          "<b>Topic 22</b><br>Words: german, germany, austria, switzerland, worse",
          "<b>Topic 22</b><br>Words: whiskey, virologist, german, drinking, germany",
          "<b>Topic 22</b><br>Words: germany, cancer, german, 130, germans",
          "<b>Topic 22</b><br>Words: german, germany, koch, germans, markus",
          "<b>Topic 22</b><br>Words: france, germany, lack, despite, german",
          "<b>Topic 22</b><br>Words: psychiatric, lawyer, opposed, forcibly, german",
          "<b>Topic 22</b><br>Words: germany, libraries, homburg, zoos, german",
          "<b>Topic 22</b><br>Words: germans, islam, german, germany, koch",
          "<b>Topic 22</b><br>Words: 130, damages, germany, economy, german",
          "<b>Topic 22</b><br>Words: doubts, german, useless, germany, masks",
          "<b>Topic 22</b><br>Words: wodarg, wolfgang, german, germany, koch",
          "<b>Topic 22</b><br>Words: blood, germany, treat, patient, hospitals",
          "<b>Topic 22</b><br>Words: germany, best, 100, german, two",
          "<b>Topic 22</b><br>Words: excess, germany, mortality, german, germans",
          "<b>Topic 22</b><br>Words: krause, german, kill, germany, koch",
          "<b>Topic 22</b><br>Words: 130, german, germany, germans, spahn",
          "<b>Topic 22</b><br>Words: german, illnesses, forcibly, vaccinate, doctor",
          "<b>Topic 22</b><br>Words: pathogenic, biologist, german, viruses, germany",
          "<b>Topic 22</b><br>Words: german, germany, infected, facebook, germans",
          "<b>Topic 22</b><br>Words: 242, bavaria, profit, wife, german",
          "<b>Topic 22</b><br>Words: chlorine, german, dioxide, germany, koch",
          "<b>Topic 22</b><br>Words: alarm, german, leaked, germany, koch",
          "<b>Topic 22</b><br>Words: 130, germany, 300, child, every",
          "<b>Topic 22</b><br>Words: german, chancellor, merkel, quarantine, germany",
          "<b>Topic 22</b><br>Words: 149, germany, german, germans, pandemic",
          "<b>Topic 22</b><br>Words: airspace, arab, german, germany, koch",
          "<b>Topic 22</b><br>Words: german, germany, pandemic, germans, spahn",
          "<b>Topic 22</b><br>Words: track, app, smartphone, germany, infections",
          "<b>Topic 22</b><br>Words: angry, tourism, risks, tunisian, german",
          "<b>Topic 22</b><br>Words: terrorism, german, conspiracy, germany, germans",
          "<b>Topic 22</b><br>Words: german, germany, germans, markus, spahn",
          "<b>Topic 22</b><br>Words: koch, german, germany, 130, germans",
          "<b>Topic 22</b><br>Words: bavarian, licenses, german, doctors, germany",
          "<b>Topic 22</b><br>Words: 13th, germany, german, 130, germans",
          "<b>Topic 22</b><br>Words: german, 31st, veterinary, spahn, germany",
          "<b>Topic 22</b><br>Words: error, zdf, falsely, german, germany",
          "<b>Topic 22</b><br>Words: alexovnobody, pathologist, german, bulgarian, autopsy",
          "<b>Topic 22</b><br>Words: germany, vitamin, treatment, german, germans",
          "<b>Topic 22</b><br>Words: cain, republican, cancer, german, germany",
          "<b>Topic 22</b><br>Words: launch, lockdowns, germany, german, koch",
          "<b>Topic 22</b><br>Words: slogan, demonstrations, german, demonstration, germany",
          "<b>Topic 22</b><br>Words: fakethe, 28, europe, german, tested",
          "<b>Topic 22</b><br>Words: german, doctors, germany, koch, germans",
          "<b>Topic 22</b><br>Words: killer, german, germany, germans, markus",
          "<b>Topic 22</b><br>Words: germanya, schools, school, 100, german",
          "<b>Topic 22</b><br>Words: pathologist, killer, germany, german, virus",
          "<b>Topic 22</b><br>Words: naturopath, modify, german, mrna, rna",
          "<b>Topic 22</b><br>Words: rivals, football, german, spanish, germany",
          "<b>Topic 22</b><br>Words: helmets, german, mask, germany, koch",
          "<b>Topic 22</b><br>Words: hoax, germany, german, pandemic, germans",
          "<b>Topic 22</b><br>Words: helmets, berlin, german, germany, 130",
          "<b>Topic 22</b><br>Words: german, tests, germany, 130, germans",
          "<b>Topic 22</b><br>Words: useless, germany, distancing, german, masks",
          "<b>Topic 22</b><br>Words: invalid, scientifically, criticized, germany, banned",
          "<b>Topic 22</b><br>Words: hamburg, autopsies, germany, german, germans",
          "<b>Topic 22</b><br>Words: germany, hospitals, viral, german, 130",
          "<b>Topic 22</b><br>Words: german, germany, koch, germans, markus",
          "<b>Topic 22</b><br>Words: alkalizing, chemists, german, germany, germs",
          "<b>Topic 22</b><br>Words: finland, german, germany, germans, spahn",
          "<b>Topic 22</b><br>Words: lawyer, shoot, excess, german, jail",
          "<b>Topic 22</b><br>Words: coercion, germany, vaccinated, vaccination, infection",
          "<b>Topic 22</b><br>Words: everybody, german, insurance, responsible, everyone",
          "<b>Topic 22</b><br>Words: wurttemberg, clinic, german, kills, scientists",
          "<b>Topic 22</b><br>Words: lothar, german, germany, vaccines, 130",
          "<b>Topic 22</b><br>Words: germany, fatality, german, 130, germans",
          "<b>Topic 22</b><br>Words: berlin, infections, german, germany, germans",
          "<b>Topic 22</b><br>Words: spahn, german, 25, germany, health",
          "<b>Topic 22</b><br>Words: german, implantation, autopsies, microchip, bacteria",
          "<b>Topic 22</b><br>Words: düsseldorf, germany, german, masks, koch",
          "<b>Topic 22</b><br>Words: anal, german, germany, koch, germans",
          "<b>Topic 22</b><br>Words: german, germany, pandemic, germans, spahn",
          "<b>Topic 22</b><br>Words: 25, influenza, germany, german, germans",
          "<b>Topic 22</b><br>Words: german, diseases, infections, tests, germany",
          "<b>Topic 22</b><br>Words: spahn, pharmacists, german, doctors, vaccines",
          "<b>Topic 22</b><br>Words: genocide, germany, vaccination, doctors, german",
          "<b>Topic 22</b><br>Words: turkish, german, scientist, germany, koch",
          "<b>Topic 22</b><br>Words: telegram, dangerousness, swiss, germany, german",
          "<b>Topic 22</b><br>Words: siegener, unfavourable, zeitung, delete, german",
          "<b>Topic 22</b><br>Words: researcher, german, biontech, germany, 130",
          "<b>Topic 22</b><br>Words: borkum, markus, german, germany, quarantine",
          "<b>Topic 22</b><br>Words: psychological, german, children, negative, 25",
          "<b>Topic 22</b><br>Words: finances, 2021, german, until, germany",
          "<b>Topic 22</b><br>Words: 77, germany, german, hospitals, 130",
          "<b>Topic 22</b><br>Words: firefighter, lothar, bavaria, german, biontech",
          "<b>Topic 22</b><br>Words: deutschland, clinics, german, half, germany",
          "<b>Topic 22</b><br>Words: germany, german, 31, nursing, until",
          "<b>Topic 22</b><br>Words: vaccinations, biontech, germany, pfizer, 10",
          "<b>Topic 22</b><br>Words: antibiotics, germany, treated, 14, german"
         ],
         "marker": {
          "color": "#D55E00"
         },
         "mode": "lines",
         "name": "22_german_germany_koch_germans",
         "type": "scatter",
         "x": [
          "2020-02-03T00:00:00",
          "2020-02-12T00:00:00",
          "2020-02-28T00:00:00",
          "2020-02-29T00:00:00",
          "2020-03-01T00:00:00",
          "2020-03-04T00:00:00",
          "2020-03-10T00:00:00",
          "2020-03-14T00:00:00",
          "2020-03-15T00:00:00",
          "2020-03-17T00:00:00",
          "2020-03-18T00:00:00",
          "2020-03-19T00:00:00",
          "2020-03-20T00:00:00",
          "2020-03-23T00:00:00",
          "2020-03-25T00:00:00",
          "2020-03-26T00:00:00",
          "2020-03-31T00:00:00",
          "2020-04-01T00:00:00",
          "2020-04-02T00:00:00",
          "2020-04-03T00:00:00",
          "2020-04-05T00:00:00",
          "2020-04-07T00:00:00",
          "2020-04-08T00:00:00",
          "2020-04-09T00:00:00",
          "2020-04-10T00:00:00",
          "2020-04-13T00:00:00",
          "2020-04-15T00:00:00",
          "2020-04-16T00:00:00",
          "2020-04-17T00:00:00",
          "2020-04-20T00:00:00",
          "2020-04-21T00:00:00",
          "2020-04-22T00:00:00",
          "2020-04-28T00:00:00",
          "2020-05-04T00:00:00",
          "2020-05-11T00:00:00",
          "2020-05-17T00:00:00",
          "2020-05-18T00:00:00",
          "2020-05-19T00:00:00",
          "2020-05-20T00:00:00",
          "2020-05-21T00:00:00",
          "2020-05-25T00:00:00",
          "2020-05-26T00:00:00",
          "2020-05-27T00:00:00",
          "2020-06-03T00:00:00",
          "2020-06-05T00:00:00",
          "2020-06-08T00:00:00",
          "2020-06-09T00:00:00",
          "2020-06-11T00:00:00",
          "2020-06-12T00:00:00",
          "2020-06-16T00:00:00",
          "2020-06-18T00:00:00",
          "2020-06-19T00:00:00",
          "2020-06-22T00:00:00",
          "2020-06-26T00:00:00",
          "2020-07-04T00:00:00",
          "2020-07-06T00:00:00",
          "2020-07-07T00:00:00",
          "2020-07-08T00:00:00",
          "2020-07-10T00:00:00",
          "2020-07-17T00:00:00",
          "2020-07-30T00:00:00",
          "2020-08-02T00:00:00",
          "2020-08-03T00:00:00",
          "2020-08-07T00:00:00",
          "2020-08-20T00:00:00",
          "2020-08-22T00:00:00",
          "2020-08-25T00:00:00",
          "2020-08-31T00:00:00",
          "2020-09-07T00:00:00",
          "2020-09-08T00:00:00",
          "2020-09-09T00:00:00",
          "2020-09-10T00:00:00",
          "2020-09-15T00:00:00",
          "2020-09-17T00:00:00",
          "2020-09-18T00:00:00",
          "2020-09-22T00:00:00",
          "2020-09-24T00:00:00",
          "2020-09-25T00:00:00",
          "2020-10-02T00:00:00",
          "2020-10-09T00:00:00",
          "2020-10-12T00:00:00",
          "2020-10-27T00:00:00",
          "2020-11-06T00:00:00",
          "2020-11-08T00:00:00",
          "2020-11-12T00:00:00",
          "2020-11-13T00:00:00",
          "2020-11-15T00:00:00",
          "2020-11-16T00:00:00",
          "2020-11-17T00:00:00",
          "2020-11-20T00:00:00",
          "2020-11-21T00:00:00",
          "2020-11-25T00:00:00",
          "2020-11-30T00:00:00",
          "2020-12-03T00:00:00",
          "2020-12-05T00:00:00",
          "2020-12-07T00:00:00",
          "2020-12-08T00:00:00",
          "2020-12-11T00:00:00",
          "2020-12-15T00:00:00",
          "2020-12-17T00:00:00",
          "2020-12-31T00:00:00",
          "2021-01-03T00:00:00",
          "2021-01-04T00:00:00",
          "2021-01-05T00:00:00",
          "2021-01-06T00:00:00",
          "2021-01-09T00:00:00",
          "2021-01-14T00:00:00",
          "2021-01-18T00:00:00",
          "2021-01-27T00:00:00",
          "2021-02-04T00:00:00"
         ],
         "y": [
          1,
          2,
          1,
          1,
          1,
          1,
          1,
          1,
          1,
          2,
          1,
          1,
          2,
          1,
          1,
          3,
          1,
          1,
          1,
          2,
          3,
          1,
          4,
          1,
          1,
          1,
          1,
          1,
          2,
          1,
          2,
          1,
          1,
          1,
          1,
          1,
          1,
          1,
          2,
          1,
          1,
          1,
          1,
          2,
          1,
          1,
          1,
          1,
          1,
          1,
          1,
          1,
          1,
          1,
          1,
          1,
          2,
          1,
          1,
          1,
          1,
          1,
          2,
          1,
          1,
          1,
          1,
          1,
          1,
          1,
          1,
          1,
          1,
          1,
          1,
          1,
          1,
          1,
          1,
          2,
          1,
          1,
          1,
          1,
          2,
          1,
          2,
          1,
          1,
          2,
          1,
          1,
          1,
          1,
          1,
          1,
          1,
          1,
          1,
          1,
          1,
          1,
          1,
          1,
          1,
          2,
          1,
          2,
          1,
          1
         ]
        }
       ],
       "layout": {
        "height": 450,
        "hoverlabel": {
         "bgcolor": "white",
         "font": {
          "family": "Rockwell",
          "size": 16
         }
        },
        "legend": {
         "title": {
          "text": "<b>Global Topic Representation"
         }
        },
        "template": {
         "data": {
          "bar": [
           {
            "error_x": {
             "color": "rgb(36,36,36)"
            },
            "error_y": {
             "color": "rgb(36,36,36)"
            },
            "marker": {
             "line": {
              "color": "white",
              "width": 0.5
             }
            },
            "type": "bar"
           }
          ],
          "barpolar": [
           {
            "marker": {
             "line": {
              "color": "white",
              "width": 0.5
             }
            },
            "type": "barpolar"
           }
          ],
          "carpet": [
           {
            "aaxis": {
             "endlinecolor": "rgb(36,36,36)",
             "gridcolor": "white",
             "linecolor": "white",
             "minorgridcolor": "white",
             "startlinecolor": "rgb(36,36,36)"
            },
            "baxis": {
             "endlinecolor": "rgb(36,36,36)",
             "gridcolor": "white",
             "linecolor": "white",
             "minorgridcolor": "white",
             "startlinecolor": "rgb(36,36,36)"
            },
            "type": "carpet"
           }
          ],
          "choropleth": [
           {
            "colorbar": {
             "outlinewidth": 1,
             "tickcolor": "rgb(36,36,36)",
             "ticks": "outside"
            },
            "type": "choropleth"
           }
          ],
          "contour": [
           {
            "colorbar": {
             "outlinewidth": 1,
             "tickcolor": "rgb(36,36,36)",
             "ticks": "outside"
            },
            "colorscale": [
             [
              0,
              "#440154"
             ],
             [
              0.1111111111111111,
              "#482878"
             ],
             [
              0.2222222222222222,
              "#3e4989"
             ],
             [
              0.3333333333333333,
              "#31688e"
             ],
             [
              0.4444444444444444,
              "#26828e"
             ],
             [
              0.5555555555555556,
              "#1f9e89"
             ],
             [
              0.6666666666666666,
              "#35b779"
             ],
             [
              0.7777777777777778,
              "#6ece58"
             ],
             [
              0.8888888888888888,
              "#b5de2b"
             ],
             [
              1,
              "#fde725"
             ]
            ],
            "type": "contour"
           }
          ],
          "contourcarpet": [
           {
            "colorbar": {
             "outlinewidth": 1,
             "tickcolor": "rgb(36,36,36)",
             "ticks": "outside"
            },
            "type": "contourcarpet"
           }
          ],
          "heatmap": [
           {
            "colorbar": {
             "outlinewidth": 1,
             "tickcolor": "rgb(36,36,36)",
             "ticks": "outside"
            },
            "colorscale": [
             [
              0,
              "#440154"
             ],
             [
              0.1111111111111111,
              "#482878"
             ],
             [
              0.2222222222222222,
              "#3e4989"
             ],
             [
              0.3333333333333333,
              "#31688e"
             ],
             [
              0.4444444444444444,
              "#26828e"
             ],
             [
              0.5555555555555556,
              "#1f9e89"
             ],
             [
              0.6666666666666666,
              "#35b779"
             ],
             [
              0.7777777777777778,
              "#6ece58"
             ],
             [
              0.8888888888888888,
              "#b5de2b"
             ],
             [
              1,
              "#fde725"
             ]
            ],
            "type": "heatmap"
           }
          ],
          "heatmapgl": [
           {
            "colorbar": {
             "outlinewidth": 1,
             "tickcolor": "rgb(36,36,36)",
             "ticks": "outside"
            },
            "colorscale": [
             [
              0,
              "#440154"
             ],
             [
              0.1111111111111111,
              "#482878"
             ],
             [
              0.2222222222222222,
              "#3e4989"
             ],
             [
              0.3333333333333333,
              "#31688e"
             ],
             [
              0.4444444444444444,
              "#26828e"
             ],
             [
              0.5555555555555556,
              "#1f9e89"
             ],
             [
              0.6666666666666666,
              "#35b779"
             ],
             [
              0.7777777777777778,
              "#6ece58"
             ],
             [
              0.8888888888888888,
              "#b5de2b"
             ],
             [
              1,
              "#fde725"
             ]
            ],
            "type": "heatmapgl"
           }
          ],
          "histogram": [
           {
            "marker": {
             "line": {
              "color": "white",
              "width": 0.6
             }
            },
            "type": "histogram"
           }
          ],
          "histogram2d": [
           {
            "colorbar": {
             "outlinewidth": 1,
             "tickcolor": "rgb(36,36,36)",
             "ticks": "outside"
            },
            "colorscale": [
             [
              0,
              "#440154"
             ],
             [
              0.1111111111111111,
              "#482878"
             ],
             [
              0.2222222222222222,
              "#3e4989"
             ],
             [
              0.3333333333333333,
              "#31688e"
             ],
             [
              0.4444444444444444,
              "#26828e"
             ],
             [
              0.5555555555555556,
              "#1f9e89"
             ],
             [
              0.6666666666666666,
              "#35b779"
             ],
             [
              0.7777777777777778,
              "#6ece58"
             ],
             [
              0.8888888888888888,
              "#b5de2b"
             ],
             [
              1,
              "#fde725"
             ]
            ],
            "type": "histogram2d"
           }
          ],
          "histogram2dcontour": [
           {
            "colorbar": {
             "outlinewidth": 1,
             "tickcolor": "rgb(36,36,36)",
             "ticks": "outside"
            },
            "colorscale": [
             [
              0,
              "#440154"
             ],
             [
              0.1111111111111111,
              "#482878"
             ],
             [
              0.2222222222222222,
              "#3e4989"
             ],
             [
              0.3333333333333333,
              "#31688e"
             ],
             [
              0.4444444444444444,
              "#26828e"
             ],
             [
              0.5555555555555556,
              "#1f9e89"
             ],
             [
              0.6666666666666666,
              "#35b779"
             ],
             [
              0.7777777777777778,
              "#6ece58"
             ],
             [
              0.8888888888888888,
              "#b5de2b"
             ],
             [
              1,
              "#fde725"
             ]
            ],
            "type": "histogram2dcontour"
           }
          ],
          "mesh3d": [
           {
            "colorbar": {
             "outlinewidth": 1,
             "tickcolor": "rgb(36,36,36)",
             "ticks": "outside"
            },
            "type": "mesh3d"
           }
          ],
          "parcoords": [
           {
            "line": {
             "colorbar": {
              "outlinewidth": 1,
              "tickcolor": "rgb(36,36,36)",
              "ticks": "outside"
             }
            },
            "type": "parcoords"
           }
          ],
          "pie": [
           {
            "automargin": true,
            "type": "pie"
           }
          ],
          "scatter": [
           {
            "marker": {
             "colorbar": {
              "outlinewidth": 1,
              "tickcolor": "rgb(36,36,36)",
              "ticks": "outside"
             }
            },
            "type": "scatter"
           }
          ],
          "scatter3d": [
           {
            "line": {
             "colorbar": {
              "outlinewidth": 1,
              "tickcolor": "rgb(36,36,36)",
              "ticks": "outside"
             }
            },
            "marker": {
             "colorbar": {
              "outlinewidth": 1,
              "tickcolor": "rgb(36,36,36)",
              "ticks": "outside"
             }
            },
            "type": "scatter3d"
           }
          ],
          "scattercarpet": [
           {
            "marker": {
             "colorbar": {
              "outlinewidth": 1,
              "tickcolor": "rgb(36,36,36)",
              "ticks": "outside"
             }
            },
            "type": "scattercarpet"
           }
          ],
          "scattergeo": [
           {
            "marker": {
             "colorbar": {
              "outlinewidth": 1,
              "tickcolor": "rgb(36,36,36)",
              "ticks": "outside"
             }
            },
            "type": "scattergeo"
           }
          ],
          "scattergl": [
           {
            "marker": {
             "colorbar": {
              "outlinewidth": 1,
              "tickcolor": "rgb(36,36,36)",
              "ticks": "outside"
             }
            },
            "type": "scattergl"
           }
          ],
          "scattermapbox": [
           {
            "marker": {
             "colorbar": {
              "outlinewidth": 1,
              "tickcolor": "rgb(36,36,36)",
              "ticks": "outside"
             }
            },
            "type": "scattermapbox"
           }
          ],
          "scatterpolar": [
           {
            "marker": {
             "colorbar": {
              "outlinewidth": 1,
              "tickcolor": "rgb(36,36,36)",
              "ticks": "outside"
             }
            },
            "type": "scatterpolar"
           }
          ],
          "scatterpolargl": [
           {
            "marker": {
             "colorbar": {
              "outlinewidth": 1,
              "tickcolor": "rgb(36,36,36)",
              "ticks": "outside"
             }
            },
            "type": "scatterpolargl"
           }
          ],
          "scatterternary": [
           {
            "marker": {
             "colorbar": {
              "outlinewidth": 1,
              "tickcolor": "rgb(36,36,36)",
              "ticks": "outside"
             }
            },
            "type": "scatterternary"
           }
          ],
          "surface": [
           {
            "colorbar": {
             "outlinewidth": 1,
             "tickcolor": "rgb(36,36,36)",
             "ticks": "outside"
            },
            "colorscale": [
             [
              0,
              "#440154"
             ],
             [
              0.1111111111111111,
              "#482878"
             ],
             [
              0.2222222222222222,
              "#3e4989"
             ],
             [
              0.3333333333333333,
              "#31688e"
             ],
             [
              0.4444444444444444,
              "#26828e"
             ],
             [
              0.5555555555555556,
              "#1f9e89"
             ],
             [
              0.6666666666666666,
              "#35b779"
             ],
             [
              0.7777777777777778,
              "#6ece58"
             ],
             [
              0.8888888888888888,
              "#b5de2b"
             ],
             [
              1,
              "#fde725"
             ]
            ],
            "type": "surface"
           }
          ],
          "table": [
           {
            "cells": {
             "fill": {
              "color": "rgb(237,237,237)"
             },
             "line": {
              "color": "white"
             }
            },
            "header": {
             "fill": {
              "color": "rgb(217,217,217)"
             },
             "line": {
              "color": "white"
             }
            },
            "type": "table"
           }
          ]
         },
         "layout": {
          "annotationdefaults": {
           "arrowhead": 0,
           "arrowwidth": 1
          },
          "autotypenumbers": "strict",
          "coloraxis": {
           "colorbar": {
            "outlinewidth": 1,
            "tickcolor": "rgb(36,36,36)",
            "ticks": "outside"
           }
          },
          "colorscale": {
           "diverging": [
            [
             0,
             "rgb(103,0,31)"
            ],
            [
             0.1,
             "rgb(178,24,43)"
            ],
            [
             0.2,
             "rgb(214,96,77)"
            ],
            [
             0.3,
             "rgb(244,165,130)"
            ],
            [
             0.4,
             "rgb(253,219,199)"
            ],
            [
             0.5,
             "rgb(247,247,247)"
            ],
            [
             0.6,
             "rgb(209,229,240)"
            ],
            [
             0.7,
             "rgb(146,197,222)"
            ],
            [
             0.8,
             "rgb(67,147,195)"
            ],
            [
             0.9,
             "rgb(33,102,172)"
            ],
            [
             1,
             "rgb(5,48,97)"
            ]
           ],
           "sequential": [
            [
             0,
             "#440154"
            ],
            [
             0.1111111111111111,
             "#482878"
            ],
            [
             0.2222222222222222,
             "#3e4989"
            ],
            [
             0.3333333333333333,
             "#31688e"
            ],
            [
             0.4444444444444444,
             "#26828e"
            ],
            [
             0.5555555555555556,
             "#1f9e89"
            ],
            [
             0.6666666666666666,
             "#35b779"
            ],
            [
             0.7777777777777778,
             "#6ece58"
            ],
            [
             0.8888888888888888,
             "#b5de2b"
            ],
            [
             1,
             "#fde725"
            ]
           ],
           "sequentialminus": [
            [
             0,
             "#440154"
            ],
            [
             0.1111111111111111,
             "#482878"
            ],
            [
             0.2222222222222222,
             "#3e4989"
            ],
            [
             0.3333333333333333,
             "#31688e"
            ],
            [
             0.4444444444444444,
             "#26828e"
            ],
            [
             0.5555555555555556,
             "#1f9e89"
            ],
            [
             0.6666666666666666,
             "#35b779"
            ],
            [
             0.7777777777777778,
             "#6ece58"
            ],
            [
             0.8888888888888888,
             "#b5de2b"
            ],
            [
             1,
             "#fde725"
            ]
           ]
          },
          "colorway": [
           "#1F77B4",
           "#FF7F0E",
           "#2CA02C",
           "#D62728",
           "#9467BD",
           "#8C564B",
           "#E377C2",
           "#7F7F7F",
           "#BCBD22",
           "#17BECF"
          ],
          "font": {
           "color": "rgb(36,36,36)"
          },
          "geo": {
           "bgcolor": "white",
           "lakecolor": "white",
           "landcolor": "white",
           "showlakes": true,
           "showland": true,
           "subunitcolor": "white"
          },
          "hoverlabel": {
           "align": "left"
          },
          "hovermode": "closest",
          "mapbox": {
           "style": "light"
          },
          "paper_bgcolor": "white",
          "plot_bgcolor": "white",
          "polar": {
           "angularaxis": {
            "gridcolor": "rgb(232,232,232)",
            "linecolor": "rgb(36,36,36)",
            "showgrid": false,
            "showline": true,
            "ticks": "outside"
           },
           "bgcolor": "white",
           "radialaxis": {
            "gridcolor": "rgb(232,232,232)",
            "linecolor": "rgb(36,36,36)",
            "showgrid": false,
            "showline": true,
            "ticks": "outside"
           }
          },
          "scene": {
           "xaxis": {
            "backgroundcolor": "white",
            "gridcolor": "rgb(232,232,232)",
            "gridwidth": 2,
            "linecolor": "rgb(36,36,36)",
            "showbackground": true,
            "showgrid": false,
            "showline": true,
            "ticks": "outside",
            "zeroline": false,
            "zerolinecolor": "rgb(36,36,36)"
           },
           "yaxis": {
            "backgroundcolor": "white",
            "gridcolor": "rgb(232,232,232)",
            "gridwidth": 2,
            "linecolor": "rgb(36,36,36)",
            "showbackground": true,
            "showgrid": false,
            "showline": true,
            "ticks": "outside",
            "zeroline": false,
            "zerolinecolor": "rgb(36,36,36)"
           },
           "zaxis": {
            "backgroundcolor": "white",
            "gridcolor": "rgb(232,232,232)",
            "gridwidth": 2,
            "linecolor": "rgb(36,36,36)",
            "showbackground": true,
            "showgrid": false,
            "showline": true,
            "ticks": "outside",
            "zeroline": false,
            "zerolinecolor": "rgb(36,36,36)"
           }
          },
          "shapedefaults": {
           "fillcolor": "black",
           "line": {
            "width": 0
           },
           "opacity": 0.3
          },
          "ternary": {
           "aaxis": {
            "gridcolor": "rgb(232,232,232)",
            "linecolor": "rgb(36,36,36)",
            "showgrid": false,
            "showline": true,
            "ticks": "outside"
           },
           "baxis": {
            "gridcolor": "rgb(232,232,232)",
            "linecolor": "rgb(36,36,36)",
            "showgrid": false,
            "showline": true,
            "ticks": "outside"
           },
           "bgcolor": "white",
           "caxis": {
            "gridcolor": "rgb(232,232,232)",
            "linecolor": "rgb(36,36,36)",
            "showgrid": false,
            "showline": true,
            "ticks": "outside"
           }
          },
          "title": {
           "x": 0.05
          },
          "xaxis": {
           "automargin": true,
           "gridcolor": "rgb(232,232,232)",
           "linecolor": "rgb(36,36,36)",
           "showgrid": false,
           "showline": true,
           "ticks": "outside",
           "title": {
            "standoff": 15
           },
           "zeroline": false,
           "zerolinecolor": "rgb(36,36,36)"
          },
          "yaxis": {
           "automargin": true,
           "gridcolor": "rgb(232,232,232)",
           "linecolor": "rgb(36,36,36)",
           "showgrid": false,
           "showline": true,
           "ticks": "outside",
           "title": {
            "standoff": 15
           },
           "zeroline": false,
           "zerolinecolor": "rgb(36,36,36)"
          }
         }
        },
        "title": {
         "font": {
          "color": "Black",
          "size": 22
         },
         "text": "<b>Topics over Time",
         "x": 0.4,
         "xanchor": "center",
         "y": 0.95,
         "yanchor": "top"
        },
        "width": 1250,
        "xaxis": {
         "autorange": true,
         "range": [
          "2020-01-26",
          "2021-02-24"
         ],
         "showgrid": true,
         "type": "date"
        },
        "yaxis": {
         "autorange": true,
         "range": [
          0.38888888888888884,
          12.61111111111111
         ],
         "showgrid": true,
         "title": {
          "text": "Frequency"
         },
         "type": "linear"
        }
       }
      },
      "image/png": "[encoded data removed]",
      "text/html": [
       "<div>                            <div id=\"9567cbb7-8320-47c0-950c-957bfd0f7a19\" class=\"plotly-graph-div\" style=\"height:450px; width:1250px;\"></div>            <script type=\"text/javascript\">                require([\"plotly\"], function(Plotly) {                    window.PLOTLYENV=window.PLOTLYENV || {};                                    if (document.getElementById(\"9567cbb7-8320-47c0-950c-957bfd0f7a19\")) {                    Plotly.newPlot(                        \"9567cbb7-8320-47c0-950c-957bfd0f7a19\",                        [{\"hoverinfo\": \"text\", \"hovertext\": [\"<b>Topic 9</b><br>Words: liver, bull, fennel, prevention, paulo\", \"<b>Topic 9</b><br>Words: rumors, radio, american, brazil, deaths\", \"<b>Topic 9</b><br>Words: aliexpress, brazil, doctors, novel, hospital\", \"<b>Topic 9</b><br>Words: kachashi, tamaki, danced, prefecture, terrified\", \"<b>Topic 9</b><br>Words: senegalese, president, brazilian, brazil, paulo\", \"<b>Topic 9</b><br>Words: beneficiaries, conditional, brazilian, cash, bolsonaro\", \"<b>Topic 9</b><br>Words: juventus, denies, paulo, brazilian, brazil\", \"<b>Topic 9</b><br>Words: beverage, beer, stops, brazilian, bolsonaro\", \"<b>Topic 9</b><br>Words: brazilian, 26\\u00bac, blessed, fiocruz, universal\", \"<b>Topic 9</b><br>Words: beats, dances, forbids, sterilization, egyptian\", \"<b>Topic 9</b><br>Words: refineries, uber, suspend, closing, brazil\", \"<b>Topic 9</b><br>Words: boyfriend, pensions, brazilian, wandering, brazil\", \"<b>Topic 9</b><br>Words: registration, brazilian, brazil, paulo, rio\", \"<b>Topic 9</b><br>Words: brazilian, healthcare, 20there, brazil, messejana\", \"<b>Topic 9</b><br>Words: brazilian, funk, personality, fees, continue\", \"<b>Topic 9</b><br>Words: sunbathers, copacabana, malaysian, rio, beach\", \"<b>Topic 9</b><br>Words: 320, performed, brazilian, singer, fight\", \"<b>Topic 9</b><br>Words: unemployed, spent, portuguese, ventilators, suicide\", \"<b>Topic 9</b><br>Words: sacked, mobs, 19the, damaging, angry\", \"<b>Topic 9</b><br>Words: decree, paulo, governor, brazilian, brazil\", \"<b>Topic 9</b><br>Words: gasping, doubt, relatives, patient, brazilian\", \"<b>Topic 9</b><br>Words: brazilian, governor, brazil, bolsonaro, 600\", \"<b>Topic 9</b><br>Words: intoxicated, criticized, shortage, brazilian, supermarkets\", \"<b>Topic 9</b><br>Words: contagem, brazilian, minas, distribution, 31\", \"<b>Topic 9</b><br>Words: firing, brazil, businessman, himself, discarding\", \"<b>Topic 9</b><br>Words: brazil, selling, performances, intimidate, brother\", \"<b>Topic 9</b><br>Words: brazilians, restaurants, brazilian, candlelit, gangs\", \"<b>Topic 9</b><br>Words: rudolph, zeballos, novartis, brazilians, roberto\", \"<b>Topic 9</b><br>Words: leftist, brazilian, sudan, criticizes, deputies\", \"<b>Topic 9</b><br>Words: brazil, quarentine, rejected, brazilian, register\", \"<b>Topic 9</b><br>Words: pacaembu, gazolla, paulo, divorced, brazil\", \"<b>Topic 9</b><br>Words: carlos, brazil, rio, brazi, bolsonaro\", \"<b>Topic 9</b><br>Words: bengali, roy, chemist, hydroxychloroquine, dr\", \"<b>Topic 9</b><br>Words: garbage, shelves, portuguese, supermarket, empty\", \"<b>Topic 9</b><br>Words: joggers, rules, odessa, punish, clashes\", \"<b>Topic 9</b><br>Words: disrespected, mistreated, beaten, brazil, brothers\", \"<b>Topic 9</b><br>Words: brazilian, beating, unecessary, rubber, annoys\", \"<b>Topic 9</b><br>Words: brazil, februrary, immobilizing, plummeted, pushed\", \"<b>Topic 9</b><br>Words: mitigate, exaggerated, 600, bolsonaro, aid\", \"<b>Topic 9</b><br>Words: boat, sudanese, embargo, sudan, imposed\", \"<b>Topic 9</b><br>Words: brazil, bolsonaro, paulo, ara\\u00e7atuba, motorbike\", \"<b>Topic 9</b><br>Words: brazil, rates, paulo, leite, corticosteroids\", \"<b>Topic 9</b><br>Words: rio, revelead, audits, inflate, brazil\", \"<b>Topic 9</b><br>Words: brazilian, brazil, econ\\u00f4mica, 187, nelson\", \"<b>Topic 9</b><br>Words: perpetrate, gown, producer, frauds, gloves\", \"<b>Topic 9</b><br>Words: mortal, brasilian, danger, tests, chinese\", \"<b>Topic 9</b><br>Words: gunfire, globonews, ghebreyesus, criminal, imported\", \"<b>Topic 9</b><br>Words: brazil, empty, manaus, crisis, panic\", \"<b>Topic 9</b><br>Words: bolsonaro, brazilian, brazil, manaus, porto\", \"<b>Topic 9</b><br>Words: brazil, brazilian, empty, coffins, barbalho\", \"<b>Topic 9</b><br>Words: drivers, brazilian, police, brazil, paulo\", \"<b>Topic 9</b><br>Words: coffin, instead, empty, body, brazil\", \"<b>Topic 9</b><br>Words: sewing, motorcycles, driving, cars, registry\", \"<b>Topic 9</b><br>Words: amazonas, brazil, hasselmann, brazilian, nelson\", \"<b>Topic 9</b><br>Words: guarulhos, brazilian, pharmacists, monthly, amazonas\", \"<b>Topic 9</b><br>Words: wood, unearthed, cemetery, trucks, federal\", \"<b>Topic 9</b><br>Words: manaus, decreased, merchants, brazil, nelson\", \"<b>Topic 9</b><br>Words: brazilian, brazil, piau\\u00ed, 2019, registry\", \"<b>Topic 9</b><br>Words: disapproval, brazil, campinas, dismantled, paulo\", \"<b>Topic 9</b><br>Words: malls, shut, showrooms, moulding, 2016\", \"<b>Topic 9</b><br>Words: graves, paulo, brazilian, mandetta, tamiflu\", \"<b>Topic 9</b><br>Words: moinhos, brazilial, odessa, riot, refusing\", \"<b>Topic 9</b><br>Words: inspectors, henrique, brazil, scam, left\", \"<b>Topic 9</b><br>Words: botafogo, clean, rio, brazil, water\", \"<b>Topic 9</b><br>Words: rio, wilson, money, hcpm, hospitals\", \"<b>Topic 9</b><br>Words: calmly, dugstores, forging, tucked, sand\", \"<b>Topic 9</b><br>Words: paulo, monster, 995, mayor, brasil\", \"<b>Topic 9</b><br>Words: 600, willian, itaperuna, wealthy, brazil\", \"<b>Topic 9</b><br>Words: paraguay, latin, fewer, paulo, brazilian\", \"<b>Topic 9</b><br>Words: saluting, protesters, isolation, paulo, brazilian\", \"<b>Topic 9</b><br>Words: 450, brahma, bars, bankrupt, 16\", \"<b>Topic 9</b><br>Words: lunch, rio, restaurant, disregards, disregarding\", \"<b>Topic 9</b><br>Words: bankrupcy, surfer, frauds, brasil, brazil\", \"<b>Topic 9</b><br>Words: 215, 193, fuel, energy, bahia\", \"<b>Topic 9</b><br>Words: 29, brazil, pneumonia, brazilian, paulo\", \"<b>Topic 9</b><br>Words: 177, reduced, rio, death, brazilian\", \"<b>Topic 9</b><br>Words: 31, 90, brazil, federal, 30\", \"<b>Topic 9</b><br>Words: vasconcellos, maria, azithromycin, treated, cured\", \"<b>Topic 9</b><br>Words: brazilia, brasil, rio, lack, closed\", \"<b>Topic 9</b><br>Words: brazilian, suspect, genocide, fernando, candidate\", \"<b>Topic 9</b><br>Words: favelas, funk, sanitizers, sand, bottles\", \"<b>Topic 9</b><br>Words: defrauded, commits, guests, brazilian, greek\", \"<b>Topic 9</b><br>Words: meals, twice, paulo, governor, deaths\", \"<b>Topic 9</b><br>Words: dancing, gachibowli, cricket, grandmother, brazilian\", \"<b>Topic 9</b><br>Words: copacabana, graveyard, dancing, centers, beach\", \"<b>Topic 9</b><br>Words: brazailian, dancing, covid19, empty, mumbai\", \"<b>Topic 9</b><br>Words: contract, august, dancing, scam, brazilian\", \"<b>Topic 9</b><br>Words: nightclub, dances, ghebreyesus, parliament, brazilian\", \"<b>Topic 9</b><br>Words: seizing, brazilian, respirators, prorrogating, expletives\", \"<b>Topic 9</b><br>Words: brazilian, brazil, cheering, bullrich, tested\", \"<b>Topic 9</b><br>Words: hampering, brazil, brazilian, municipalities, 250\", \"<b>Topic 9</b><br>Words: closing, lack, nurses, brazil, hospital\", \"<b>Topic 9</b><br>Words: camilo, criticized, respirators, treatment, brazilian\", \"<b>Topic 9</b><br>Words: lottery, stealing, closes, ward, lack\", \"<b>Topic 9</b><br>Words: 18, brazilian, registered, 200, brazil\", \"<b>Topic 9</b><br>Words: infirm, hidroxychloroquine, prohibited, empty, emergency\", \"<b>Topic 9</b><br>Words: paulo, banned, drug, chloroquine, brazilian\", \"<b>Topic 9</b><br>Words: farce, brazilian, deceased, far, hoax\", \"<b>Topic 9</b><br>Words: responsability, court, combating, determine, brazilian\", \"<b>Topic 9</b><br>Words: row, rui, fired, 38, easily\", \"<b>Topic 9</b><br>Words: propane, liquig\\u00e1s, canisters, energy, brazilian\", \"<b>Topic 9</b><br>Words: decrease, brazil, brazilian, paulo, rio\", \"<b>Topic 9</b><br>Words: appealed, dismissed, bahia, chloroquine, brazilian\", \"<b>Topic 9</b><br>Words: murders, prisioners, bed, 13, brazilian\", \"<b>Topic 9</b><br>Words: inquiry, philosophy, mendes, sergio, lunch\", \"<b>Topic 9</b><br>Words: multiplication, pregnancy, nitazoxanide, economist, abortion\", \"<b>Topic 9</b><br>Words: application, portuguese, brazilian, brazil, paulo\", \"<b>Topic 9</b><br>Words: chadox1, brazilian, dances, fiocruz, bar\", \"<b>Topic 9</b><br>Words: brasil, park, porto, removed, brazil\", \"<b>Topic 9</b><br>Words: 2019, rather, decreased, brazil, lower\", \"<b>Topic 9</b><br>Words: methane, cows, fiocruz, greenhouse, emissions\", \"<b>Topic 9</b><br>Words: brazilian, blew, prefectures, tube, rui\", \"<b>Topic 9</b><br>Words: distorted, separate, contaminate, graphics, manipulate\", \"<b>Topic 9</b><br>Words: uruguay, 55, medecine, brazil, brazilian\", \"<b>Topic 9</b><br>Words: denounced, brazilian, wasteful, fraudulent, 396\", \"<b>Topic 9</b><br>Words: fetus, aborted, brazil, tested, coronavac\", \"<b>Topic 9</b><br>Words: begging, detention, lima, dying, philippine\", \"<b>Topic 9</b><br>Words: volunteer, fevers, marie, cheap, brazilian\", \"<b>Topic 9</b><br>Words: swollen, volunteer, coronavac, brazilian, brazil\", \"<b>Topic 9</b><br>Words: cartoon, catarina, boycott, brazilian, lockdowns\", \"<b>Topic 9</b><br>Words: eduardo, drop, leite, kicillof, hydroxichloroquine\", \"<b>Topic 9</b><br>Words: ambulaces, license, parking, ambulances, costa\", \"<b>Topic 9</b><br>Words: catarina, sales, boycott, 30, brazilian\", \"<b>Topic 9</b><br>Words: imports, 78, boycott, brazil, chinese\", \"<b>Topic 9</b><br>Words: incint, in\\u00e1cio, lu\\u00eds, decreeing, minas\", \"<b>Topic 9</b><br>Words: rio, august, brazilian, lima, trains\", \"<b>Topic 9</b><br>Words: purchases, 78, boycott, slowed, decreased\", \"<b>Topic 9</b><br>Words: hydroxichloroquine, porto, single, 50, brazil\", \"<b>Topic 9</b><br>Words: brazilian, camila, pitanga, malaria, contracted\", \"<b>Topic 9</b><br>Words: medecin, mayors, capsules, paulo, brazilian\", \"<b>Topic 9</b><br>Words: antiethical, hundred, 100, brazilian, brazil\", \"<b>Topic 9</b><br>Words: catarina, sales, boycott, isolated, paulo\", \"<b>Topic 9</b><br>Words: decline, chloroquine, lancet, paulo, brazilian\", \"<b>Topic 9</b><br>Words: barbecue, quinta, buses, argentine, paulo\", \"<b>Topic 9</b><br>Words: pitanga, camila, incorrect, malaria, brazilian\", \"<b>Topic 9</b><br>Words: useless, vaccines, brazil, china, brazilian\", \"<b>Topic 9</b><br>Words: directs, bury, blame, brazilian, brazil\", \"<b>Topic 9</b><br>Words: dino, father, funeral, aglomeration, funerals\", \"<b>Topic 9</b><br>Words: ipanema, agglomeration, rio, beach, august\", \"<b>Topic 9</b><br>Words: crowded, beach, rio, brazilian, brazil\", \"<b>Topic 9</b><br>Words: rousseff, teachers, brazilian, solution, students\", \"<b>Topic 9</b><br>Words: brazilians, drop, swedish, suffer, left\", \"<b>Topic 9</b><br>Words: azitromicin, drops, hydroxichloroquine, beaches, brazil\", \"<b>Topic 9</b><br>Words: hydroxichloroquine, deputies, bahia, rio, federal\", \"<b>Topic 9</b><br>Words: cubans, venezuelans, argentinians, brazilians, poor\", \"<b>Topic 9</b><br>Words: homeless, brazil, three, killed, died\", \"<b>Topic 9</b><br>Words: azithromycin, drugs, hydroxychloroquine, brazilian, brazil\", \"<b>Topic 9</b><br>Words: parked, parking, cars, rio, cannot\", \"<b>Topic 9</b><br>Words: companies, brazilian, china, brazil, rio\", \"<b>Topic 9</b><br>Words: conde, guinean, alpha, politicians, argentina\", \"<b>Topic 9</b><br>Words: handcuffs, dictatorship, policemen, protest, french\", \"<b>Topic 9</b><br>Words: teach, teachers, reduced, classes, 25\", \"<b>Topic 9</b><br>Words: droppped, beacause, rio, brazilian, brazil\", \"<b>Topic 9</b><br>Words: federal, municipalities, politicians, half, money\", \"<b>Topic 9</b><br>Words: younger, 35, education, paulo, old\", \"<b>Topic 9</b><br>Words: coffins, mayor, paulo, brazilian, brazil\", \"<b>Topic 9</b><br>Words: fails, contaminate, paulo, governor, coronavac\", \"<b>Topic 9</b><br>Words: mandatory, brazil, brazilian, paulo, rio\", \"<b>Topic 9</b><br>Words: trial, brazil, brazilian, paulo, rio\", \"<b>Topic 9</b><br>Words: trials, clinical, brazil, tested, vaccines\", \"<b>Topic 9</b><br>Words: trials, brazilian, doctor, brazil, paulo\", \"<b>Topic 9</b><br>Words: brazilians, herd, animals, immunity, brazil\", \"<b>Topic 9</b><br>Words: forbids, brazilian, vaccination, law, brazil\", \"<b>Topic 9</b><br>Words: regulatory, directors, brazilian, brazil, paulo\", \"<b>Topic 9</b><br>Words: brazil, china, brazilian, paulo, rio\", \"<b>Topic 9</b><br>Words: trials, clinical, brazilian, brazil, death\", \"<b>Topic 9</b><br>Words: election, brazilian, brazil, paulo, rio\", \"<b>Topic 9</b><br>Words: paulo, chinese, brazilian, brazil, rio\", \"<b>Topic 9</b><br>Words: 2009, brazil, flu, brazilian, paulo\", \"<b>Topic 9</b><br>Words: cologne, spahn, 250, portugal, brazilian\", \"<b>Topic 9</b><br>Words: petition, camila, pitanga, activist, actress\", \"<b>Topic 9</b><br>Words: illegal, portuguese, confinement, court, brazilian\", \"<b>Topic 9</b><br>Words: porto, zero, brazil, hydroxychloroquine, deaths\", \"<b>Topic 9</b><br>Words: baixada, santista, restrictive, commercial, lists\", \"<b>Topic 9</b><br>Words: boulos, einstein, albert, expensive, hospitals\", \"<b>Topic 9</b><br>Words: deadly, brazil, vaccination, brazilian, paulo\", \"<b>Topic 9</b><br>Words: single, brazilian, brazil, paulo, rio\", \"<b>Topic 9</b><br>Words: bribes, paulo, governor, chinese, brazilian\", \"<b>Topic 9</b><br>Words: soccer, catch, illegal, paulo, brazil\", \"<b>Topic 9</b><br>Words: suicidal, cancer, coronavac, brazil, 10\", \"<b>Topic 9</b><br>Words: ghebreyesus, armed, leader, arrested, large\", \"<b>Topic 9</b><br>Words: unconstitutional, 2018, brazilian, vaccination, brazil\", \"<b>Topic 9</b><br>Words: presidents, refused, paulo, brazilian, brazil\", \"<b>Topic 9</b><br>Words: drawing, destruction, egyptian, brazilian, brazil\", \"<b>Topic 9</b><br>Words: 22, paulo, brazilian, brazil, governor\", \"<b>Topic 9</b><br>Words: serum, brazilian, brazil, paulo, rio\", \"<b>Topic 9</b><br>Words: vasconcelos, agglomerating, caetano, actors, journalist\", \"<b>Topic 9</b><br>Words: caetano, maria, dancing, 2019, brazilian\", \"<b>Topic 9</b><br>Words: horse, brasil, serum, plasma, 100\", \"<b>Topic 9</b><br>Words: dancing, indonesia, without, health, brazilian\", \"<b>Topic 9</b><br>Words: mocked, doria, paulo, brazilian, brazil\", \"<b>Topic 9</b><br>Words: martins, brazillian, immunized, amazonas, forbade\", \"<b>Topic 9</b><br>Words: ignoring, immunized, cuts, soccer, brazilian\", \"<b>Topic 9</b><br>Words: jaragu\\u00e1, com, man, vaccinated, old\", \"<b>Topic 9</b><br>Words: bolsonaro, carlos, rio, military, hospital\", \"<b>Topic 9</b><br>Words: fabio, stocks, owns, paulo, governor\", \"<b>Topic 9</b><br>Words: biotech, brazilian, 20, president, brazil\", \"<b>Topic 9</b><br>Words: negotiation, billboards, english, colombian, paulo\", \"<b>Topic 9</b><br>Words: bauru, denied, paulo, brazil, vaccines\", \"<b>Topic 9</b><br>Words: libertadores, final, paulo, without, brazilian\", \"<b>Topic 9</b><br>Words: rollerskating, leblon, rio, without, brazilian\", \"<b>Topic 9</b><br>Words: bras\\u00edlia, strife, bauru, billboards, mayor\", \"<b>Topic 9</b><br>Words: azitromicin, hidroxychloroquine, eduardo, amazonas, decreased\", \"<b>Topic 9</b><br>Words: amazonas, 99, brazilian, death, health\", \"<b>Topic 9</b><br>Words: flamengo, mariana, billboards, 400, paid\", \"<b>Topic 9</b><br>Words: biologist, nat\\u00e1lia, brazilian, treatment, brazil\", \"<b>Topic 9</b><br>Words: drivers, traffic, military, without, brazilian\"], \"marker\": {\"color\": \"#E69F00\"}, \"mode\": \"lines\", \"name\": \"9_brazilian_brazil_paulo_rio\", \"type\": \"scatter\", \"x\": [\"2020-01-26T00:00:00\", \"2020-01-27T00:00:00\", \"2020-02-05T00:00:00\", \"2020-02-12T00:00:00\", \"2020-03-10T00:00:00\", \"2020-03-12T00:00:00\", \"2020-03-13T00:00:00\", \"2020-03-16T00:00:00\", \"2020-03-17T00:00:00\", \"2020-03-18T00:00:00\", \"2020-03-19T00:00:00\", \"2020-03-20T00:00:00\", \"2020-03-21T00:00:00\", \"2020-03-22T00:00:00\", \"2020-03-23T00:00:00\", \"2020-03-24T00:00:00\", \"2020-03-25T00:00:00\", \"2020-03-26T00:00:00\", \"2020-03-27T00:00:00\", \"2020-03-28T00:00:00\", \"2020-03-29T00:00:00\", \"2020-03-30T00:00:00\", \"2020-03-31T00:00:00\", \"2020-04-01T00:00:00\", \"2020-04-02T00:00:00\", \"2020-04-03T00:00:00\", \"2020-04-04T00:00:00\", \"2020-04-05T00:00:00\", \"2020-04-06T00:00:00\", \"2020-04-07T00:00:00\", \"2020-04-08T00:00:00\", \"2020-04-09T00:00:00\", \"2020-04-10T00:00:00\", \"2020-04-12T00:00:00\", \"2020-04-13T00:00:00\", \"2020-04-14T00:00:00\", \"2020-04-15T00:00:00\", \"2020-04-17T00:00:00\", \"2020-04-18T00:00:00\", \"2020-04-19T00:00:00\", \"2020-04-20T00:00:00\", \"2020-04-22T00:00:00\", \"2020-04-23T00:00:00\", \"2020-04-24T00:00:00\", \"2020-04-25T00:00:00\", \"2020-04-26T00:00:00\", \"2020-04-27T00:00:00\", \"2020-04-28T00:00:00\", \"2020-04-29T00:00:00\", \"2020-04-30T00:00:00\", \"2020-05-01T00:00:00\", \"2020-05-02T00:00:00\", \"2020-05-04T00:00:00\", \"2020-05-05T00:00:00\", \"2020-05-06T00:00:00\", \"2020-05-07T00:00:00\", \"2020-05-08T00:00:00\", \"2020-05-11T00:00:00\", \"2020-05-12T00:00:00\", \"2020-05-13T00:00:00\", \"2020-05-14T00:00:00\", \"2020-05-15T00:00:00\", \"2020-05-16T00:00:00\", \"2020-05-17T00:00:00\", \"2020-05-18T00:00:00\", \"2020-05-19T00:00:00\", \"2020-05-20T00:00:00\", \"2020-05-21T00:00:00\", \"2020-05-22T00:00:00\", \"2020-05-24T00:00:00\", \"2020-05-25T00:00:00\", \"2020-05-26T00:00:00\", \"2020-05-28T00:00:00\", \"2020-05-29T00:00:00\", \"2020-06-01T00:00:00\", \"2020-06-02T00:00:00\", \"2020-06-03T00:00:00\", \"2020-06-04T00:00:00\", \"2020-06-05T00:00:00\", \"2020-06-08T00:00:00\", \"2020-06-09T00:00:00\", \"2020-06-10T00:00:00\", \"2020-06-11T00:00:00\", \"2020-06-12T00:00:00\", \"2020-06-13T00:00:00\", \"2020-06-14T00:00:00\", \"2020-06-15T00:00:00\", \"2020-06-16T00:00:00\", \"2020-06-17T00:00:00\", \"2020-06-18T00:00:00\", \"2020-06-19T00:00:00\", \"2020-06-22T00:00:00\", \"2020-06-23T00:00:00\", \"2020-06-24T00:00:00\", \"2020-06-25T00:00:00\", \"2020-06-26T00:00:00\", \"2020-06-29T00:00:00\", \"2020-06-30T00:00:00\", \"2020-07-01T00:00:00\", \"2020-07-02T00:00:00\", \"2020-07-03T00:00:00\", \"2020-07-06T00:00:00\", \"2020-07-07T00:00:00\", \"2020-07-08T00:00:00\", \"2020-07-09T00:00:00\", \"2020-07-10T00:00:00\", \"2020-07-11T00:00:00\", \"2020-07-13T00:00:00\", \"2020-07-14T00:00:00\", \"2020-07-15T00:00:00\", \"2020-07-16T00:00:00\", \"2020-07-17T00:00:00\", \"2020-07-20T00:00:00\", \"2020-07-21T00:00:00\", \"2020-07-22T00:00:00\", \"2020-07-23T00:00:00\", \"2020-07-24T00:00:00\", \"2020-07-27T00:00:00\", \"2020-07-28T00:00:00\", \"2020-07-30T00:00:00\", \"2020-07-31T00:00:00\", \"2020-08-03T00:00:00\", \"2020-08-04T00:00:00\", \"2020-08-05T00:00:00\", \"2020-08-06T00:00:00\", \"2020-08-07T00:00:00\", \"2020-08-10T00:00:00\", \"2020-08-11T00:00:00\", \"2020-08-12T00:00:00\", \"2020-08-13T00:00:00\", \"2020-08-14T00:00:00\", \"2020-08-17T00:00:00\", \"2020-08-18T00:00:00\", \"2020-08-19T00:00:00\", \"2020-08-21T00:00:00\", \"2020-08-24T00:00:00\", \"2020-08-25T00:00:00\", \"2020-08-27T00:00:00\", \"2020-08-31T00:00:00\", \"2020-09-01T00:00:00\", \"2020-09-02T00:00:00\", \"2020-09-03T00:00:00\", \"2020-09-04T00:00:00\", \"2020-09-08T00:00:00\", \"2020-09-10T00:00:00\", \"2020-09-14T00:00:00\", \"2020-09-16T00:00:00\", \"2020-09-17T00:00:00\", \"2020-09-22T00:00:00\", \"2020-09-23T00:00:00\", \"2020-09-26T00:00:00\", \"2020-09-29T00:00:00\", \"2020-09-30T00:00:00\", \"2020-10-02T00:00:00\", \"2020-10-09T00:00:00\", \"2020-10-13T00:00:00\", \"2020-10-19T00:00:00\", \"2020-10-20T00:00:00\", \"2020-10-21T00:00:00\", \"2020-10-22T00:00:00\", \"2020-10-23T00:00:00\", \"2020-10-26T00:00:00\", \"2020-10-27T00:00:00\", \"2020-10-29T00:00:00\", \"2020-10-30T00:00:00\", \"2020-11-13T00:00:00\", \"2020-11-14T00:00:00\", \"2020-11-15T00:00:00\", \"2020-11-17T00:00:00\", \"2020-11-21T00:00:00\", \"2020-11-23T00:00:00\", \"2020-11-24T00:00:00\", \"2020-11-27T00:00:00\", \"2020-12-01T00:00:00\", \"2020-12-04T00:00:00\", \"2020-12-06T00:00:00\", \"2020-12-07T00:00:00\", \"2020-12-10T00:00:00\", \"2020-12-11T00:00:00\", \"2020-12-15T00:00:00\", \"2020-12-17T00:00:00\", \"2020-12-21T00:00:00\", \"2020-12-22T00:00:00\", \"2020-12-23T00:00:00\", \"2020-12-30T00:00:00\", \"2021-01-04T00:00:00\", \"2021-01-05T00:00:00\", \"2021-01-06T00:00:00\", \"2021-01-07T00:00:00\", \"2021-01-11T00:00:00\", \"2021-01-14T00:00:00\", \"2021-01-18T00:00:00\", \"2021-01-19T00:00:00\", \"2021-01-20T00:00:00\", \"2021-01-22T00:00:00\", \"2021-01-26T00:00:00\", \"2021-01-27T00:00:00\", \"2021-01-28T00:00:00\", \"2021-01-29T00:00:00\", \"2021-02-01T00:00:00\", \"2021-02-02T00:00:00\", \"2021-02-04T00:00:00\", \"2021-02-08T00:00:00\", \"2021-02-09T00:00:00\", \"2021-02-10T00:00:00\", \"2021-02-11T00:00:00\", \"2021-02-24T00:00:00\"], \"y\": [1, 1, 2, 1, 2, 2, 1, 2, 4, 2, 2, 4, 1, 7, 5, 2, 2, 3, 2, 1, 2, 10, 3, 4, 6, 6, 8, 3, 4, 5, 5, 7, 1, 1, 6, 7, 6, 6, 2, 2, 7, 8, 3, 4, 2, 1, 2, 3, 4, 12, 1, 1, 5, 5, 5, 2, 5, 6, 5, 4, 5, 3, 3, 1, 5, 4, 6, 5, 2, 1, 3, 5, 4, 3, 2, 1, 2, 2, 3, 4, 2, 4, 2, 6, 3, 2, 5, 2, 7, 11, 4, 1, 1, 2, 8, 2, 1, 2, 3, 3, 3, 1, 1, 2, 3, 3, 1, 3, 2, 2, 4, 5, 2, 3, 5, 3, 2, 3, 2, 3, 4, 1, 1, 1, 3, 5, 2, 1, 8, 3, 4, 2, 3, 2, 1, 1, 1, 3, 2, 1, 2, 2, 3, 2, 1, 3, 1, 1, 1, 3, 1, 1, 1, 1, 1, 1, 2, 1, 1, 1, 1, 2, 2, 1, 1, 2, 1, 1, 1, 2, 1, 1, 1, 3, 1, 1, 1, 1, 1, 1, 2, 1, 1, 1, 1, 1, 2, 3, 1, 1, 1, 3, 2, 2, 1, 1, 1, 2, 1, 1, 1, 2, 2, 1, 2, 1, 1]}, {\"hoverinfo\": \"text\", \"hovertext\": [\"<b>Topic 62</b><br>Words: collapsing, lost, hospital, died, infected\", \"<b>Topic 62</b><br>Words: bites, hyderabad, doctor, died, coffins\", \"<b>Topic 62</b><br>Words: dying, collapses, mall, shopping, patients\", \"<b>Topic 62</b><br>Words: fainted, collapsing, doctor, infected, died\", \"<b>Topic 62</b><br>Words: falling, doctor, patient, coffins, dead\", \"<b>Topic 62</b><br>Words: doctor, coffins, dead, died, falling\", \"<b>Topic 62</b><br>Words: fainting, doctor, infected, patient, coffins\", \"<b>Topic 62</b><br>Words: chow, leslie, surgery, cremated, victim\", \"<b>Topic 62</b><br>Words: infection, doctors, infected, doctor, coffins\", \"<b>Topic 62</b><br>Words: sickbed, murdered, autopsy, doctor, coffins\", \"<b>Topic 62</b><br>Words: couple, elderly, chinese, hospital, doctor\", \"<b>Topic 62</b><br>Words: burned, doctor, coffins, dead, died\", \"<b>Topic 62</b><br>Words: liang, wedding, chinese, coffins, dead\", \"<b>Topic 62</b><br>Words: funeral, couple, elderly, hospital, chinese\", \"<b>Topic 62</b><br>Words: died, infected, doctor, patient, coffins\", \"<b>Topic 62</b><br>Words: turkey, infected, coffins, dead, died\", \"<b>Topic 62</b><br>Words: bodies, hospital, doctor, coffins, dead\", \"<b>Topic 62</b><br>Words: murdered, novel, doctor, coffins, dead\", \"<b>Topic 62</b><br>Words: dying, doctor, coffins, dead, died\", \"<b>Topic 62</b><br>Words: dead, infected, doctor, coffins, died\", \"<b>Topic 62</b><br>Words: drops, dead, doctor, coffins, died\", \"<b>Topic 62</b><br>Words: killed, infected, doctor, coffins, dead\", \"<b>Topic 62</b><br>Words: guru, yoga, ramdev, drops, dead\", \"<b>Topic 62</b><br>Words: warfare, intensive, respirators, audio, madrid\", \"<b>Topic 62</b><br>Words: crematoriums, hospitals, doctor, coffins, dead\", \"<b>Topic 62</b><br>Words: actor, died, doctor, coffins, dead\", \"<b>Topic 62</b><br>Words: collapses, doctor, coffins, dead, died\", \"<b>Topic 62</b><br>Words: coffins, died, doctor, patient, dead\", \"<b>Topic 62</b><br>Words: falling, doctor, coffins, dead, died\", \"<b>Topic 62</b><br>Words: coffins, treating, dead, doctor, died\", \"<b>Topic 62</b><br>Words: dying, killed, died, doctor, coffins\", \"<b>Topic 62</b><br>Words: pakistani, death, doctor, patient, coffins\", \"<b>Topic 62</b><br>Words: madrasas, scholar, suffers, refused, pakistan\", \"<b>Topic 62</b><br>Words: crying, dr, doctor, died, patient\", \"<b>Topic 62</b><br>Words: treating, suicide, died, patients, infected\", \"<b>Topic 62</b><br>Words: coffins, victims, doctor, patient, dead\", \"<b>Topic 62</b><br>Words: suicide, infected, doctor, coffins, dead\", \"<b>Topic 62</b><br>Words: doctor, died, patient, coffins, dead\", \"<b>Topic 62</b><br>Words: treating, dr, doctor, patients, patient\", \"<b>Topic 62</b><br>Words: coffins, barcelona, dead, madrid, hospitals\", \"<b>Topic 62</b><br>Words: mortuary, death, died, infected, hospital\", \"<b>Topic 62</b><br>Words: convoy, cars, bodies, dead, hospital\", \"<b>Topic 62</b><br>Words: mary, coffins, victims, hospital, doctor\", \"<b>Topic 62</b><br>Words: bags, turkey, deaths, doctor, lockdown\", \"<b>Topic 62</b><br>Words: sikh, suicide, infected, doctor, patient\", \"<b>Topic 62</b><br>Words: crowded, barcelona, corpses, madrid, coffins\", \"<b>Topic 62</b><br>Words: crying, hospital, infected, doctor, patient\", \"<b>Topic 62</b><br>Words: rows, medical, doctor, coffins, dead\", \"<b>Topic 62</b><br>Words: bodies, died, doctor, coffins, dead\", \"<b>Topic 62</b><br>Words: neck, cuts, doctor, coffins, dead\", \"<b>Topic 62</b><br>Words: fighting, doctor, patient, coffins, dead\", \"<b>Topic 62</b><br>Words: ulcer, newsflashng, com, pregnant, wife\", \"<b>Topic 62</b><br>Words: coronav\\u00edrus, crying, mother, dead, infected\", \"<b>Topic 62</b><br>Words: 72, pakistani, prayers, closed, doctor\", \"<b>Topic 62</b><br>Words: wrapped, dozens, victims, bodies, dead\", \"<b>Topic 62</b><br>Words: died, doctor, patient, coffins, dead\", \"<b>Topic 62</b><br>Words: trucks, bodies, dead, coffins, died\", \"<b>Topic 62</b><br>Words: killed, doctor, patient, coffins, dead\", \"<b>Topic 62</b><br>Words: wait, tension, 14, doctor, coffins\", \"<b>Topic 62</b><br>Words: collapses, doctor, coffins, dead, died\", \"<b>Topic 62</b><br>Words: killing, doctor, patient, coffins, dead\", \"<b>Topic 62</b><br>Words: rss, religion, lost, doctor, coffins\", \"<b>Topic 62</b><br>Words: treating, doctor, died, hospital, patients\", \"<b>Topic 62</b><br>Words: desperate, mother, lost, patient, coffins\", \"<b>Topic 62</b><br>Words: marry, doctor, infected, coffins, dead\", \"<b>Topic 62</b><br>Words: 80, dead, virus, doctor, coffins\", \"<b>Topic 62</b><br>Words: killed, doctor, health, patient, coffins\", \"<b>Topic 62</b><br>Words: chroma, deaths, doctor, coffins, dead\", \"<b>Topic 62</b><br>Words: infection, doctor, coffins, dead, died\", \"<b>Topic 62</b><br>Words: mortuary, bodies, dead, hospital, doctor\", \"<b>Topic 62</b><br>Words: zipper, corpse, viral, coffins, dead\", \"<b>Topic 62</b><br>Words: lyricist, celebrity, died, doctor, patient\", \"<b>Topic 62</b><br>Words: comedian, died, doctor, patient, coffins\", \"<b>Topic 62</b><br>Words: died, doctor, patient, coffins, dead\", \"<b>Topic 62</b><br>Words: procession, funeral, doctor, patient, coffins\", \"<b>Topic 62</b><br>Words: collapsed, accident, death, coffins, dead\", \"<b>Topic 62</b><br>Words: doctors, died, infected, hospital, doctor\", \"<b>Topic 62</b><br>Words: kidney, deceased, patient, hospital, doctor\", \"<b>Topic 62</b><br>Words: kidney, patient, medical, hospital, doctor\", \"<b>Topic 62</b><br>Words: singer, doctor, patient, coffins, dead\", \"<b>Topic 62</b><br>Words: kidney, patient, doctor, coffins, dead\", \"<b>Topic 62</b><br>Words: kidney, patient, doctor, coffins, dead\", \"<b>Topic 62</b><br>Words: doctor, died, patient, coffins, dead\", \"<b>Topic 62</b><br>Words: deceased, rs, doctor, patient, coffins\", \"<b>Topic 62</b><br>Words: georgia, death, disease, died, virus\", \"<b>Topic 62</b><br>Words: punctured, doctor, patient, coffins, dead\", \"<b>Topic 62</b><br>Words: patient, doctor, coffins, dead, died\", \"<b>Topic 62</b><br>Words: lorries, transporting, coffins, doctor, dead\", \"<b>Topic 62</b><br>Words: coffins, victims, doctor, patient, dead\", \"<b>Topic 62</b><br>Words: vaccineted, doctor, died, coffins, dead\", \"<b>Topic 62</b><br>Words: coronavac, died, doctor, coffins, dead\", \"<b>Topic 62</b><br>Words: disfunction, vaccinethe, lying, immunity, hospital\", \"<b>Topic 62</b><br>Words: died, doctor, patient, coffins, dead\"], \"marker\": {\"color\": \"#56B4E9\"}, \"mode\": \"lines\", \"name\": \"62_doctor_patient_coffins_dead\", \"type\": \"scatter\", \"x\": [\"2020-01-27T00:00:00\", \"2020-01-28T00:00:00\", \"2020-01-29T00:00:00\", \"2020-01-30T00:00:00\", \"2020-02-01T00:00:00\", \"2020-02-02T00:00:00\", \"2020-02-03T00:00:00\", \"2020-02-04T00:00:00\", \"2020-02-06T00:00:00\", \"2020-02-08T00:00:00\", \"2020-02-12T00:00:00\", \"2020-02-17T00:00:00\", \"2020-02-18T00:00:00\", \"2020-02-19T00:00:00\", \"2020-02-22T00:00:00\", \"2020-02-24T00:00:00\", \"2020-02-27T00:00:00\", \"2020-03-02T00:00:00\", \"2020-03-04T00:00:00\", \"2020-03-06T00:00:00\", \"2020-03-09T00:00:00\", \"2020-03-10T00:00:00\", \"2020-03-11T00:00:00\", \"2020-03-12T00:00:00\", \"2020-03-13T00:00:00\", \"2020-03-15T00:00:00\", \"2020-03-16T00:00:00\", \"2020-03-17T00:00:00\", \"2020-03-18T00:00:00\", \"2020-03-20T00:00:00\", \"2020-03-21T00:00:00\", \"2020-03-24T00:00:00\", \"2020-03-25T00:00:00\", \"2020-03-27T00:00:00\", \"2020-03-28T00:00:00\", \"2020-03-29T00:00:00\", \"2020-03-30T00:00:00\", \"2020-03-31T00:00:00\", \"2020-04-01T00:00:00\", \"2020-04-02T00:00:00\", \"2020-04-03T00:00:00\", \"2020-04-04T00:00:00\", \"2020-04-06T00:00:00\", \"2020-04-07T00:00:00\", \"2020-04-10T00:00:00\", \"2020-04-11T00:00:00\", \"2020-04-12T00:00:00\", \"2020-04-13T00:00:00\", \"2020-04-14T00:00:00\", \"2020-04-16T00:00:00\", \"2020-04-18T00:00:00\", \"2020-04-19T00:00:00\", \"2020-04-20T00:00:00\", \"2020-04-21T00:00:00\", \"2020-04-26T00:00:00\", \"2020-04-29T00:00:00\", \"2020-05-06T00:00:00\", \"2020-05-07T00:00:00\", \"2020-05-12T00:00:00\", \"2020-05-14T00:00:00\", \"2020-05-15T00:00:00\", \"2020-05-20T00:00:00\", \"2020-05-21T00:00:00\", \"2020-05-23T00:00:00\", \"2020-05-27T00:00:00\", \"2020-06-11T00:00:00\", \"2020-06-18T00:00:00\", \"2020-06-23T00:00:00\", \"2020-06-26T00:00:00\", \"2020-06-27T00:00:00\", \"2020-06-30T00:00:00\", \"2020-07-12T00:00:00\", \"2020-07-21T00:00:00\", \"2020-07-23T00:00:00\", \"2020-08-08T00:00:00\", \"2020-08-14T00:00:00\", \"2020-08-16T00:00:00\", \"2020-08-19T00:00:00\", \"2020-08-25T00:00:00\", \"2020-08-26T00:00:00\", \"2020-08-29T00:00:00\", \"2020-09-02T00:00:00\", \"2020-09-07T00:00:00\", \"2020-09-28T00:00:00\", \"2020-09-29T00:00:00\", \"2020-10-23T00:00:00\", \"2020-11-03T00:00:00\", \"2020-11-13T00:00:00\", \"2020-12-04T00:00:00\", \"2021-01-13T00:00:00\", \"2021-01-27T00:00:00\", \"2021-02-11T00:00:00\", \"2021-02-12T00:00:00\"], \"y\": [2, 3, 5, 4, 2, 1, 3, 8, 3, 1, 2, 1, 2, 3, 1, 2, 1, 3, 1, 1, 1, 1, 2, 2, 1, 1, 1, 2, 1, 3, 2, 1, 4, 2, 3, 1, 1, 1, 1, 4, 3, 2, 2, 2, 2, 1, 1, 1, 2, 1, 1, 2, 2, 1, 1, 1, 1, 1, 1, 1, 1, 1, 1, 1, 1, 1, 1, 1, 1, 1, 1, 1, 1, 1, 1, 2, 1, 1, 1, 1, 1, 1, 1, 1, 1, 1, 1, 1, 1, 1, 1, 1, 1]}, {\"hoverinfo\": \"text\", \"hovertext\": [\"<b>Topic 95</b><br>Words: centuries, pandemics, several, billions, millions\", \"<b>Topic 95</b><br>Words: authors, 65, 2019, kill, hundreds\", \"<b>Topic 95</b><br>Words: 31, 500, thousands, hundreds, twitter\", \"<b>Topic 95</b><br>Words: farts, airports, stations, temperatures, infrared\", \"<b>Topic 95</b><br>Words: breakinguk, updates, full, hundreds, virus\", \"<b>Topic 95</b><br>Words: 20th, epidemics, 100, every, spread\", \"<b>Topic 95</b><br>Words: illness, 400, pneumonia, published, spread\", \"<b>Topic 95</b><br>Words: 2016, coincide, 2004, outbreaks, 2018\", \"<b>Topic 95</b><br>Words: contagion, 50, every, multiple, thousands\", \"<b>Topic 95</b><br>Words: sponsored, patient, facebook, shared, twitter\", \"<b>Topic 95</b><br>Words: global, reveal, 96, twitter, distributed\", \"<b>Topic 95</b><br>Words: election, every, outbreak, thousands, hundreds\", \"<b>Topic 95</b><br>Words: outbreaks, pandemics, shaman, 600, youtube\", \"<b>Topic 95</b><br>Words: 1920, 165, wipe, 1918, hundreds\", \"<b>Topic 95</b><br>Words: seizing, shares, thousands, facebook, infected\", \"<b>Topic 95</b><br>Words: shelves, barren, fully, stocked, meme\", \"<b>Topic 95</b><br>Words: erupting, reddit, fire, sparked, explosion\", \"<b>Topic 95</b><br>Words: rawalpindi, junction, locking, disclosing, paramedics\", \"<b>Topic 95</b><br>Words: 1720, 1919, cleans, pandemia, formula\", \"<b>Topic 95</b><br>Words: pumps, petrol, lists, thousands, companies\", \"<b>Topic 95</b><br>Words: pack, rescue, practitioners, thousands, medication\", \"<b>Topic 95</b><br>Words: donations, packets, millions, food, youtube\", \"<b>Topic 95</b><br>Words: thousands, verses, hotline, multiple, hundreds\", \"<b>Topic 95</b><br>Words: lorries, fleet, pakistan, funerals, burials\", \"<b>Topic 95</b><br>Words: thailand, repeatedly, extinction, rebellion, multiple\", \"<b>Topic 95</b><br>Words: skating, rink, widely, ice, australian\", \"<b>Topic 95</b><br>Words: scandal, parents, crying, 20, beds\", \"<b>Topic 95</b><br>Words: exclusively, multiple, publish, shared, hundreds\", \"<b>Topic 95</b><br>Words: drone, consumer, scaring, pasta, ghost\", \"<b>Topic 95</b><br>Words: methods, autopsies, invented, rapid, victims\", \"<b>Topic 95</b><br>Words: lootings, languages, strewn, websites, shared\", \"<b>Topic 95</b><br>Words: korea, japan, multiple, philippines, boxes\", \"<b>Topic 95</b><br>Words: webpage, vips, exclusively, messaging, thailand\", \"<b>Topic 95</b><br>Words: shaking, violently, lying, ramaphosa, grocery\", \"<b>Topic 95</b><br>Words: suicide, weibo, thousands, nationwide, food\", \"<b>Topic 95</b><br>Words: emirates, exploited, sharjah, traces, spice\", \"<b>Topic 95</b><br>Words: outlawed, assaulted, weibo, ramaphosa, disaster\", \"<b>Topic 95</b><br>Words: singapore, april, 2020, facebook, thousands\", \"<b>Topic 95</b><br>Words: growing, storming, thousands, mob, woman\", \"<b>Topic 95</b><br>Words: guinea, praying, youtube, shared, novel\", \"<b>Topic 95</b><br>Words: salad, permitted, blogs, twitter, sit\", \"<b>Topic 95</b><br>Words: apprehending, thousands, men, patient, facebook\", \"<b>Topic 95</b><br>Words: coworker, exhausted, cremated, funeral, thousands\", \"<b>Topic 95</b><br>Words: blister, overworked, sites, cremated, repeatedly\", \"<b>Topic 95</b><br>Words: killed, multiple, thousands, shared, facebook\", \"<b>Topic 95</b><br>Words: 290, weibo, banknotes, repeatedly, election\", \"<b>Topic 95</b><br>Words: euthanising, corpses, elderly, thousands, death\", \"<b>Topic 95</b><br>Words: salons, dozens, 50, hundreds, victims\", \"<b>Topic 95</b><br>Words: ingesting, 2016, vendors, philippine, youtube\", \"<b>Topic 95</b><br>Words: three, scientists, vaccination, shared, facebook\", \"<b>Topic 95</b><br>Words: aids, crowded, beach, hundreds, africa\", \"<b>Topic 95</b><br>Words: euthanised, elderly, shooting, hundreds, bodies\", \"<b>Topic 95</b><br>Words: calgary, crowded, volunteers, breaking, canada\", \"<b>Topic 95</b><br>Words: 128, invoice, repeatedly, oxford, trial\", \"<b>Topic 95</b><br>Words: app, australia, hundreds, shared, facebook\", \"<b>Topic 95</b><br>Words: shortages, jennifer, grain, sacks, parrots\", \"<b>Topic 95</b><br>Words: sydney, improved, quality, comments, shared\", \"<b>Topic 95</b><br>Words: parade, saudi, instagram, youtube, multiple\", \"<b>Topic 95</b><br>Words: shrubs, overgrown, park, malaysia, twitter\", \"<b>Topic 95</b><br>Words: meal, enjoyed, evening, dozens, pakistani\", \"<b>Topic 95</b><br>Words: tattoos, holocaust, 160, victims, 000\", \"<b>Topic 95</b><br>Words: antiviral, remdesivir, hundreds, medicine, treatment\", \"<b>Topic 95</b><br>Words: salons, anthony, strike, november, began\", \"<b>Topic 95</b><br>Words: eight, prayers, thousands, contracting, boy\", \"<b>Topic 95</b><br>Words: thailand, category, index, ranked, lowest\", \"<b>Topic 95</b><br>Words: 1950, outbreaks, list, hundreds, 2019\", \"<b>Topic 95</b><br>Words: herbal, madagascar, remedy, hundreds, donald\", \"<b>Topic 95</b><br>Words: slickly, eradicating, congratulating, sloth, discredited\", \"<b>Topic 95</b><br>Words: distributed, repeatedly, multiple, twitter, shared\", \"<b>Topic 95</b><br>Words: fatalities, plans, nationwide, influenza, prevention\", \"<b>Topic 95</b><br>Words: provincial, unable, exam, refuses, pakistani\", \"<b>Topic 95</b><br>Words: hundreds, plane, passengers, texas, attacking\", \"<b>Topic 95</b><br>Words: authorises, twitter, repeatedly, rates, kingdom\", \"<b>Topic 95</b><br>Words: banknotes, babies, philanthropist, billionaire, australian\", \"<b>Topic 95</b><br>Words: rumours, rivals, alleging, blogger, sudan\", \"<b>Topic 95</b><br>Words: chiquimula, guatemala, networks, death, multiple\", \"<b>Topic 95</b><br>Words: battles, infections, shared, facebook, multiple\", \"<b>Topic 95</b><br>Words: remedy, youtube, salt, twitter, shared\", \"<b>Topic 95</b><br>Words: skyrocketing, suicide, multiple, thousands, hundreds\", \"<b>Topic 95</b><br>Words: puncture, lifts, insect, wounds, several\", \"<b>Topic 95</b><br>Words: virtual, philanthropist, multiple, billionaire, capital\", \"<b>Topic 95</b><br>Words: intubated, chest, surgery, thousands, heart\", \"<b>Topic 95</b><br>Words: insect, bite, chaos, attack, deadly\", \"<b>Topic 95</b><br>Words: virologist, list, spread, multiple, twitter\", \"<b>Topic 95</b><br>Words: android, aerial, automatically, google, application\", \"<b>Topic 95</b><br>Words: swabbed, noses, throats, meme, politicians\", \"<b>Topic 95</b><br>Words: baswedan, governor, best, youtube, facebook\", \"<b>Topic 95</b><br>Words: africa, 100, years, spanish, thousands\", \"<b>Topic 95</b><br>Words: raped, webpage, stabbed, measles, websites\", \"<b>Topic 95</b><br>Words: lawsuits, facebook, thousands, hundreds, pandemic\", \"<b>Topic 95</b><br>Words: canada, thousands, shared, facebook, multiple\", \"<b>Topic 95</b><br>Words: overflow, beds, thousands, hospital, facebook\", \"<b>Topic 95</b><br>Words: lawsuits, facebook, thousands, hundreds, repeatedly\", \"<b>Topic 95</b><br>Words: vitamins, diet, sunlight, treatments, remedies\", \"<b>Topic 95</b><br>Words: everytime, google, blog, creating, users\", \"<b>Topic 95</b><br>Words: banking, banco, personal, link, argentine\", \"<b>Topic 95</b><br>Words: toronto, communion, canadian, banned, facebook\", \"<b>Topic 95</b><br>Words: hazard, thousands, shared, facebook, hundreds\", \"<b>Topic 95</b><br>Words: undertakers, burying, funerals, corpse, thousand\", \"<b>Topic 95</b><br>Words: residences, zealand, candidate, elections, military\", \"<b>Topic 95</b><br>Words: ukrainian, lugansk, kharkiv, participating, trials\", \"<b>Topic 95</b><br>Words: stories, fraud, boy, facebook, died\", \"<b>Topic 95</b><br>Words: inflamed, tonsils, circulating, facebook, thousands\", \"<b>Topic 95</b><br>Words: protesters, circulating, media, thousands, hundreds\", \"<b>Topic 95</b><br>Words: exempted, washington, funeral, georgia, risk\", \"<b>Topic 95</b><br>Words: hundreds, 2005, websites, treatments, coronaviruses\", \"<b>Topic 95</b><br>Words: australia, between, flu, facebook, multiple\", \"<b>Topic 95</b><br>Words: guards, host, fox, 50, news\", \"<b>Topic 95</b><br>Words: australian, radio, broadcast, 25, homes\", \"<b>Topic 95</b><br>Words: consecutive, 100th, hindu, zealand, temple\", \"<b>Topic 95</b><br>Words: auckland, bubble, tourists, zealand, august\", \"<b>Topic 95</b><br>Words: parent, lawsuits, canada, parliament, school\", \"<b>Topic 95</b><br>Words: conspiracies, television, australian, multiple, facebook\", \"<b>Topic 95</b><br>Words: chiang, posted, novel, multiple, thousands\", \"<b>Topic 95</b><br>Words: popstar, visualization, knew, microbes, penetrate\", \"<b>Topic 95</b><br>Words: email, hospitals, viral, thousands, hundreds\", \"<b>Topic 95</b><br>Words: attack, 20, bill, multiple, hundreds\", \"<b>Topic 95</b><br>Words: nationwide, combat, virus, lockdown, thousands\", \"<b>Topic 95</b><br>Words: suicides, celebrities, 250, instagram, 200\", \"<b>Topic 95</b><br>Words: certificates, microsoft, networks, vaccines, shared\"], \"marker\": {\"color\": \"#009E73\"}, \"mode\": \"lines\", \"name\": \"95_multiple_thousands_hundreds_twitter\", \"type\": \"scatter\", \"x\": [\"2020-01-29T00:00:00\", \"2020-01-30T00:00:00\", \"2020-01-31T00:00:00\", \"2020-02-05T00:00:00\", \"2020-02-11T00:00:00\", \"2020-02-13T00:00:00\", \"2020-02-27T00:00:00\", \"2020-02-28T00:00:00\", \"2020-03-05T00:00:00\", \"2020-03-06T00:00:00\", \"2020-03-07T00:00:00\", \"2020-03-10T00:00:00\", \"2020-03-12T00:00:00\", \"2020-03-13T00:00:00\", \"2020-03-14T00:00:00\", \"2020-03-15T00:00:00\", \"2020-03-18T00:00:00\", \"2020-03-19T00:00:00\", \"2020-03-20T00:00:00\", \"2020-03-21T00:00:00\", \"2020-03-22T00:00:00\", \"2020-03-23T00:00:00\", \"2020-03-24T00:00:00\", \"2020-03-25T00:00:00\", \"2020-03-26T00:00:00\", \"2020-03-27T00:00:00\", \"2020-03-28T00:00:00\", \"2020-03-29T00:00:00\", \"2020-03-30T00:00:00\", \"2020-03-31T00:00:00\", \"2020-04-01T00:00:00\", \"2020-04-02T00:00:00\", \"2020-04-03T00:00:00\", \"2020-04-04T00:00:00\", \"2020-04-05T00:00:00\", \"2020-04-06T00:00:00\", \"2020-04-07T00:00:00\", \"2020-04-08T00:00:00\", \"2020-04-09T00:00:00\", \"2020-04-10T00:00:00\", \"2020-04-11T00:00:00\", \"2020-04-12T00:00:00\", \"2020-04-13T00:00:00\", \"2020-04-14T00:00:00\", \"2020-04-15T00:00:00\", \"2020-04-18T00:00:00\", \"2020-04-19T00:00:00\", \"2020-04-20T00:00:00\", \"2020-04-21T00:00:00\", \"2020-04-22T00:00:00\", \"2020-04-23T00:00:00\", \"2020-04-24T00:00:00\", \"2020-04-25T00:00:00\", \"2020-04-26T00:00:00\", \"2020-04-27T00:00:00\", \"2020-04-28T00:00:00\", \"2020-04-29T00:00:00\", \"2020-05-01T00:00:00\", \"2020-05-02T00:00:00\", \"2020-05-03T00:00:00\", \"2020-05-04T00:00:00\", \"2020-05-05T00:00:00\", \"2020-05-06T00:00:00\", \"2020-05-07T00:00:00\", \"2020-05-08T00:00:00\", \"2020-05-09T00:00:00\", \"2020-05-10T00:00:00\", \"2020-05-11T00:00:00\", \"2020-05-12T00:00:00\", \"2020-05-14T00:00:00\", \"2020-05-15T00:00:00\", \"2020-05-16T00:00:00\", \"2020-05-17T00:00:00\", \"2020-05-18T00:00:00\", \"2020-05-21T00:00:00\", \"2020-05-22T00:00:00\", \"2020-05-23T00:00:00\", \"2020-05-24T00:00:00\", \"2020-05-26T00:00:00\", \"2020-05-27T00:00:00\", \"2020-05-30T00:00:00\", \"2020-05-31T00:00:00\", \"2020-06-04T00:00:00\", \"2020-06-05T00:00:00\", \"2020-06-06T00:00:00\", \"2020-06-07T00:00:00\", \"2020-06-10T00:00:00\", \"2020-06-11T00:00:00\", \"2020-06-12T00:00:00\", \"2020-06-13T00:00:00\", \"2020-06-14T00:00:00\", \"2020-06-15T00:00:00\", \"2020-06-16T00:00:00\", \"2020-06-22T00:00:00\", \"2020-06-24T00:00:00\", \"2020-07-06T00:00:00\", \"2020-07-08T00:00:00\", \"2020-07-16T00:00:00\", \"2020-07-21T00:00:00\", \"2020-07-22T00:00:00\", \"2020-07-27T00:00:00\", \"2020-07-28T00:00:00\", \"2020-07-31T00:00:00\", \"2020-08-01T00:00:00\", \"2020-08-02T00:00:00\", \"2020-08-03T00:00:00\", \"2020-08-05T00:00:00\", \"2020-08-06T00:00:00\", \"2020-08-07T00:00:00\", \"2020-08-08T00:00:00\", \"2020-08-12T00:00:00\", \"2020-08-15T00:00:00\", \"2020-08-17T00:00:00\", \"2020-08-18T00:00:00\", \"2020-08-26T00:00:00\", \"2020-09-25T00:00:00\", \"2020-09-27T00:00:00\", \"2020-11-15T00:00:00\", \"2020-11-20T00:00:00\", \"2021-02-15T00:00:00\"], \"y\": [3, 1, 1, 1, 2, 1, 1, 2, 2, 1, 4, 1, 4, 3, 1, 2, 2, 3, 3, 2, 9, 3, 9, 4, 5, 8, 2, 6, 2, 2, 3, 2, 2, 4, 2, 3, 3, 1, 3, 2, 3, 2, 1, 3, 1, 2, 1, 2, 2, 1, 2, 4, 2, 2, 1, 2, 2, 1, 1, 2, 1, 1, 2, 3, 4, 1, 1, 3, 1, 2, 3, 4, 2, 2, 2, 1, 1, 1, 1, 3, 2, 4, 2, 1, 2, 2, 1, 1, 2, 1, 1, 1, 1, 2, 2, 1, 1, 1, 1, 1, 1, 1, 1, 1, 1, 2, 1, 2, 1, 1, 1, 2, 1, 1, 3, 1, 1, 1, 1, 1]}, {\"hoverinfo\": \"text\", \"hovertext\": [\"<b>Topic 230</b><br>Words: virus, tests, sweden, immune, isolated\", \"<b>Topic 230</b><br>Words: disinfectant, immune, children, tests, never\", \"<b>Topic 230</b><br>Words: ghana, never, immune, without, isolated\", \"<b>Topic 230</b><br>Words: resistant, tests, never, immune, isolated\", \"<b>Topic 230</b><br>Words: resistant, skin, african, never, immune\", \"<b>Topic 230</b><br>Words: warm, tests, sweden, sars, immune\", \"<b>Topic 230</b><br>Words: tests, asymptomatic, never, sweden, immune\", \"<b>Topic 230</b><br>Words: screening, sputum, runny, fewer, nothing\", \"<b>Topic 230</b><br>Words: avoids, smokers, free, never, immune\", \"<b>Topic 230</b><br>Words: mortuary, care, novel, infected, pcr\", \"<b>Topic 230</b><br>Words: disinfectant, nothing, sanitizer, virus, tests\", \"<b>Topic 230</b><br>Words: expert, efficient, ebola, professor, risk\", \"<b>Topic 230</b><br>Words: cold, doctor, tests, never, sweden\", \"<b>Topic 230</b><br>Words: conspiracy, profit, pharmaceutical, dangerous, outbreak\", \"<b>Topic 230</b><br>Words: denmark, israel, cure, china, tests\", \"<b>Topic 230</b><br>Words: soldiers, busy, 37, everybody, immune\", \"<b>Topic 230</b><br>Words: deadly, virus, tests, detect, immune\", \"<b>Topic 230</b><br>Words: low, greece, complications, danger, refused\", \"<b>Topic 230</b><br>Words: nothing, asymptomatic, never, immune, without\", \"<b>Topic 230</b><br>Words: russia, tests, detect, asymptomatic, sweden\", \"<b>Topic 230</b><br>Words: immune, tests, sweden, isolated, dangerous\", \"<b>Topic 230</b><br>Words: diamond, princess, dangerous, tests, detect\", \"<b>Topic 230</b><br>Words: lockdowns, israel, without, tests, never\", \"<b>Topic 230</b><br>Words: malaria, steve, sisolak, nevada, banned\", \"<b>Topic 230</b><br>Words: problem, strain, best, israel, isolation\", \"<b>Topic 230</b><br>Words: arresting, authorities, spanish, tests, never\", \"<b>Topic 230</b><br>Words: nitrogen, dutch, tiny, agricultural, sector\", \"<b>Topic 230</b><br>Words: tries, fake, dangerous, tests, sweden\", \"<b>Topic 230</b><br>Words: catch, management, citizen, less, alcohol\", \"<b>Topic 230</b><br>Words: madagascar, without, only, never, sweden\", \"<b>Topic 230</b><br>Words: afraid, few, infected, tests, asymptomatic\", \"<b>Topic 230</b><br>Words: magnitude, worldwide, pandemics, diseases, tests\", \"<b>Topic 230</b><br>Words: fewer, coronaviruses, four, vaccination, media\", \"<b>Topic 230</b><br>Words: nude, statue, danish, failed, donald\", \"<b>Topic 230</b><br>Words: aerosols, tests, asymptomatic, sars, immune\", \"<b>Topic 230</b><br>Words: herbalist, herbs, heal, drugs, allowed\", \"<b>Topic 230</b><br>Words: pills, arbidol, saved, medication, johnson\", \"<b>Topic 230</b><br>Words: iron, excessive, pneumonia, tests, asymptomatic\", \"<b>Topic 230</b><br>Words: denmark, norway, worse, sweden, never\", \"<b>Topic 230</b><br>Words: profitable, deborah, normal, private, lack\", \"<b>Topic 230</b><br>Words: nor, therapy, corona, isolation, text\", \"<b>Topic 230</b><br>Words: deadly, corona, virus, tests, never\", \"<b>Topic 230</b><br>Words: thrombosis, pneumonia, virus, tests, asymptomatic\", \"<b>Topic 230</b><br>Words: madagascar, tests, sweden, immune, isolated\", \"<b>Topic 230</b><br>Words: disposable, gloves, tests, detect, asymptomatic\", \"<b>Topic 230</b><br>Words: belarus, quarantine, tests, sweden, immune\", \"<b>Topic 230</b><br>Words: belarus, quarantine, tests, asymptomatic, sweden\", \"<b>Topic 230</b><br>Words: remain, registry, 12, total, respiratory\", \"<b>Topic 230</b><br>Words: tests, asymptomatic, sweden, immune, isolated\", \"<b>Topic 230</b><br>Words: flu, tests, asymptomatic, never, sweden\", \"<b>Topic 230</b><br>Words: bacterium, thrombosis, pneumonia, tests, kill\", \"<b>Topic 230</b><br>Words: worldalcohol, antibiotics, cure, virus, health\", \"<b>Topic 230</b><br>Words: pass, nothing, hoax, gates, without\", \"<b>Topic 230</b><br>Words: unlike, 2003, panic, quarantine, tests\", \"<b>Topic 230</b><br>Words: tests, never, sweden, immune, isolated\", \"<b>Topic 230</b><br>Words: discourage, health, masks, tests, asymptomatic\", \"<b>Topic 230</b><br>Words: tests, sweden, immune, isolated, dangerous\", \"<b>Topic 230</b><br>Words: socialist, tests, detect, sweden, immune\", \"<b>Topic 230</b><br>Words: transmit, never, infection, patients, lockdown\", \"<b>Topic 230</b><br>Words: rarely, contagious, tests, sweden, immune\", \"<b>Topic 230</b><br>Words: asymptomatic, spread, tests, detect, sweden\", \"<b>Topic 230</b><br>Words: epidemic, tests, only, never, pandemic\", \"<b>Topic 230</b><br>Words: few, testing, tests, detect, asymptomatic\", \"<b>Topic 230</b><br>Words: tests, asymptomatic, sweden, immune, isolated\", \"<b>Topic 230</b><br>Words: bacterial, infection, virus, tests, immune\", \"<b>Topic 230</b><br>Words: afraid, few, tests, asymptomatic, immune\", \"<b>Topic 230</b><br>Words: own, tests, asymptomatic, never, immune\", \"<b>Topic 230</b><br>Words: pandemicthe, stakhiv, tests, detect, asymptomatic\", \"<b>Topic 230</b><br>Words: proving, transmit, 26, scientific, asymptomatic\", \"<b>Topic 230</b><br>Words: europe, doctor, tests, never, sweden\", \"<b>Topic 230</b><br>Words: transmit, infectious, asymptomatic, tests, detect\", \"<b>Topic 230</b><br>Words: verifying, pathologists, sars, identify, antibodies\", \"<b>Topic 230</b><br>Words: infections, test, doctor, tests, asymptomatic\", \"<b>Topic 230</b><br>Words: asymptomatic, immune, virus, tests, detect\", \"<b>Topic 230</b><br>Words: tools, doubt, tests, detect, never\", \"<b>Topic 230</b><br>Words: inventor, measles, ebola, cannot, test\", \"<b>Topic 230</b><br>Words: lockdowns, tests, asymptomatic, sweden, immune\", \"<b>Topic 230</b><br>Words: churches, tests, never, sweden, immune\", \"<b>Topic 230</b><br>Words: liabilities, procuders, coats, never, white\", \"<b>Topic 230</b><br>Words: strains, pointless, mutations, tests, never\", \"<b>Topic 230</b><br>Words: sweden, unnecessary, few, proves, other\", \"<b>Topic 230</b><br>Words: sweden, never, spain, italy, tests\", \"<b>Topic 230</b><br>Words: euskadi, biologists, chemistry, dean, college\", \"<b>Topic 230</b><br>Words: immune, tests, sweden, isolated, dangerous\", \"<b>Topic 230</b><br>Words: detect, pcr, tests, asymptomatic, sweden\", \"<b>Topic 230</b><br>Words: inventing, detection, winner, prize, nobel\", \"<b>Topic 230</b><br>Words: infect, picky, famous, tests, never\", \"<b>Topic 230</b><br>Words: karl, friston, immune, found, tests\", \"<b>Topic 230</b><br>Words: polymerase, inventor, pcr, detect, viruses\", \"<b>Topic 230</b><br>Words: detect, pcr, tests, asymptomatic, sweden\", \"<b>Topic 230</b><br>Words: susceptible, supermarket, infection, tests, never\", \"<b>Topic 230</b><br>Words: scientifically, proven, tests, detect, immune\", \"<b>Topic 230</b><br>Words: medical, tests, immune, isolated, dangerous\", \"<b>Topic 230</b><br>Words: fail, isolated, prevention, tests, disease\", \"<b>Topic 230</b><br>Words: inappropriately, testing, test, virus, tests\", \"<b>Topic 230</b><br>Words: purification, contagious, cells, created, virus\", \"<b>Topic 230</b><br>Words: aerial, mosquitoes, bacterium, spraying, epidemic\", \"<b>Topic 230</b><br>Words: dangerous, tests, flu, disease, asymptomatic\", \"<b>Topic 230</b><br>Words: droplets, airborne, antibodies, proven, transmitted\", \"<b>Topic 230</b><br>Words: disrespecting, detecting, distance, without, no\", \"<b>Topic 230</b><br>Words: tests, never, sweden, immune, isolated\", \"<b>Topic 230</b><br>Words: computer, reliable, test, only, virus\", \"<b>Topic 230</b><br>Words: deceased, infections, virus, pcr, tests\", \"<b>Topic 230</b><br>Words: kingdom, vaccines, tests, asymptomatic, never\", \"<b>Topic 230</b><br>Words: seasonal, deadly, dangerous, flu, health\", \"<b>Topic 230</b><br>Words: masons, iraq, invented, virus, tests\", \"<b>Topic 230</b><br>Words: chlorine, dioxide, tests, detect, asymptomatic\", \"<b>Topic 230</b><br>Words: sweden, restrictions, mandatory, other, masks\", \"<b>Topic 230</b><br>Words: thrombosis, pneumonia, tests, asymptomatic, immune\", \"<b>Topic 230</b><br>Words: cdcs, sarscov2, denied, tests, infected\", \"<b>Topic 230</b><br>Words: failed, campaign, tests, never, immune\", \"<b>Topic 230</b><br>Words: estonia, 98, medication, treat, tests\", \"<b>Topic 230</b><br>Words: isolated, never, tests, sweden, immune\", \"<b>Topic 230</b><br>Words: 99, sars, tests, asymptomatic, sweden\", \"<b>Topic 230</b><br>Words: fewer, spain, tests, asymptomatic, sweden\", \"<b>Topic 230</b><br>Words: infect, detect, asymptomatic, cannot, immune\", \"<b>Topic 230</b><br>Words: research, scientists, tests, sweden, immune\", \"<b>Topic 230</b><br>Words: vaccines, pandemic, tests, asymptomatic, immune\", \"<b>Topic 230</b><br>Words: aids, common, cancer, sars, flu\", \"<b>Topic 230</b><br>Words: syringe, needle, never, vaccination, cure\", \"<b>Topic 230</b><br>Words: boris, scientists, tests, detect, never\", \"<b>Topic 230</b><br>Words: faucci, anthony, fauci, vaccinated, pcr\", \"<b>Topic 230</b><br>Words: efficacy, safety, coronavac, tests, asymptomatic\", \"<b>Topic 230</b><br>Words: futile, detection, detect, tests, asymptomatic\", \"<b>Topic 230</b><br>Words: doubted, efficacy, coronavac, tests, never\", \"<b>Topic 230</b><br>Words: lethality, lowest, protocol, treatment, tests\", \"<b>Topic 230</b><br>Words: vaccined, injection, pcr, tests, asymptomatic\", \"<b>Topic 230</b><br>Words: harmless, protocols, wrong, herd, sweden\", \"<b>Topic 230</b><br>Words: syringe, needle, vaccinated, vaccination, tests\"], \"marker\": {\"color\": \"#F0E442\"}, \"mode\": \"lines\", \"name\": \"230_tests_never_sweden_immune\", \"type\": \"scatter\", \"x\": [\"2020-02-01T00:00:00\", \"2020-02-05T00:00:00\", \"2020-02-06T00:00:00\", \"2020-02-17T00:00:00\", \"2020-02-19T00:00:00\", \"2020-02-27T00:00:00\", \"2020-03-01T00:00:00\", \"2020-03-02T00:00:00\", \"2020-03-04T00:00:00\", \"2020-03-06T00:00:00\", \"2020-03-09T00:00:00\", \"2020-03-10T00:00:00\", \"2020-03-11T00:00:00\", \"2020-03-12T00:00:00\", \"2020-03-13T00:00:00\", \"2020-03-14T00:00:00\", \"2020-03-16T00:00:00\", \"2020-03-17T00:00:00\", \"2020-03-18T00:00:00\", \"2020-03-20T00:00:00\", \"2020-03-22T00:00:00\", \"2020-03-23T00:00:00\", \"2020-03-24T00:00:00\", \"2020-03-25T00:00:00\", \"2020-03-27T00:00:00\", \"2020-03-29T00:00:00\", \"2020-03-30T00:00:00\", \"2020-03-31T00:00:00\", \"2020-04-02T00:00:00\", \"2020-04-03T00:00:00\", \"2020-04-05T00:00:00\", \"2020-04-06T00:00:00\", \"2020-04-07T00:00:00\", \"2020-04-08T00:00:00\", \"2020-04-13T00:00:00\", \"2020-04-16T00:00:00\", \"2020-04-17T00:00:00\", \"2020-04-18T00:00:00\", \"2020-04-19T00:00:00\", \"2020-04-20T00:00:00\", \"2020-04-23T00:00:00\", \"2020-04-27T00:00:00\", \"2020-04-29T00:00:00\", \"2020-04-30T00:00:00\", \"2020-05-07T00:00:00\", \"2020-05-09T00:00:00\", \"2020-05-12T00:00:00\", \"2020-05-13T00:00:00\", \"2020-05-15T00:00:00\", \"2020-05-16T00:00:00\", \"2020-05-17T00:00:00\", \"2020-05-19T00:00:00\", \"2020-05-21T00:00:00\", \"2020-05-22T00:00:00\", \"2020-05-24T00:00:00\", \"2020-05-25T00:00:00\", \"2020-05-26T00:00:00\", \"2020-06-05T00:00:00\", \"2020-06-09T00:00:00\", \"2020-06-10T00:00:00\", \"2020-06-11T00:00:00\", \"2020-06-12T00:00:00\", \"2020-06-15T00:00:00\", \"2020-06-17T00:00:00\", \"2020-06-18T00:00:00\", \"2020-06-19T00:00:00\", \"2020-06-23T00:00:00\", \"2020-06-25T00:00:00\", \"2020-06-26T00:00:00\", \"2020-07-02T00:00:00\", \"2020-07-05T00:00:00\", \"2020-07-06T00:00:00\", \"2020-07-22T00:00:00\", \"2020-07-23T00:00:00\", \"2020-07-28T00:00:00\", \"2020-07-30T00:00:00\", \"2020-07-31T00:00:00\", \"2020-08-02T00:00:00\", \"2020-08-04T00:00:00\", \"2020-08-06T00:00:00\", \"2020-08-07T00:00:00\", \"2020-08-09T00:00:00\", \"2020-08-10T00:00:00\", \"2020-08-11T00:00:00\", \"2020-08-13T00:00:00\", \"2020-08-14T00:00:00\", \"2020-08-17T00:00:00\", \"2020-08-18T00:00:00\", \"2020-08-23T00:00:00\", \"2020-08-31T00:00:00\", \"2020-09-01T00:00:00\", \"2020-09-04T00:00:00\", \"2020-09-10T00:00:00\", \"2020-09-11T00:00:00\", \"2020-09-18T00:00:00\", \"2020-09-20T00:00:00\", \"2020-09-21T00:00:00\", \"2020-09-24T00:00:00\", \"2020-09-29T00:00:00\", \"2020-10-01T00:00:00\", \"2020-10-08T00:00:00\", \"2020-10-10T00:00:00\", \"2020-10-13T00:00:00\", \"2020-10-16T00:00:00\", \"2020-10-20T00:00:00\", \"2020-10-22T00:00:00\", \"2020-10-23T00:00:00\", \"2020-10-26T00:00:00\", \"2020-10-29T00:00:00\", \"2020-10-30T00:00:00\", \"2020-11-03T00:00:00\", \"2020-11-06T00:00:00\", \"2020-11-11T00:00:00\", \"2020-11-23T00:00:00\", \"2020-11-24T00:00:00\", \"2020-11-26T00:00:00\", \"2020-11-29T00:00:00\", \"2020-12-03T00:00:00\", \"2020-12-13T00:00:00\", \"2020-12-27T00:00:00\", \"2021-01-04T00:00:00\", \"2021-01-14T00:00:00\", \"2021-01-15T00:00:00\", \"2021-01-21T00:00:00\", \"2021-01-22T00:00:00\", \"2021-01-25T00:00:00\", \"2021-01-27T00:00:00\", \"2021-02-05T00:00:00\", \"2021-02-10T00:00:00\"], \"y\": [2, 3, 1, 1, 1, 1, 1, 3, 2, 1, 3, 2, 1, 1, 2, 1, 2, 3, 1, 1, 1, 1, 2, 2, 2, 1, 2, 1, 3, 1, 1, 1, 2, 2, 1, 1, 2, 1, 1, 2, 1, 1, 1, 1, 1, 1, 1, 1, 1, 1, 4, 2, 2, 1, 1, 1, 1, 1, 3, 1, 1, 1, 1, 1, 1, 1, 1, 1, 2, 1, 1, 1, 1, 1, 1, 2, 1, 2, 3, 1, 1, 1, 2, 1, 1, 1, 1, 1, 1, 1, 1, 1, 1, 1, 1, 1, 1, 2, 2, 2, 1, 1, 1, 1, 1, 1, 1, 1, 1, 2, 1, 1, 1, 1, 1, 2, 1, 1, 1, 2, 1, 2, 1, 2, 1, 1, 1, 2, 1]}, {\"hoverinfo\": \"text\", \"hovertext\": [\"<b>Topic 22</b><br>Words: frankfurt, germany, virus, german, germans\", \"<b>Topic 22</b><br>Words: germans, quarantined, german, germany, koch\", \"<b>Topic 22</b><br>Words: german, germany, germans, pandemic, markus\", \"<b>Topic 22</b><br>Words: germany, german, masks, koch, germans\", \"<b>Topic 22</b><br>Words: germany, german, pandemic, germans, markus\", \"<b>Topic 22</b><br>Words: wolfgang, bioweapon, german, germany, germans\", \"<b>Topic 22</b><br>Words: g\\u00f6rlitz, asylum, germany, german, germans\", \"<b>Topic 22</b><br>Words: german, germany, koch, germans, markus\", \"<b>Topic 22</b><br>Words: supermarkets, germany, week, german, 130\", \"<b>Topic 22</b><br>Words: refugees, medically, attempt, german, germany\", \"<b>Topic 22</b><br>Words: jobcenters, unemployed, germany, german, germans\", \"<b>Topic 22</b><br>Words: desinfect, grams, koch, german, 100\", \"<b>Topic 22</b><br>Words: disinfectants, helicopters, german, germany, five\", \"<b>Topic 22</b><br>Words: refused, germany, german, germans, spahn\", \"<b>Topic 22</b><br>Words: cheaper, croatia, germany, german, koch\", \"<b>Topic 22</b><br>Words: bundestag, german, chancellor, merkel, germany\", \"<b>Topic 22</b><br>Words: ard, german, coffins, germany, germans\", \"<b>Topic 22</b><br>Words: assassination, mahmoud, tunisian, germany, german\", \"<b>Topic 22</b><br>Words: germany, german, germans, markus, spahn\", \"<b>Topic 22</b><br>Words: german, corinavirus, harvest, pensioners, ludwig\", \"<b>Topic 22</b><br>Words: germany, qader, assassination, german, mahmoud\", \"<b>Topic 22</b><br>Words: germany, german, koch, germans, markus\", \"<b>Topic 22</b><br>Words: german, germany, austria, switzerland, worse\", \"<b>Topic 22</b><br>Words: whiskey, virologist, german, drinking, germany\", \"<b>Topic 22</b><br>Words: germany, cancer, german, 130, germans\", \"<b>Topic 22</b><br>Words: german, germany, koch, germans, markus\", \"<b>Topic 22</b><br>Words: france, germany, lack, despite, german\", \"<b>Topic 22</b><br>Words: psychiatric, lawyer, opposed, forcibly, german\", \"<b>Topic 22</b><br>Words: germany, libraries, homburg, zoos, german\", \"<b>Topic 22</b><br>Words: germans, islam, german, germany, koch\", \"<b>Topic 22</b><br>Words: 130, damages, germany, economy, german\", \"<b>Topic 22</b><br>Words: doubts, german, useless, germany, masks\", \"<b>Topic 22</b><br>Words: wodarg, wolfgang, german, germany, koch\", \"<b>Topic 22</b><br>Words: blood, germany, treat, patient, hospitals\", \"<b>Topic 22</b><br>Words: germany, best, 100, german, two\", \"<b>Topic 22</b><br>Words: excess, germany, mortality, german, germans\", \"<b>Topic 22</b><br>Words: krause, german, kill, germany, koch\", \"<b>Topic 22</b><br>Words: 130, german, germany, germans, spahn\", \"<b>Topic 22</b><br>Words: german, illnesses, forcibly, vaccinate, doctor\", \"<b>Topic 22</b><br>Words: pathogenic, biologist, german, viruses, germany\", \"<b>Topic 22</b><br>Words: german, germany, infected, facebook, germans\", \"<b>Topic 22</b><br>Words: 242, bavaria, profit, wife, german\", \"<b>Topic 22</b><br>Words: chlorine, german, dioxide, germany, koch\", \"<b>Topic 22</b><br>Words: alarm, german, leaked, germany, koch\", \"<b>Topic 22</b><br>Words: 130, germany, 300, child, every\", \"<b>Topic 22</b><br>Words: german, chancellor, merkel, quarantine, germany\", \"<b>Topic 22</b><br>Words: 149, germany, german, germans, pandemic\", \"<b>Topic 22</b><br>Words: airspace, arab, german, germany, koch\", \"<b>Topic 22</b><br>Words: german, germany, pandemic, germans, spahn\", \"<b>Topic 22</b><br>Words: track, app, smartphone, germany, infections\", \"<b>Topic 22</b><br>Words: angry, tourism, risks, tunisian, german\", \"<b>Topic 22</b><br>Words: terrorism, german, conspiracy, germany, germans\", \"<b>Topic 22</b><br>Words: german, germany, germans, markus, spahn\", \"<b>Topic 22</b><br>Words: koch, german, germany, 130, germans\", \"<b>Topic 22</b><br>Words: bavarian, licenses, german, doctors, germany\", \"<b>Topic 22</b><br>Words: 13th, germany, german, 130, germans\", \"<b>Topic 22</b><br>Words: german, 31st, veterinary, spahn, germany\", \"<b>Topic 22</b><br>Words: error, zdf, falsely, german, germany\", \"<b>Topic 22</b><br>Words: alexovnobody, pathologist, german, bulgarian, autopsy\", \"<b>Topic 22</b><br>Words: germany, vitamin, treatment, german, germans\", \"<b>Topic 22</b><br>Words: cain, republican, cancer, german, germany\", \"<b>Topic 22</b><br>Words: launch, lockdowns, germany, german, koch\", \"<b>Topic 22</b><br>Words: slogan, demonstrations, german, demonstration, germany\", \"<b>Topic 22</b><br>Words: fakethe, 28, europe, german, tested\", \"<b>Topic 22</b><br>Words: german, doctors, germany, koch, germans\", \"<b>Topic 22</b><br>Words: killer, german, germany, germans, markus\", \"<b>Topic 22</b><br>Words: germanya, schools, school, 100, german\", \"<b>Topic 22</b><br>Words: pathologist, killer, germany, german, virus\", \"<b>Topic 22</b><br>Words: naturopath, modify, german, mrna, rna\", \"<b>Topic 22</b><br>Words: rivals, football, german, spanish, germany\", \"<b>Topic 22</b><br>Words: helmets, german, mask, germany, koch\", \"<b>Topic 22</b><br>Words: hoax, germany, german, pandemic, germans\", \"<b>Topic 22</b><br>Words: helmets, berlin, german, germany, 130\", \"<b>Topic 22</b><br>Words: german, tests, germany, 130, germans\", \"<b>Topic 22</b><br>Words: useless, germany, distancing, german, masks\", \"<b>Topic 22</b><br>Words: invalid, scientifically, criticized, germany, banned\", \"<b>Topic 22</b><br>Words: hamburg, autopsies, germany, german, germans\", \"<b>Topic 22</b><br>Words: germany, hospitals, viral, german, 130\", \"<b>Topic 22</b><br>Words: german, germany, koch, germans, markus\", \"<b>Topic 22</b><br>Words: alkalizing, chemists, german, germany, germs\", \"<b>Topic 22</b><br>Words: finland, german, germany, germans, spahn\", \"<b>Topic 22</b><br>Words: lawyer, shoot, excess, german, jail\", \"<b>Topic 22</b><br>Words: coercion, germany, vaccinated, vaccination, infection\", \"<b>Topic 22</b><br>Words: everybody, german, insurance, responsible, everyone\", \"<b>Topic 22</b><br>Words: wurttemberg, clinic, german, kills, scientists\", \"<b>Topic 22</b><br>Words: lothar, german, germany, vaccines, 130\", \"<b>Topic 22</b><br>Words: germany, fatality, german, 130, germans\", \"<b>Topic 22</b><br>Words: berlin, infections, german, germany, germans\", \"<b>Topic 22</b><br>Words: spahn, german, 25, germany, health\", \"<b>Topic 22</b><br>Words: german, implantation, autopsies, microchip, bacteria\", \"<b>Topic 22</b><br>Words: d\\u00fcsseldorf, germany, german, masks, koch\", \"<b>Topic 22</b><br>Words: anal, german, germany, koch, germans\", \"<b>Topic 22</b><br>Words: german, germany, pandemic, germans, spahn\", \"<b>Topic 22</b><br>Words: 25, influenza, germany, german, germans\", \"<b>Topic 22</b><br>Words: german, diseases, infections, tests, germany\", \"<b>Topic 22</b><br>Words: spahn, pharmacists, german, doctors, vaccines\", \"<b>Topic 22</b><br>Words: genocide, germany, vaccination, doctors, german\", \"<b>Topic 22</b><br>Words: turkish, german, scientist, germany, koch\", \"<b>Topic 22</b><br>Words: telegram, dangerousness, swiss, germany, german\", \"<b>Topic 22</b><br>Words: siegener, unfavourable, zeitung, delete, german\", \"<b>Topic 22</b><br>Words: researcher, german, biontech, germany, 130\", \"<b>Topic 22</b><br>Words: borkum, markus, german, germany, quarantine\", \"<b>Topic 22</b><br>Words: psychological, german, children, negative, 25\", \"<b>Topic 22</b><br>Words: finances, 2021, german, until, germany\", \"<b>Topic 22</b><br>Words: 77, germany, german, hospitals, 130\", \"<b>Topic 22</b><br>Words: firefighter, lothar, bavaria, german, biontech\", \"<b>Topic 22</b><br>Words: deutschland, clinics, german, half, germany\", \"<b>Topic 22</b><br>Words: germany, german, 31, nursing, until\", \"<b>Topic 22</b><br>Words: vaccinations, biontech, germany, pfizer, 10\", \"<b>Topic 22</b><br>Words: antibiotics, germany, treated, 14, german\"], \"marker\": {\"color\": \"#D55E00\"}, \"mode\": \"lines\", \"name\": \"22_german_germany_koch_germans\", \"type\": \"scatter\", \"x\": [\"2020-02-03T00:00:00\", \"2020-02-12T00:00:00\", \"2020-02-28T00:00:00\", \"2020-02-29T00:00:00\", \"2020-03-01T00:00:00\", \"2020-03-04T00:00:00\", \"2020-03-10T00:00:00\", \"2020-03-14T00:00:00\", \"2020-03-15T00:00:00\", \"2020-03-17T00:00:00\", \"2020-03-18T00:00:00\", \"2020-03-19T00:00:00\", \"2020-03-20T00:00:00\", \"2020-03-23T00:00:00\", \"2020-03-25T00:00:00\", \"2020-03-26T00:00:00\", \"2020-03-31T00:00:00\", \"2020-04-01T00:00:00\", \"2020-04-02T00:00:00\", \"2020-04-03T00:00:00\", \"2020-04-05T00:00:00\", \"2020-04-07T00:00:00\", \"2020-04-08T00:00:00\", \"2020-04-09T00:00:00\", \"2020-04-10T00:00:00\", \"2020-04-13T00:00:00\", \"2020-04-15T00:00:00\", \"2020-04-16T00:00:00\", \"2020-04-17T00:00:00\", \"2020-04-20T00:00:00\", \"2020-04-21T00:00:00\", \"2020-04-22T00:00:00\", \"2020-04-28T00:00:00\", \"2020-05-04T00:00:00\", \"2020-05-11T00:00:00\", \"2020-05-17T00:00:00\", \"2020-05-18T00:00:00\", \"2020-05-19T00:00:00\", \"2020-05-20T00:00:00\", \"2020-05-21T00:00:00\", \"2020-05-25T00:00:00\", \"2020-05-26T00:00:00\", \"2020-05-27T00:00:00\", \"2020-06-03T00:00:00\", \"2020-06-05T00:00:00\", \"2020-06-08T00:00:00\", \"2020-06-09T00:00:00\", \"2020-06-11T00:00:00\", \"2020-06-12T00:00:00\", \"2020-06-16T00:00:00\", \"2020-06-18T00:00:00\", \"2020-06-19T00:00:00\", \"2020-06-22T00:00:00\", \"2020-06-26T00:00:00\", \"2020-07-04T00:00:00\", \"2020-07-06T00:00:00\", \"2020-07-07T00:00:00\", \"2020-07-08T00:00:00\", \"2020-07-10T00:00:00\", \"2020-07-17T00:00:00\", \"2020-07-30T00:00:00\", \"2020-08-02T00:00:00\", \"2020-08-03T00:00:00\", \"2020-08-07T00:00:00\", \"2020-08-20T00:00:00\", \"2020-08-22T00:00:00\", \"2020-08-25T00:00:00\", \"2020-08-31T00:00:00\", \"2020-09-07T00:00:00\", \"2020-09-08T00:00:00\", \"2020-09-09T00:00:00\", \"2020-09-10T00:00:00\", \"2020-09-15T00:00:00\", \"2020-09-17T00:00:00\", \"2020-09-18T00:00:00\", \"2020-09-22T00:00:00\", \"2020-09-24T00:00:00\", \"2020-09-25T00:00:00\", \"2020-10-02T00:00:00\", \"2020-10-09T00:00:00\", \"2020-10-12T00:00:00\", \"2020-10-27T00:00:00\", \"2020-11-06T00:00:00\", \"2020-11-08T00:00:00\", \"2020-11-12T00:00:00\", \"2020-11-13T00:00:00\", \"2020-11-15T00:00:00\", \"2020-11-16T00:00:00\", \"2020-11-17T00:00:00\", \"2020-11-20T00:00:00\", \"2020-11-21T00:00:00\", \"2020-11-25T00:00:00\", \"2020-11-30T00:00:00\", \"2020-12-03T00:00:00\", \"2020-12-05T00:00:00\", \"2020-12-07T00:00:00\", \"2020-12-08T00:00:00\", \"2020-12-11T00:00:00\", \"2020-12-15T00:00:00\", \"2020-12-17T00:00:00\", \"2020-12-31T00:00:00\", \"2021-01-03T00:00:00\", \"2021-01-04T00:00:00\", \"2021-01-05T00:00:00\", \"2021-01-06T00:00:00\", \"2021-01-09T00:00:00\", \"2021-01-14T00:00:00\", \"2021-01-18T00:00:00\", \"2021-01-27T00:00:00\", \"2021-02-04T00:00:00\"], \"y\": [1, 2, 1, 1, 1, 1, 1, 1, 1, 2, 1, 1, 2, 1, 1, 3, 1, 1, 1, 2, 3, 1, 4, 1, 1, 1, 1, 1, 2, 1, 2, 1, 1, 1, 1, 1, 1, 1, 2, 1, 1, 1, 1, 2, 1, 1, 1, 1, 1, 1, 1, 1, 1, 1, 1, 1, 2, 1, 1, 1, 1, 1, 2, 1, 1, 1, 1, 1, 1, 1, 1, 1, 1, 1, 1, 1, 1, 1, 1, 2, 1, 1, 1, 1, 2, 1, 2, 1, 1, 2, 1, 1, 1, 1, 1, 1, 1, 1, 1, 1, 1, 1, 1, 1, 1, 2, 1, 2, 1, 1]}],                        {\"height\": 450, \"hoverlabel\": {\"bgcolor\": \"white\", \"font\": {\"family\": \"Rockwell\", \"size\": 16}}, \"legend\": {\"title\": {\"text\": \"<b>Global Topic Representation\"}}, \"template\": {\"data\": {\"bar\": [{\"error_x\": {\"color\": \"rgb(36,36,36)\"}, \"error_y\": {\"color\": \"rgb(36,36,36)\"}, \"marker\": {\"line\": {\"color\": \"white\", \"width\": 0.5}}, \"type\": \"bar\"}], \"barpolar\": [{\"marker\": {\"line\": {\"color\": \"white\", \"width\": 0.5}}, \"type\": \"barpolar\"}], \"carpet\": [{\"aaxis\": {\"endlinecolor\": \"rgb(36,36,36)\", \"gridcolor\": \"white\", \"linecolor\": \"white\", \"minorgridcolor\": \"white\", \"startlinecolor\": \"rgb(36,36,36)\"}, \"baxis\": {\"endlinecolor\": \"rgb(36,36,36)\", \"gridcolor\": \"white\", \"linecolor\": \"white\", \"minorgridcolor\": \"white\", \"startlinecolor\": \"rgb(36,36,36)\"}, \"type\": \"carpet\"}], \"choropleth\": [{\"colorbar\": {\"outlinewidth\": 1, \"tickcolor\": \"rgb(36,36,36)\", \"ticks\": \"outside\"}, \"type\": \"choropleth\"}], \"contour\": [{\"colorbar\": {\"outlinewidth\": 1, \"tickcolor\": \"rgb(36,36,36)\", \"ticks\": \"outside\"}, \"colorscale\": [[0.0, \"#440154\"], [0.1111111111111111, \"#482878\"], [0.2222222222222222, \"#3e4989\"], [0.3333333333333333, \"#31688e\"], [0.4444444444444444, \"#26828e\"], [0.5555555555555556, \"#1f9e89\"], [0.6666666666666666, \"#35b779\"], [0.7777777777777778, \"#6ece58\"], [0.8888888888888888, \"#b5de2b\"], [1.0, \"#fde725\"]], \"type\": \"contour\"}], \"contourcarpet\": [{\"colorbar\": {\"outlinewidth\": 1, \"tickcolor\": \"rgb(36,36,36)\", \"ticks\": \"outside\"}, \"type\": \"contourcarpet\"}], \"heatmap\": [{\"colorbar\": {\"outlinewidth\": 1, \"tickcolor\": \"rgb(36,36,36)\", \"ticks\": \"outside\"}, \"colorscale\": [[0.0, \"#440154\"], [0.1111111111111111, \"#482878\"], [0.2222222222222222, \"#3e4989\"], [0.3333333333333333, \"#31688e\"], [0.4444444444444444, \"#26828e\"], [0.5555555555555556, \"#1f9e89\"], [0.6666666666666666, \"#35b779\"], [0.7777777777777778, \"#6ece58\"], [0.8888888888888888, \"#b5de2b\"], [1.0, \"#fde725\"]], \"type\": \"heatmap\"}], \"heatmapgl\": [{\"colorbar\": {\"outlinewidth\": 1, \"tickcolor\": \"rgb(36,36,36)\", \"ticks\": \"outside\"}, \"colorscale\": [[0.0, \"#440154\"], [0.1111111111111111, \"#482878\"], [0.2222222222222222, \"#3e4989\"], [0.3333333333333333, \"#31688e\"], [0.4444444444444444, \"#26828e\"], [0.5555555555555556, \"#1f9e89\"], [0.6666666666666666, \"#35b779\"], [0.7777777777777778, \"#6ece58\"], [0.8888888888888888, \"#b5de2b\"], [1.0, \"#fde725\"]], \"type\": \"heatmapgl\"}], \"histogram\": [{\"marker\": {\"line\": {\"color\": \"white\", \"width\": 0.6}}, \"type\": \"histogram\"}], \"histogram2d\": [{\"colorbar\": {\"outlinewidth\": 1, \"tickcolor\": \"rgb(36,36,36)\", \"ticks\": \"outside\"}, \"colorscale\": [[0.0, \"#440154\"], [0.1111111111111111, \"#482878\"], [0.2222222222222222, \"#3e4989\"], [0.3333333333333333, \"#31688e\"], [0.4444444444444444, \"#26828e\"], [0.5555555555555556, \"#1f9e89\"], [0.6666666666666666, \"#35b779\"], [0.7777777777777778, \"#6ece58\"], [0.8888888888888888, \"#b5de2b\"], [1.0, \"#fde725\"]], \"type\": \"histogram2d\"}], \"histogram2dcontour\": [{\"colorbar\": {\"outlinewidth\": 1, \"tickcolor\": \"rgb(36,36,36)\", \"ticks\": \"outside\"}, \"colorscale\": [[0.0, \"#440154\"], [0.1111111111111111, \"#482878\"], [0.2222222222222222, \"#3e4989\"], [0.3333333333333333, \"#31688e\"], [0.4444444444444444, \"#26828e\"], [0.5555555555555556, \"#1f9e89\"], [0.6666666666666666, \"#35b779\"], [0.7777777777777778, \"#6ece58\"], [0.8888888888888888, \"#b5de2b\"], [1.0, \"#fde725\"]], \"type\": \"histogram2dcontour\"}], \"mesh3d\": [{\"colorbar\": {\"outlinewidth\": 1, \"tickcolor\": \"rgb(36,36,36)\", \"ticks\": \"outside\"}, \"type\": \"mesh3d\"}], \"parcoords\": [{\"line\": {\"colorbar\": {\"outlinewidth\": 1, \"tickcolor\": \"rgb(36,36,36)\", \"ticks\": \"outside\"}}, \"type\": \"parcoords\"}], \"pie\": [{\"automargin\": true, \"type\": \"pie\"}], \"scatter\": [{\"marker\": {\"colorbar\": {\"outlinewidth\": 1, \"tickcolor\": \"rgb(36,36,36)\", \"ticks\": \"outside\"}}, \"type\": \"scatter\"}], \"scatter3d\": [{\"line\": {\"colorbar\": {\"outlinewidth\": 1, \"tickcolor\": \"rgb(36,36,36)\", \"ticks\": \"outside\"}}, \"marker\": {\"colorbar\": {\"outlinewidth\": 1, \"tickcolor\": \"rgb(36,36,36)\", \"ticks\": \"outside\"}}, \"type\": \"scatter3d\"}], \"scattercarpet\": [{\"marker\": {\"colorbar\": {\"outlinewidth\": 1, \"tickcolor\": \"rgb(36,36,36)\", \"ticks\": \"outside\"}}, \"type\": \"scattercarpet\"}], \"scattergeo\": [{\"marker\": {\"colorbar\": {\"outlinewidth\": 1, \"tickcolor\": \"rgb(36,36,36)\", \"ticks\": \"outside\"}}, \"type\": \"scattergeo\"}], \"scattergl\": [{\"marker\": {\"colorbar\": {\"outlinewidth\": 1, \"tickcolor\": \"rgb(36,36,36)\", \"ticks\": \"outside\"}}, \"type\": \"scattergl\"}], \"scattermapbox\": [{\"marker\": {\"colorbar\": {\"outlinewidth\": 1, \"tickcolor\": \"rgb(36,36,36)\", \"ticks\": \"outside\"}}, \"type\": \"scattermapbox\"}], \"scatterpolar\": [{\"marker\": {\"colorbar\": {\"outlinewidth\": 1, \"tickcolor\": \"rgb(36,36,36)\", \"ticks\": \"outside\"}}, \"type\": \"scatterpolar\"}], \"scatterpolargl\": [{\"marker\": {\"colorbar\": {\"outlinewidth\": 1, \"tickcolor\": \"rgb(36,36,36)\", \"ticks\": \"outside\"}}, \"type\": \"scatterpolargl\"}], \"scatterternary\": [{\"marker\": {\"colorbar\": {\"outlinewidth\": 1, \"tickcolor\": \"rgb(36,36,36)\", \"ticks\": \"outside\"}}, \"type\": \"scatterternary\"}], \"surface\": [{\"colorbar\": {\"outlinewidth\": 1, \"tickcolor\": \"rgb(36,36,36)\", \"ticks\": \"outside\"}, \"colorscale\": [[0.0, \"#440154\"], [0.1111111111111111, \"#482878\"], [0.2222222222222222, \"#3e4989\"], [0.3333333333333333, \"#31688e\"], [0.4444444444444444, \"#26828e\"], [0.5555555555555556, \"#1f9e89\"], [0.6666666666666666, \"#35b779\"], [0.7777777777777778, \"#6ece58\"], [0.8888888888888888, \"#b5de2b\"], [1.0, \"#fde725\"]], \"type\": \"surface\"}], \"table\": [{\"cells\": {\"fill\": {\"color\": \"rgb(237,237,237)\"}, \"line\": {\"color\": \"white\"}}, \"header\": {\"fill\": {\"color\": \"rgb(217,217,217)\"}, \"line\": {\"color\": \"white\"}}, \"type\": \"table\"}]}, \"layout\": {\"annotationdefaults\": {\"arrowhead\": 0, \"arrowwidth\": 1}, \"autotypenumbers\": \"strict\", \"coloraxis\": {\"colorbar\": {\"outlinewidth\": 1, \"tickcolor\": \"rgb(36,36,36)\", \"ticks\": \"outside\"}}, \"colorscale\": {\"diverging\": [[0.0, \"rgb(103,0,31)\"], [0.1, \"rgb(178,24,43)\"], [0.2, \"rgb(214,96,77)\"], [0.3, \"rgb(244,165,130)\"], [0.4, \"rgb(253,219,199)\"], [0.5, \"rgb(247,247,247)\"], [0.6, \"rgb(209,229,240)\"], [0.7, \"rgb(146,197,222)\"], [0.8, \"rgb(67,147,195)\"], [0.9, \"rgb(33,102,172)\"], [1.0, \"rgb(5,48,97)\"]], \"sequential\": [[0.0, \"#440154\"], [0.1111111111111111, \"#482878\"], [0.2222222222222222, \"#3e4989\"], [0.3333333333333333, \"#31688e\"], [0.4444444444444444, \"#26828e\"], [0.5555555555555556, \"#1f9e89\"], [0.6666666666666666, \"#35b779\"], [0.7777777777777778, \"#6ece58\"], [0.8888888888888888, \"#b5de2b\"], [1.0, \"#fde725\"]], \"sequentialminus\": [[0.0, \"#440154\"], [0.1111111111111111, \"#482878\"], [0.2222222222222222, \"#3e4989\"], [0.3333333333333333, \"#31688e\"], [0.4444444444444444, \"#26828e\"], [0.5555555555555556, \"#1f9e89\"], [0.6666666666666666, \"#35b779\"], [0.7777777777777778, \"#6ece58\"], [0.8888888888888888, \"#b5de2b\"], [1.0, \"#fde725\"]]}, \"colorway\": [\"#1F77B4\", \"#FF7F0E\", \"#2CA02C\", \"#D62728\", \"#9467BD\", \"#8C564B\", \"#E377C2\", \"#7F7F7F\", \"#BCBD22\", \"#17BECF\"], \"font\": {\"color\": \"rgb(36,36,36)\"}, \"geo\": {\"bgcolor\": \"white\", \"lakecolor\": \"white\", \"landcolor\": \"white\", \"showlakes\": true, \"showland\": true, \"subunitcolor\": \"white\"}, \"hoverlabel\": {\"align\": \"left\"}, \"hovermode\": \"closest\", \"mapbox\": {\"style\": \"light\"}, \"paper_bgcolor\": \"white\", \"plot_bgcolor\": \"white\", \"polar\": {\"angularaxis\": {\"gridcolor\": \"rgb(232,232,232)\", \"linecolor\": \"rgb(36,36,36)\", \"showgrid\": false, \"showline\": true, \"ticks\": \"outside\"}, \"bgcolor\": \"white\", \"radialaxis\": {\"gridcolor\": \"rgb(232,232,232)\", \"linecolor\": \"rgb(36,36,36)\", \"showgrid\": false, \"showline\": true, \"ticks\": \"outside\"}}, \"scene\": {\"xaxis\": {\"backgroundcolor\": \"white\", \"gridcolor\": \"rgb(232,232,232)\", \"gridwidth\": 2, \"linecolor\": \"rgb(36,36,36)\", \"showbackground\": true, \"showgrid\": false, \"showline\": true, \"ticks\": \"outside\", \"zeroline\": false, \"zerolinecolor\": \"rgb(36,36,36)\"}, \"yaxis\": {\"backgroundcolor\": \"white\", \"gridcolor\": \"rgb(232,232,232)\", \"gridwidth\": 2, \"linecolor\": \"rgb(36,36,36)\", \"showbackground\": true, \"showgrid\": false, \"showline\": true, \"ticks\": \"outside\", \"zeroline\": false, \"zerolinecolor\": \"rgb(36,36,36)\"}, \"zaxis\": {\"backgroundcolor\": \"white\", \"gridcolor\": \"rgb(232,232,232)\", \"gridwidth\": 2, \"linecolor\": \"rgb(36,36,36)\", \"showbackground\": true, \"showgrid\": false, \"showline\": true, \"ticks\": \"outside\", \"zeroline\": false, \"zerolinecolor\": \"rgb(36,36,36)\"}}, \"shapedefaults\": {\"fillcolor\": \"black\", \"line\": {\"width\": 0}, \"opacity\": 0.3}, \"ternary\": {\"aaxis\": {\"gridcolor\": \"rgb(232,232,232)\", \"linecolor\": \"rgb(36,36,36)\", \"showgrid\": false, \"showline\": true, \"ticks\": \"outside\"}, \"baxis\": {\"gridcolor\": \"rgb(232,232,232)\", \"linecolor\": \"rgb(36,36,36)\", \"showgrid\": false, \"showline\": true, \"ticks\": \"outside\"}, \"bgcolor\": \"white\", \"caxis\": {\"gridcolor\": \"rgb(232,232,232)\", \"linecolor\": \"rgb(36,36,36)\", \"showgrid\": false, \"showline\": true, \"ticks\": \"outside\"}}, \"title\": {\"x\": 0.05}, \"xaxis\": {\"automargin\": true, \"gridcolor\": \"rgb(232,232,232)\", \"linecolor\": \"rgb(36,36,36)\", \"showgrid\": false, \"showline\": true, \"ticks\": \"outside\", \"title\": {\"standoff\": 15}, \"zeroline\": false, \"zerolinecolor\": \"rgb(36,36,36)\"}, \"yaxis\": {\"automargin\": true, \"gridcolor\": \"rgb(232,232,232)\", \"linecolor\": \"rgb(36,36,36)\", \"showgrid\": false, \"showline\": true, \"ticks\": \"outside\", \"title\": {\"standoff\": 15}, \"zeroline\": false, \"zerolinecolor\": \"rgb(36,36,36)\"}}}, \"title\": {\"font\": {\"color\": \"Black\", \"size\": 22}, \"text\": \"<b>Topics over Time\", \"x\": 0.4, \"xanchor\": \"center\", \"y\": 0.95, \"yanchor\": \"top\"}, \"width\": 1250, \"xaxis\": {\"showgrid\": true}, \"yaxis\": {\"showgrid\": true, \"title\": {\"text\": \"Frequency\"}}},                        {\"responsive\": true}                    ).then(function(){\n",
       "                            \n",
       "var gd = document.getElementById('9567cbb7-8320-47c0-950c-957bfd0f7a19');\n",
       "var x = new MutationObserver(function (mutations, observer) {{\n",
       "        var display = window.getComputedStyle(gd).display;\n",
       "        if (!display || display === 'none') {{\n",
       "            console.log([gd, 'removed!']);\n",
       "            Plotly.purge(gd);\n",
       "            observer.disconnect();\n",
       "        }}\n",
       "}});\n",
       "\n",
       "// Listen for the removal of the full notebook cells\n",
       "var notebookContainer = gd.closest('#notebook-container');\n",
       "if (notebookContainer) {{\n",
       "    x.observe(notebookContainer, {childList: true});\n",
       "}}\n",
       "\n",
       "// Listen for the clearing of the current output cell\n",
       "var outputEl = gd.closest('.output');\n",
       "if (outputEl) {{\n",
       "    x.observe(outputEl, {childList: true});\n",
       "}}\n",
       "\n",
       "                        })                };                });            </script>        </div>"
      ]
     },
     "metadata": {},
     "output_type": "display_data"
    }
   ],
   "source": [
    "model.visualize_topics_over_time(topics_over_time, top_n=5)"
   ]
  },
  {
   "cell_type": "code",
   "execution_count": 28,
   "metadata": {},
   "outputs": [],
   "source": [
    "# model.get_topics()"
   ]
  },
  {
   "cell_type": "code",
   "execution_count": 37,
   "metadata": {},
   "outputs": [
    {
     "data": {
      "application/vnd.plotly.v1+json": {
       "config": {
        "plotlyServerURL": "https://plot.ly"
       },
       "data": [
        {
         "customdata": [
          [
           4.488090515136719,
           6.5515546798706055,
           6,
           "5g | coronavirus | networks | pandemic | antennas",
           154
          ],
          [
           6.208748817443848,
           8.525158882141113,
           10,
           "brazilian | brazil | paulo | 19 | video",
           665
          ],
          [
           6.882462024688721,
           -4.672018051147461,
           76,
           "coronavirus | italy | died | coffins | india",
           195
          ],
          [
           5.786846160888672,
           7.014458656311035,
           98,
           "lab | laboratory | nobel | coronavirus | chinese",
           201
          ],
          [
           6.133223533630371,
           -3.9320662021636963,
           176,
           "coronavirus | soup | bat | infected | china",
           239
          ],
          [
           3.7461037635803223,
           7.078449726104736,
           193,
           "19 | flu | than | vaccine | deaths",
           408
          ],
          [
           4.228509902954102,
           8.135868072509766,
           196,
           "coronavirus | cure | drinking | garlic | vinegar",
           629
          ],
          [
           6.517328262329102,
           -4.308727264404297,
           223,
           "19 | hospital | died | patients | video",
           243
          ],
          [
           4.169520854949951,
           7.114238739013672,
           234,
           "19 | cure | hydroxychloroquine | cures | vaccine",
           297
          ],
          [
           4.511935710906982,
           8.547804832458496,
           235,
           "lemon | cure | garlic | ginger | honey",
           191
          ]
         ],
         "hovertemplate": "<b>Topic %{customdata[2]}</b><br>Words: %{customdata[3]}<br>Size: %{customdata[4]}",
         "legendgroup": "",
         "marker": {
          "color": "#B0BEC5",
          "line": {
           "color": "DarkSlateGrey",
           "width": 2
          },
          "size": [
           154,
           665,
           195,
           201,
           239,
           408,
           629,
           243,
           297,
           191
          ],
          "sizemode": "area",
          "sizeref": 0.415625,
          "symbol": "circle"
         },
         "mode": "markers",
         "name": "",
         "orientation": "v",
         "showlegend": false,
         "type": "scatter",
         "x": [
          4.488090515136719,
          6.208748817443848,
          6.882462024688721,
          5.786846160888672,
          6.133223533630371,
          3.7461037635803223,
          4.228509902954102,
          6.517328262329102,
          4.169520854949951,
          4.511935710906982
         ],
         "xaxis": "x",
         "y": [
          6.5515546798706055,
          8.525158882141113,
          -4.672018051147461,
          7.014458656311035,
          -3.9320662021636963,
          7.078449726104736,
          8.135868072509766,
          -4.308727264404297,
          7.114238739013672,
          8.547804832458496
         ],
         "yaxis": "y"
        }
       ],
       "layout": {
        "annotations": [
         {
          "showarrow": false,
          "text": "D1",
          "x": 3.184188199043274,
          "y": 2.2285773992538447,
          "yshift": 10
         },
         {
          "showarrow": false,
          "text": "D2",
          "x": 5.549509763717651,
          "xshift": 10,
          "y": 9.82997555732727
         }
        ],
        "height": 650,
        "hoverlabel": {
         "bgcolor": "white",
         "font": {
          "family": "Rockwell",
          "size": 16
         }
        },
        "legend": {
         "itemsizing": "constant",
         "tracegroupgap": 0
        },
        "margin": {
         "t": 60
        },
        "shapes": [
         {
          "line": {
           "color": "#CFD8DC",
           "width": 2
          },
          "type": "line",
          "x0": 5.549509763717651,
          "x1": 5.549509763717651,
          "y0": -5.37282075881958,
          "y1": 9.82997555732727
         },
         {
          "line": {
           "color": "#9E9E9E",
           "width": 2
          },
          "type": "line",
          "x0": 3.184188199043274,
          "x1": 7.914831328392029,
          "y0": 2.2285773992538447,
          "y1": 2.2285773992538447
         }
        ],
        "sliders": [
         {
          "active": 0,
          "pad": {
           "t": 50
          },
          "steps": [
           {
            "args": [
             {
              "marker.color": [
               [
                "red",
                "#B0BEC5",
                "#B0BEC5",
                "#B0BEC5",
                "#B0BEC5",
                "#B0BEC5",
                "#B0BEC5",
                "#B0BEC5",
                "#B0BEC5",
                "#B0BEC5"
               ]
              ]
             }
            ],
            "label": "Topic 6",
            "method": "update"
           },
           {
            "args": [
             {
              "marker.color": [
               [
                "#B0BEC5",
                "red",
                "#B0BEC5",
                "#B0BEC5",
                "#B0BEC5",
                "#B0BEC5",
                "#B0BEC5",
                "#B0BEC5",
                "#B0BEC5",
                "#B0BEC5"
               ]
              ]
             }
            ],
            "label": "Topic 10",
            "method": "update"
           },
           {
            "args": [
             {
              "marker.color": [
               [
                "#B0BEC5",
                "#B0BEC5",
                "red",
                "#B0BEC5",
                "#B0BEC5",
                "#B0BEC5",
                "#B0BEC5",
                "#B0BEC5",
                "#B0BEC5",
                "#B0BEC5"
               ]
              ]
             }
            ],
            "label": "Topic 76",
            "method": "update"
           },
           {
            "args": [
             {
              "marker.color": [
               [
                "#B0BEC5",
                "#B0BEC5",
                "#B0BEC5",
                "red",
                "#B0BEC5",
                "#B0BEC5",
                "#B0BEC5",
                "#B0BEC5",
                "#B0BEC5",
                "#B0BEC5"
               ]
              ]
             }
            ],
            "label": "Topic 98",
            "method": "update"
           },
           {
            "args": [
             {
              "marker.color": [
               [
                "#B0BEC5",
                "#B0BEC5",
                "#B0BEC5",
                "#B0BEC5",
                "red",
                "#B0BEC5",
                "#B0BEC5",
                "#B0BEC5",
                "#B0BEC5",
                "#B0BEC5"
               ]
              ]
             }
            ],
            "label": "Topic 176",
            "method": "update"
           },
           {
            "args": [
             {
              "marker.color": [
               [
                "#B0BEC5",
                "#B0BEC5",
                "#B0BEC5",
                "#B0BEC5",
                "#B0BEC5",
                "red",
                "#B0BEC5",
                "#B0BEC5",
                "#B0BEC5",
                "#B0BEC5"
               ]
              ]
             }
            ],
            "label": "Topic 193",
            "method": "update"
           },
           {
            "args": [
             {
              "marker.color": [
               [
                "#B0BEC5",
                "#B0BEC5",
                "#B0BEC5",
                "#B0BEC5",
                "#B0BEC5",
                "#B0BEC5",
                "red",
                "#B0BEC5",
                "#B0BEC5",
                "#B0BEC5"
               ]
              ]
             }
            ],
            "label": "Topic 196",
            "method": "update"
           },
           {
            "args": [
             {
              "marker.color": [
               [
                "#B0BEC5",
                "#B0BEC5",
                "#B0BEC5",
                "#B0BEC5",
                "#B0BEC5",
                "#B0BEC5",
                "#B0BEC5",
                "red",
                "#B0BEC5",
                "#B0BEC5"
               ]
              ]
             }
            ],
            "label": "Topic 223",
            "method": "update"
           },
           {
            "args": [
             {
              "marker.color": [
               [
                "#B0BEC5",
                "#B0BEC5",
                "#B0BEC5",
                "#B0BEC5",
                "#B0BEC5",
                "#B0BEC5",
                "#B0BEC5",
                "#B0BEC5",
                "red",
                "#B0BEC5"
               ]
              ]
             }
            ],
            "label": "Topic 234",
            "method": "update"
           },
           {
            "args": [
             {
              "marker.color": [
               [
                "#B0BEC5",
                "#B0BEC5",
                "#B0BEC5",
                "#B0BEC5",
                "#B0BEC5",
                "#B0BEC5",
                "#B0BEC5",
                "#B0BEC5",
                "#B0BEC5",
                "red"
               ]
              ]
             }
            ],
            "label": "Topic 235",
            "method": "update"
           }
          ]
         }
        ],
        "template": {
         "data": {
          "bar": [
           {
            "error_x": {
             "color": "rgb(36,36,36)"
            },
            "error_y": {
             "color": "rgb(36,36,36)"
            },
            "marker": {
             "line": {
              "color": "white",
              "width": 0.5
             }
            },
            "type": "bar"
           }
          ],
          "barpolar": [
           {
            "marker": {
             "line": {
              "color": "white",
              "width": 0.5
             }
            },
            "type": "barpolar"
           }
          ],
          "carpet": [
           {
            "aaxis": {
             "endlinecolor": "rgb(36,36,36)",
             "gridcolor": "white",
             "linecolor": "white",
             "minorgridcolor": "white",
             "startlinecolor": "rgb(36,36,36)"
            },
            "baxis": {
             "endlinecolor": "rgb(36,36,36)",
             "gridcolor": "white",
             "linecolor": "white",
             "minorgridcolor": "white",
             "startlinecolor": "rgb(36,36,36)"
            },
            "type": "carpet"
           }
          ],
          "choropleth": [
           {
            "colorbar": {
             "outlinewidth": 1,
             "tickcolor": "rgb(36,36,36)",
             "ticks": "outside"
            },
            "type": "choropleth"
           }
          ],
          "contour": [
           {
            "colorbar": {
             "outlinewidth": 1,
             "tickcolor": "rgb(36,36,36)",
             "ticks": "outside"
            },
            "colorscale": [
             [
              0,
              "#440154"
             ],
             [
              0.1111111111111111,
              "#482878"
             ],
             [
              0.2222222222222222,
              "#3e4989"
             ],
             [
              0.3333333333333333,
              "#31688e"
             ],
             [
              0.4444444444444444,
              "#26828e"
             ],
             [
              0.5555555555555556,
              "#1f9e89"
             ],
             [
              0.6666666666666666,
              "#35b779"
             ],
             [
              0.7777777777777778,
              "#6ece58"
             ],
             [
              0.8888888888888888,
              "#b5de2b"
             ],
             [
              1,
              "#fde725"
             ]
            ],
            "type": "contour"
           }
          ],
          "contourcarpet": [
           {
            "colorbar": {
             "outlinewidth": 1,
             "tickcolor": "rgb(36,36,36)",
             "ticks": "outside"
            },
            "type": "contourcarpet"
           }
          ],
          "heatmap": [
           {
            "colorbar": {
             "outlinewidth": 1,
             "tickcolor": "rgb(36,36,36)",
             "ticks": "outside"
            },
            "colorscale": [
             [
              0,
              "#440154"
             ],
             [
              0.1111111111111111,
              "#482878"
             ],
             [
              0.2222222222222222,
              "#3e4989"
             ],
             [
              0.3333333333333333,
              "#31688e"
             ],
             [
              0.4444444444444444,
              "#26828e"
             ],
             [
              0.5555555555555556,
              "#1f9e89"
             ],
             [
              0.6666666666666666,
              "#35b779"
             ],
             [
              0.7777777777777778,
              "#6ece58"
             ],
             [
              0.8888888888888888,
              "#b5de2b"
             ],
             [
              1,
              "#fde725"
             ]
            ],
            "type": "heatmap"
           }
          ],
          "heatmapgl": [
           {
            "colorbar": {
             "outlinewidth": 1,
             "tickcolor": "rgb(36,36,36)",
             "ticks": "outside"
            },
            "colorscale": [
             [
              0,
              "#440154"
             ],
             [
              0.1111111111111111,
              "#482878"
             ],
             [
              0.2222222222222222,
              "#3e4989"
             ],
             [
              0.3333333333333333,
              "#31688e"
             ],
             [
              0.4444444444444444,
              "#26828e"
             ],
             [
              0.5555555555555556,
              "#1f9e89"
             ],
             [
              0.6666666666666666,
              "#35b779"
             ],
             [
              0.7777777777777778,
              "#6ece58"
             ],
             [
              0.8888888888888888,
              "#b5de2b"
             ],
             [
              1,
              "#fde725"
             ]
            ],
            "type": "heatmapgl"
           }
          ],
          "histogram": [
           {
            "marker": {
             "line": {
              "color": "white",
              "width": 0.6
             }
            },
            "type": "histogram"
           }
          ],
          "histogram2d": [
           {
            "colorbar": {
             "outlinewidth": 1,
             "tickcolor": "rgb(36,36,36)",
             "ticks": "outside"
            },
            "colorscale": [
             [
              0,
              "#440154"
             ],
             [
              0.1111111111111111,
              "#482878"
             ],
             [
              0.2222222222222222,
              "#3e4989"
             ],
             [
              0.3333333333333333,
              "#31688e"
             ],
             [
              0.4444444444444444,
              "#26828e"
             ],
             [
              0.5555555555555556,
              "#1f9e89"
             ],
             [
              0.6666666666666666,
              "#35b779"
             ],
             [
              0.7777777777777778,
              "#6ece58"
             ],
             [
              0.8888888888888888,
              "#b5de2b"
             ],
             [
              1,
              "#fde725"
             ]
            ],
            "type": "histogram2d"
           }
          ],
          "histogram2dcontour": [
           {
            "colorbar": {
             "outlinewidth": 1,
             "tickcolor": "rgb(36,36,36)",
             "ticks": "outside"
            },
            "colorscale": [
             [
              0,
              "#440154"
             ],
             [
              0.1111111111111111,
              "#482878"
             ],
             [
              0.2222222222222222,
              "#3e4989"
             ],
             [
              0.3333333333333333,
              "#31688e"
             ],
             [
              0.4444444444444444,
              "#26828e"
             ],
             [
              0.5555555555555556,
              "#1f9e89"
             ],
             [
              0.6666666666666666,
              "#35b779"
             ],
             [
              0.7777777777777778,
              "#6ece58"
             ],
             [
              0.8888888888888888,
              "#b5de2b"
             ],
             [
              1,
              "#fde725"
             ]
            ],
            "type": "histogram2dcontour"
           }
          ],
          "mesh3d": [
           {
            "colorbar": {
             "outlinewidth": 1,
             "tickcolor": "rgb(36,36,36)",
             "ticks": "outside"
            },
            "type": "mesh3d"
           }
          ],
          "parcoords": [
           {
            "line": {
             "colorbar": {
              "outlinewidth": 1,
              "tickcolor": "rgb(36,36,36)",
              "ticks": "outside"
             }
            },
            "type": "parcoords"
           }
          ],
          "pie": [
           {
            "automargin": true,
            "type": "pie"
           }
          ],
          "scatter": [
           {
            "marker": {
             "colorbar": {
              "outlinewidth": 1,
              "tickcolor": "rgb(36,36,36)",
              "ticks": "outside"
             }
            },
            "type": "scatter"
           }
          ],
          "scatter3d": [
           {
            "line": {
             "colorbar": {
              "outlinewidth": 1,
              "tickcolor": "rgb(36,36,36)",
              "ticks": "outside"
             }
            },
            "marker": {
             "colorbar": {
              "outlinewidth": 1,
              "tickcolor": "rgb(36,36,36)",
              "ticks": "outside"
             }
            },
            "type": "scatter3d"
           }
          ],
          "scattercarpet": [
           {
            "marker": {
             "colorbar": {
              "outlinewidth": 1,
              "tickcolor": "rgb(36,36,36)",
              "ticks": "outside"
             }
            },
            "type": "scattercarpet"
           }
          ],
          "scattergeo": [
           {
            "marker": {
             "colorbar": {
              "outlinewidth": 1,
              "tickcolor": "rgb(36,36,36)",
              "ticks": "outside"
             }
            },
            "type": "scattergeo"
           }
          ],
          "scattergl": [
           {
            "marker": {
             "colorbar": {
              "outlinewidth": 1,
              "tickcolor": "rgb(36,36,36)",
              "ticks": "outside"
             }
            },
            "type": "scattergl"
           }
          ],
          "scattermapbox": [
           {
            "marker": {
             "colorbar": {
              "outlinewidth": 1,
              "tickcolor": "rgb(36,36,36)",
              "ticks": "outside"
             }
            },
            "type": "scattermapbox"
           }
          ],
          "scatterpolar": [
           {
            "marker": {
             "colorbar": {
              "outlinewidth": 1,
              "tickcolor": "rgb(36,36,36)",
              "ticks": "outside"
             }
            },
            "type": "scatterpolar"
           }
          ],
          "scatterpolargl": [
           {
            "marker": {
             "colorbar": {
              "outlinewidth": 1,
              "tickcolor": "rgb(36,36,36)",
              "ticks": "outside"
             }
            },
            "type": "scatterpolargl"
           }
          ],
          "scatterternary": [
           {
            "marker": {
             "colorbar": {
              "outlinewidth": 1,
              "tickcolor": "rgb(36,36,36)",
              "ticks": "outside"
             }
            },
            "type": "scatterternary"
           }
          ],
          "surface": [
           {
            "colorbar": {
             "outlinewidth": 1,
             "tickcolor": "rgb(36,36,36)",
             "ticks": "outside"
            },
            "colorscale": [
             [
              0,
              "#440154"
             ],
             [
              0.1111111111111111,
              "#482878"
             ],
             [
              0.2222222222222222,
              "#3e4989"
             ],
             [
              0.3333333333333333,
              "#31688e"
             ],
             [
              0.4444444444444444,
              "#26828e"
             ],
             [
              0.5555555555555556,
              "#1f9e89"
             ],
             [
              0.6666666666666666,
              "#35b779"
             ],
             [
              0.7777777777777778,
              "#6ece58"
             ],
             [
              0.8888888888888888,
              "#b5de2b"
             ],
             [
              1,
              "#fde725"
             ]
            ],
            "type": "surface"
           }
          ],
          "table": [
           {
            "cells": {
             "fill": {
              "color": "rgb(237,237,237)"
             },
             "line": {
              "color": "white"
             }
            },
            "header": {
             "fill": {
              "color": "rgb(217,217,217)"
             },
             "line": {
              "color": "white"
             }
            },
            "type": "table"
           }
          ]
         },
         "layout": {
          "annotationdefaults": {
           "arrowhead": 0,
           "arrowwidth": 1
          },
          "autotypenumbers": "strict",
          "coloraxis": {
           "colorbar": {
            "outlinewidth": 1,
            "tickcolor": "rgb(36,36,36)",
            "ticks": "outside"
           }
          },
          "colorscale": {
           "diverging": [
            [
             0,
             "rgb(103,0,31)"
            ],
            [
             0.1,
             "rgb(178,24,43)"
            ],
            [
             0.2,
             "rgb(214,96,77)"
            ],
            [
             0.3,
             "rgb(244,165,130)"
            ],
            [
             0.4,
             "rgb(253,219,199)"
            ],
            [
             0.5,
             "rgb(247,247,247)"
            ],
            [
             0.6,
             "rgb(209,229,240)"
            ],
            [
             0.7,
             "rgb(146,197,222)"
            ],
            [
             0.8,
             "rgb(67,147,195)"
            ],
            [
             0.9,
             "rgb(33,102,172)"
            ],
            [
             1,
             "rgb(5,48,97)"
            ]
           ],
           "sequential": [
            [
             0,
             "#440154"
            ],
            [
             0.1111111111111111,
             "#482878"
            ],
            [
             0.2222222222222222,
             "#3e4989"
            ],
            [
             0.3333333333333333,
             "#31688e"
            ],
            [
             0.4444444444444444,
             "#26828e"
            ],
            [
             0.5555555555555556,
             "#1f9e89"
            ],
            [
             0.6666666666666666,
             "#35b779"
            ],
            [
             0.7777777777777778,
             "#6ece58"
            ],
            [
             0.8888888888888888,
             "#b5de2b"
            ],
            [
             1,
             "#fde725"
            ]
           ],
           "sequentialminus": [
            [
             0,
             "#440154"
            ],
            [
             0.1111111111111111,
             "#482878"
            ],
            [
             0.2222222222222222,
             "#3e4989"
            ],
            [
             0.3333333333333333,
             "#31688e"
            ],
            [
             0.4444444444444444,
             "#26828e"
            ],
            [
             0.5555555555555556,
             "#1f9e89"
            ],
            [
             0.6666666666666666,
             "#35b779"
            ],
            [
             0.7777777777777778,
             "#6ece58"
            ],
            [
             0.8888888888888888,
             "#b5de2b"
            ],
            [
             1,
             "#fde725"
            ]
           ]
          },
          "colorway": [
           "#1F77B4",
           "#FF7F0E",
           "#2CA02C",
           "#D62728",
           "#9467BD",
           "#8C564B",
           "#E377C2",
           "#7F7F7F",
           "#BCBD22",
           "#17BECF"
          ],
          "font": {
           "color": "rgb(36,36,36)"
          },
          "geo": {
           "bgcolor": "white",
           "lakecolor": "white",
           "landcolor": "white",
           "showlakes": true,
           "showland": true,
           "subunitcolor": "white"
          },
          "hoverlabel": {
           "align": "left"
          },
          "hovermode": "closest",
          "mapbox": {
           "style": "light"
          },
          "paper_bgcolor": "white",
          "plot_bgcolor": "white",
          "polar": {
           "angularaxis": {
            "gridcolor": "rgb(232,232,232)",
            "linecolor": "rgb(36,36,36)",
            "showgrid": false,
            "showline": true,
            "ticks": "outside"
           },
           "bgcolor": "white",
           "radialaxis": {
            "gridcolor": "rgb(232,232,232)",
            "linecolor": "rgb(36,36,36)",
            "showgrid": false,
            "showline": true,
            "ticks": "outside"
           }
          },
          "scene": {
           "xaxis": {
            "backgroundcolor": "white",
            "gridcolor": "rgb(232,232,232)",
            "gridwidth": 2,
            "linecolor": "rgb(36,36,36)",
            "showbackground": true,
            "showgrid": false,
            "showline": true,
            "ticks": "outside",
            "zeroline": false,
            "zerolinecolor": "rgb(36,36,36)"
           },
           "yaxis": {
            "backgroundcolor": "white",
            "gridcolor": "rgb(232,232,232)",
            "gridwidth": 2,
            "linecolor": "rgb(36,36,36)",
            "showbackground": true,
            "showgrid": false,
            "showline": true,
            "ticks": "outside",
            "zeroline": false,
            "zerolinecolor": "rgb(36,36,36)"
           },
           "zaxis": {
            "backgroundcolor": "white",
            "gridcolor": "rgb(232,232,232)",
            "gridwidth": 2,
            "linecolor": "rgb(36,36,36)",
            "showbackground": true,
            "showgrid": false,
            "showline": true,
            "ticks": "outside",
            "zeroline": false,
            "zerolinecolor": "rgb(36,36,36)"
           }
          },
          "shapedefaults": {
           "fillcolor": "black",
           "line": {
            "width": 0
           },
           "opacity": 0.3
          },
          "ternary": {
           "aaxis": {
            "gridcolor": "rgb(232,232,232)",
            "linecolor": "rgb(36,36,36)",
            "showgrid": false,
            "showline": true,
            "ticks": "outside"
           },
           "baxis": {
            "gridcolor": "rgb(232,232,232)",
            "linecolor": "rgb(36,36,36)",
            "showgrid": false,
            "showline": true,
            "ticks": "outside"
           },
           "bgcolor": "white",
           "caxis": {
            "gridcolor": "rgb(232,232,232)",
            "linecolor": "rgb(36,36,36)",
            "showgrid": false,
            "showline": true,
            "ticks": "outside"
           }
          },
          "title": {
           "x": 0.05
          },
          "xaxis": {
           "automargin": true,
           "gridcolor": "rgb(232,232,232)",
           "linecolor": "rgb(36,36,36)",
           "showgrid": false,
           "showline": true,
           "ticks": "outside",
           "title": {
            "standoff": 15
           },
           "zeroline": false,
           "zerolinecolor": "rgb(36,36,36)"
          },
          "yaxis": {
           "automargin": true,
           "gridcolor": "rgb(232,232,232)",
           "linecolor": "rgb(36,36,36)",
           "showgrid": false,
           "showline": true,
           "ticks": "outside",
           "title": {
            "standoff": 15
           },
           "zeroline": false,
           "zerolinecolor": "rgb(36,36,36)"
          }
         }
        },
        "title": {
         "font": {
          "color": "Black",
          "size": 22
         },
         "text": "<b>Intertopic Distance Map",
         "x": 0.5,
         "xanchor": "center",
         "y": 0.95,
         "yanchor": "top"
        },
        "width": 650,
        "xaxis": {
         "anchor": "y",
         "domain": [
          0,
          1
         ],
         "range": [
          3.184188199043274,
          7.914831328392029
         ],
         "title": {
          "text": ""
         },
         "type": "linear",
         "visible": false
        },
        "yaxis": {
         "anchor": "x",
         "domain": [
          0,
          1
         ],
         "range": [
          -5.37282075881958,
          9.82997555732727
         ],
         "title": {
          "text": ""
         },
         "type": "linear",
         "visible": false
        }
       }
      },
      "image/png": "[encoded data removed]",
      "text/html": [
       "<div>                            <div id=\"dab4cf75-0918-460e-b61e-483fbbf6e888\" class=\"plotly-graph-div\" style=\"height:650px; width:650px;\"></div>            <script type=\"text/javascript\">                require([\"plotly\"], function(Plotly) {                    window.PLOTLYENV=window.PLOTLYENV || {};                                    if (document.getElementById(\"dab4cf75-0918-460e-b61e-483fbbf6e888\")) {                    Plotly.newPlot(                        \"dab4cf75-0918-460e-b61e-483fbbf6e888\",                        [{\"customdata\": [[4.488090515136719, 6.5515546798706055, 6, \"5g | coronavirus | networks | pandemic | antennas\", 154], [6.208748817443848, 8.525158882141113, 10, \"brazilian | brazil | paulo | 19 | video\", 665], [6.882462024688721, -4.672018051147461, 76, \"coronavirus | italy | died | coffins | india\", 195], [5.786846160888672, 7.014458656311035, 98, \"lab | laboratory | nobel | coronavirus | chinese\", 201], [6.133223533630371, -3.9320662021636963, 176, \"coronavirus | soup | bat | infected | china\", 239], [3.7461037635803223, 7.078449726104736, 193, \"19 | flu | than | vaccine | deaths\", 408], [4.228509902954102, 8.135868072509766, 196, \"coronavirus | cure | drinking | garlic | vinegar\", 629], [6.517328262329102, -4.308727264404297, 223, \"19 | hospital | died | patients | video\", 243], [4.169520854949951, 7.114238739013672, 234, \"19 | cure | hydroxychloroquine | cures | vaccine\", 297], [4.511935710906982, 8.547804832458496, 235, \"lemon | cure | garlic | ginger | honey\", 191]], \"hovertemplate\": \"<b>Topic %{customdata[2]}</b><br>Words: %{customdata[3]}<br>Size: %{customdata[4]}\", \"legendgroup\": \"\", \"marker\": {\"color\": \"#B0BEC5\", \"line\": {\"color\": \"DarkSlateGrey\", \"width\": 2}, \"size\": [154, 665, 195, 201, 239, 408, 629, 243, 297, 191], \"sizemode\": \"area\", \"sizeref\": 0.415625, \"symbol\": \"circle\"}, \"mode\": \"markers\", \"name\": \"\", \"orientation\": \"v\", \"showlegend\": false, \"type\": \"scatter\", \"x\": [4.488090515136719, 6.208748817443848, 6.882462024688721, 5.786846160888672, 6.133223533630371, 3.7461037635803223, 4.228509902954102, 6.517328262329102, 4.169520854949951, 4.511935710906982], \"xaxis\": \"x\", \"y\": [6.5515546798706055, 8.525158882141113, -4.672018051147461, 7.014458656311035, -3.9320662021636963, 7.078449726104736, 8.135868072509766, -4.308727264404297, 7.114238739013672, 8.547804832458496], \"yaxis\": \"y\"}],                        {\"annotations\": [{\"showarrow\": false, \"text\": \"D1\", \"x\": 3.184188199043274, \"y\": 2.2285773992538447, \"yshift\": 10}, {\"showarrow\": false, \"text\": \"D2\", \"x\": 5.549509763717651, \"xshift\": 10, \"y\": 9.82997555732727}], \"height\": 650, \"hoverlabel\": {\"bgcolor\": \"white\", \"font\": {\"family\": \"Rockwell\", \"size\": 16}}, \"legend\": {\"itemsizing\": \"constant\", \"tracegroupgap\": 0}, \"margin\": {\"t\": 60}, \"shapes\": [{\"line\": {\"color\": \"#CFD8DC\", \"width\": 2}, \"type\": \"line\", \"x0\": 5.549509763717651, \"x1\": 5.549509763717651, \"y0\": -5.37282075881958, \"y1\": 9.82997555732727}, {\"line\": {\"color\": \"#9E9E9E\", \"width\": 2}, \"type\": \"line\", \"x0\": 3.184188199043274, \"x1\": 7.914831328392029, \"y0\": 2.2285773992538447, \"y1\": 2.2285773992538447}], \"sliders\": [{\"active\": 0, \"pad\": {\"t\": 50}, \"steps\": [{\"args\": [{\"marker.color\": [[\"red\", \"#B0BEC5\", \"#B0BEC5\", \"#B0BEC5\", \"#B0BEC5\", \"#B0BEC5\", \"#B0BEC5\", \"#B0BEC5\", \"#B0BEC5\", \"#B0BEC5\"]]}], \"label\": \"Topic 6\", \"method\": \"update\"}, {\"args\": [{\"marker.color\": [[\"#B0BEC5\", \"red\", \"#B0BEC5\", \"#B0BEC5\", \"#B0BEC5\", \"#B0BEC5\", \"#B0BEC5\", \"#B0BEC5\", \"#B0BEC5\", \"#B0BEC5\"]]}], \"label\": \"Topic 10\", \"method\": \"update\"}, {\"args\": [{\"marker.color\": [[\"#B0BEC5\", \"#B0BEC5\", \"red\", \"#B0BEC5\", \"#B0BEC5\", \"#B0BEC5\", \"#B0BEC5\", \"#B0BEC5\", \"#B0BEC5\", \"#B0BEC5\"]]}], \"label\": \"Topic 76\", \"method\": \"update\"}, {\"args\": [{\"marker.color\": [[\"#B0BEC5\", \"#B0BEC5\", \"#B0BEC5\", \"red\", \"#B0BEC5\", \"#B0BEC5\", \"#B0BEC5\", \"#B0BEC5\", \"#B0BEC5\", \"#B0BEC5\"]]}], \"label\": \"Topic 98\", \"method\": \"update\"}, {\"args\": [{\"marker.color\": [[\"#B0BEC5\", \"#B0BEC5\", \"#B0BEC5\", \"#B0BEC5\", \"red\", \"#B0BEC5\", \"#B0BEC5\", \"#B0BEC5\", \"#B0BEC5\", \"#B0BEC5\"]]}], \"label\": \"Topic 176\", \"method\": \"update\"}, {\"args\": [{\"marker.color\": [[\"#B0BEC5\", \"#B0BEC5\", \"#B0BEC5\", \"#B0BEC5\", \"#B0BEC5\", \"red\", \"#B0BEC5\", \"#B0BEC5\", \"#B0BEC5\", \"#B0BEC5\"]]}], \"label\": \"Topic 193\", \"method\": \"update\"}, {\"args\": [{\"marker.color\": [[\"#B0BEC5\", \"#B0BEC5\", \"#B0BEC5\", \"#B0BEC5\", \"#B0BEC5\", \"#B0BEC5\", \"red\", \"#B0BEC5\", \"#B0BEC5\", \"#B0BEC5\"]]}], \"label\": \"Topic 196\", \"method\": \"update\"}, {\"args\": [{\"marker.color\": [[\"#B0BEC5\", \"#B0BEC5\", \"#B0BEC5\", \"#B0BEC5\", \"#B0BEC5\", \"#B0BEC5\", \"#B0BEC5\", \"red\", \"#B0BEC5\", \"#B0BEC5\"]]}], \"label\": \"Topic 223\", \"method\": \"update\"}, {\"args\": [{\"marker.color\": [[\"#B0BEC5\", \"#B0BEC5\", \"#B0BEC5\", \"#B0BEC5\", \"#B0BEC5\", \"#B0BEC5\", \"#B0BEC5\", \"#B0BEC5\", \"red\", \"#B0BEC5\"]]}], \"label\": \"Topic 234\", \"method\": \"update\"}, {\"args\": [{\"marker.color\": [[\"#B0BEC5\", \"#B0BEC5\", \"#B0BEC5\", \"#B0BEC5\", \"#B0BEC5\", \"#B0BEC5\", \"#B0BEC5\", \"#B0BEC5\", \"#B0BEC5\", \"red\"]]}], \"label\": \"Topic 235\", \"method\": \"update\"}]}], \"template\": {\"data\": {\"bar\": [{\"error_x\": {\"color\": \"rgb(36,36,36)\"}, \"error_y\": {\"color\": \"rgb(36,36,36)\"}, \"marker\": {\"line\": {\"color\": \"white\", \"width\": 0.5}}, \"type\": \"bar\"}], \"barpolar\": [{\"marker\": {\"line\": {\"color\": \"white\", \"width\": 0.5}}, \"type\": \"barpolar\"}], \"carpet\": [{\"aaxis\": {\"endlinecolor\": \"rgb(36,36,36)\", \"gridcolor\": \"white\", \"linecolor\": \"white\", \"minorgridcolor\": \"white\", \"startlinecolor\": \"rgb(36,36,36)\"}, \"baxis\": {\"endlinecolor\": \"rgb(36,36,36)\", \"gridcolor\": \"white\", \"linecolor\": \"white\", \"minorgridcolor\": \"white\", \"startlinecolor\": \"rgb(36,36,36)\"}, \"type\": \"carpet\"}], \"choropleth\": [{\"colorbar\": {\"outlinewidth\": 1, \"tickcolor\": \"rgb(36,36,36)\", \"ticks\": \"outside\"}, \"type\": \"choropleth\"}], \"contour\": [{\"colorbar\": {\"outlinewidth\": 1, \"tickcolor\": \"rgb(36,36,36)\", \"ticks\": \"outside\"}, \"colorscale\": [[0.0, \"#440154\"], [0.1111111111111111, \"#482878\"], [0.2222222222222222, \"#3e4989\"], [0.3333333333333333, \"#31688e\"], [0.4444444444444444, \"#26828e\"], [0.5555555555555556, \"#1f9e89\"], [0.6666666666666666, \"#35b779\"], [0.7777777777777778, \"#6ece58\"], [0.8888888888888888, \"#b5de2b\"], [1.0, \"#fde725\"]], \"type\": \"contour\"}], \"contourcarpet\": [{\"colorbar\": {\"outlinewidth\": 1, \"tickcolor\": \"rgb(36,36,36)\", \"ticks\": \"outside\"}, \"type\": \"contourcarpet\"}], \"heatmap\": [{\"colorbar\": {\"outlinewidth\": 1, \"tickcolor\": \"rgb(36,36,36)\", \"ticks\": \"outside\"}, \"colorscale\": [[0.0, \"#440154\"], [0.1111111111111111, \"#482878\"], [0.2222222222222222, \"#3e4989\"], [0.3333333333333333, \"#31688e\"], [0.4444444444444444, \"#26828e\"], [0.5555555555555556, \"#1f9e89\"], [0.6666666666666666, \"#35b779\"], [0.7777777777777778, \"#6ece58\"], [0.8888888888888888, \"#b5de2b\"], [1.0, \"#fde725\"]], \"type\": \"heatmap\"}], \"heatmapgl\": [{\"colorbar\": {\"outlinewidth\": 1, \"tickcolor\": \"rgb(36,36,36)\", \"ticks\": \"outside\"}, \"colorscale\": [[0.0, \"#440154\"], [0.1111111111111111, \"#482878\"], [0.2222222222222222, \"#3e4989\"], [0.3333333333333333, \"#31688e\"], [0.4444444444444444, \"#26828e\"], [0.5555555555555556, \"#1f9e89\"], [0.6666666666666666, \"#35b779\"], [0.7777777777777778, \"#6ece58\"], [0.8888888888888888, \"#b5de2b\"], [1.0, \"#fde725\"]], \"type\": \"heatmapgl\"}], \"histogram\": [{\"marker\": {\"line\": {\"color\": \"white\", \"width\": 0.6}}, \"type\": \"histogram\"}], \"histogram2d\": [{\"colorbar\": {\"outlinewidth\": 1, \"tickcolor\": \"rgb(36,36,36)\", \"ticks\": \"outside\"}, \"colorscale\": [[0.0, \"#440154\"], [0.1111111111111111, \"#482878\"], [0.2222222222222222, \"#3e4989\"], [0.3333333333333333, \"#31688e\"], [0.4444444444444444, \"#26828e\"], [0.5555555555555556, \"#1f9e89\"], [0.6666666666666666, \"#35b779\"], [0.7777777777777778, \"#6ece58\"], [0.8888888888888888, \"#b5de2b\"], [1.0, \"#fde725\"]], \"type\": \"histogram2d\"}], \"histogram2dcontour\": [{\"colorbar\": {\"outlinewidth\": 1, \"tickcolor\": \"rgb(36,36,36)\", \"ticks\": \"outside\"}, \"colorscale\": [[0.0, \"#440154\"], [0.1111111111111111, \"#482878\"], [0.2222222222222222, \"#3e4989\"], [0.3333333333333333, \"#31688e\"], [0.4444444444444444, \"#26828e\"], [0.5555555555555556, \"#1f9e89\"], [0.6666666666666666, \"#35b779\"], [0.7777777777777778, \"#6ece58\"], [0.8888888888888888, \"#b5de2b\"], [1.0, \"#fde725\"]], \"type\": \"histogram2dcontour\"}], \"mesh3d\": [{\"colorbar\": {\"outlinewidth\": 1, \"tickcolor\": \"rgb(36,36,36)\", \"ticks\": \"outside\"}, \"type\": \"mesh3d\"}], \"parcoords\": [{\"line\": {\"colorbar\": {\"outlinewidth\": 1, \"tickcolor\": \"rgb(36,36,36)\", \"ticks\": \"outside\"}}, \"type\": \"parcoords\"}], \"pie\": [{\"automargin\": true, \"type\": \"pie\"}], \"scatter\": [{\"marker\": {\"colorbar\": {\"outlinewidth\": 1, \"tickcolor\": \"rgb(36,36,36)\", \"ticks\": \"outside\"}}, \"type\": \"scatter\"}], \"scatter3d\": [{\"line\": {\"colorbar\": {\"outlinewidth\": 1, \"tickcolor\": \"rgb(36,36,36)\", \"ticks\": \"outside\"}}, \"marker\": {\"colorbar\": {\"outlinewidth\": 1, \"tickcolor\": \"rgb(36,36,36)\", \"ticks\": \"outside\"}}, \"type\": \"scatter3d\"}], \"scattercarpet\": [{\"marker\": {\"colorbar\": {\"outlinewidth\": 1, \"tickcolor\": \"rgb(36,36,36)\", \"ticks\": \"outside\"}}, \"type\": \"scattercarpet\"}], \"scattergeo\": [{\"marker\": {\"colorbar\": {\"outlinewidth\": 1, \"tickcolor\": \"rgb(36,36,36)\", \"ticks\": \"outside\"}}, \"type\": \"scattergeo\"}], \"scattergl\": [{\"marker\": {\"colorbar\": {\"outlinewidth\": 1, \"tickcolor\": \"rgb(36,36,36)\", \"ticks\": \"outside\"}}, \"type\": \"scattergl\"}], \"scattermapbox\": [{\"marker\": {\"colorbar\": {\"outlinewidth\": 1, \"tickcolor\": \"rgb(36,36,36)\", \"ticks\": \"outside\"}}, \"type\": \"scattermapbox\"}], \"scatterpolar\": [{\"marker\": {\"colorbar\": {\"outlinewidth\": 1, \"tickcolor\": \"rgb(36,36,36)\", \"ticks\": \"outside\"}}, \"type\": \"scatterpolar\"}], \"scatterpolargl\": [{\"marker\": {\"colorbar\": {\"outlinewidth\": 1, \"tickcolor\": \"rgb(36,36,36)\", \"ticks\": \"outside\"}}, \"type\": \"scatterpolargl\"}], \"scatterternary\": [{\"marker\": {\"colorbar\": {\"outlinewidth\": 1, \"tickcolor\": \"rgb(36,36,36)\", \"ticks\": \"outside\"}}, \"type\": \"scatterternary\"}], \"surface\": [{\"colorbar\": {\"outlinewidth\": 1, \"tickcolor\": \"rgb(36,36,36)\", \"ticks\": \"outside\"}, \"colorscale\": [[0.0, \"#440154\"], [0.1111111111111111, \"#482878\"], [0.2222222222222222, \"#3e4989\"], [0.3333333333333333, \"#31688e\"], [0.4444444444444444, \"#26828e\"], [0.5555555555555556, \"#1f9e89\"], [0.6666666666666666, \"#35b779\"], [0.7777777777777778, \"#6ece58\"], [0.8888888888888888, \"#b5de2b\"], [1.0, \"#fde725\"]], \"type\": \"surface\"}], \"table\": [{\"cells\": {\"fill\": {\"color\": \"rgb(237,237,237)\"}, \"line\": {\"color\": \"white\"}}, \"header\": {\"fill\": {\"color\": \"rgb(217,217,217)\"}, \"line\": {\"color\": \"white\"}}, \"type\": \"table\"}]}, \"layout\": {\"annotationdefaults\": {\"arrowhead\": 0, \"arrowwidth\": 1}, \"autotypenumbers\": \"strict\", \"coloraxis\": {\"colorbar\": {\"outlinewidth\": 1, \"tickcolor\": \"rgb(36,36,36)\", \"ticks\": \"outside\"}}, \"colorscale\": {\"diverging\": [[0.0, \"rgb(103,0,31)\"], [0.1, \"rgb(178,24,43)\"], [0.2, \"rgb(214,96,77)\"], [0.3, \"rgb(244,165,130)\"], [0.4, \"rgb(253,219,199)\"], [0.5, \"rgb(247,247,247)\"], [0.6, \"rgb(209,229,240)\"], [0.7, \"rgb(146,197,222)\"], [0.8, \"rgb(67,147,195)\"], [0.9, \"rgb(33,102,172)\"], [1.0, \"rgb(5,48,97)\"]], \"sequential\": [[0.0, \"#440154\"], [0.1111111111111111, \"#482878\"], [0.2222222222222222, \"#3e4989\"], [0.3333333333333333, \"#31688e\"], [0.4444444444444444, \"#26828e\"], [0.5555555555555556, \"#1f9e89\"], [0.6666666666666666, \"#35b779\"], [0.7777777777777778, \"#6ece58\"], [0.8888888888888888, \"#b5de2b\"], [1.0, \"#fde725\"]], \"sequentialminus\": [[0.0, \"#440154\"], [0.1111111111111111, \"#482878\"], [0.2222222222222222, \"#3e4989\"], [0.3333333333333333, \"#31688e\"], [0.4444444444444444, \"#26828e\"], [0.5555555555555556, \"#1f9e89\"], [0.6666666666666666, \"#35b779\"], [0.7777777777777778, \"#6ece58\"], [0.8888888888888888, \"#b5de2b\"], [1.0, \"#fde725\"]]}, \"colorway\": [\"#1F77B4\", \"#FF7F0E\", \"#2CA02C\", \"#D62728\", \"#9467BD\", \"#8C564B\", \"#E377C2\", \"#7F7F7F\", \"#BCBD22\", \"#17BECF\"], \"font\": {\"color\": \"rgb(36,36,36)\"}, \"geo\": {\"bgcolor\": \"white\", \"lakecolor\": \"white\", \"landcolor\": \"white\", \"showlakes\": true, \"showland\": true, \"subunitcolor\": \"white\"}, \"hoverlabel\": {\"align\": \"left\"}, \"hovermode\": \"closest\", \"mapbox\": {\"style\": \"light\"}, \"paper_bgcolor\": \"white\", \"plot_bgcolor\": \"white\", \"polar\": {\"angularaxis\": {\"gridcolor\": \"rgb(232,232,232)\", \"linecolor\": \"rgb(36,36,36)\", \"showgrid\": false, \"showline\": true, \"ticks\": \"outside\"}, \"bgcolor\": \"white\", \"radialaxis\": {\"gridcolor\": \"rgb(232,232,232)\", \"linecolor\": \"rgb(36,36,36)\", \"showgrid\": false, \"showline\": true, \"ticks\": \"outside\"}}, \"scene\": {\"xaxis\": {\"backgroundcolor\": \"white\", \"gridcolor\": \"rgb(232,232,232)\", \"gridwidth\": 2, \"linecolor\": \"rgb(36,36,36)\", \"showbackground\": true, \"showgrid\": false, \"showline\": true, \"ticks\": \"outside\", \"zeroline\": false, \"zerolinecolor\": \"rgb(36,36,36)\"}, \"yaxis\": {\"backgroundcolor\": \"white\", \"gridcolor\": \"rgb(232,232,232)\", \"gridwidth\": 2, \"linecolor\": \"rgb(36,36,36)\", \"showbackground\": true, \"showgrid\": false, \"showline\": true, \"ticks\": \"outside\", \"zeroline\": false, \"zerolinecolor\": \"rgb(36,36,36)\"}, \"zaxis\": {\"backgroundcolor\": \"white\", \"gridcolor\": \"rgb(232,232,232)\", \"gridwidth\": 2, \"linecolor\": \"rgb(36,36,36)\", \"showbackground\": true, \"showgrid\": false, \"showline\": true, \"ticks\": \"outside\", \"zeroline\": false, \"zerolinecolor\": \"rgb(36,36,36)\"}}, \"shapedefaults\": {\"fillcolor\": \"black\", \"line\": {\"width\": 0}, \"opacity\": 0.3}, \"ternary\": {\"aaxis\": {\"gridcolor\": \"rgb(232,232,232)\", \"linecolor\": \"rgb(36,36,36)\", \"showgrid\": false, \"showline\": true, \"ticks\": \"outside\"}, \"baxis\": {\"gridcolor\": \"rgb(232,232,232)\", \"linecolor\": \"rgb(36,36,36)\", \"showgrid\": false, \"showline\": true, \"ticks\": \"outside\"}, \"bgcolor\": \"white\", \"caxis\": {\"gridcolor\": \"rgb(232,232,232)\", \"linecolor\": \"rgb(36,36,36)\", \"showgrid\": false, \"showline\": true, \"ticks\": \"outside\"}}, \"title\": {\"x\": 0.05}, \"xaxis\": {\"automargin\": true, \"gridcolor\": \"rgb(232,232,232)\", \"linecolor\": \"rgb(36,36,36)\", \"showgrid\": false, \"showline\": true, \"ticks\": \"outside\", \"title\": {\"standoff\": 15}, \"zeroline\": false, \"zerolinecolor\": \"rgb(36,36,36)\"}, \"yaxis\": {\"automargin\": true, \"gridcolor\": \"rgb(232,232,232)\", \"linecolor\": \"rgb(36,36,36)\", \"showgrid\": false, \"showline\": true, \"ticks\": \"outside\", \"title\": {\"standoff\": 15}, \"zeroline\": false, \"zerolinecolor\": \"rgb(36,36,36)\"}}}, \"title\": {\"font\": {\"color\": \"Black\", \"size\": 22}, \"text\": \"<b>Intertopic Distance Map\", \"x\": 0.5, \"xanchor\": \"center\", \"y\": 0.95, \"yanchor\": \"top\"}, \"width\": 650, \"xaxis\": {\"anchor\": \"y\", \"domain\": [0.0, 1.0], \"range\": [3.184188199043274, 7.914831328392029], \"title\": {\"text\": \"\"}, \"visible\": false}, \"yaxis\": {\"anchor\": \"x\", \"domain\": [0.0, 1.0], \"range\": [-5.37282075881958, 9.82997555732727], \"title\": {\"text\": \"\"}, \"visible\": false}},                        {\"responsive\": true}                    ).then(function(){\n",
       "                            \n",
       "var gd = document.getElementById('dab4cf75-0918-460e-b61e-483fbbf6e888');\n",
       "var x = new MutationObserver(function (mutations, observer) {{\n",
       "        var display = window.getComputedStyle(gd).display;\n",
       "        if (!display || display === 'none') {{\n",
       "            console.log([gd, 'removed!']);\n",
       "            Plotly.purge(gd);\n",
       "            observer.disconnect();\n",
       "        }}\n",
       "}});\n",
       "\n",
       "// Listen for the removal of the full notebook cells\n",
       "var notebookContainer = gd.closest('#notebook-container');\n",
       "if (notebookContainer) {{\n",
       "    x.observe(notebookContainer, {childList: true});\n",
       "}}\n",
       "\n",
       "// Listen for the clearing of the current output cell\n",
       "var outputEl = gd.closest('.output');\n",
       "if (outputEl) {{\n",
       "    x.observe(outputEl, {childList: true});\n",
       "}}\n",
       "\n",
       "                        })                };                });            </script>        </div>"
      ]
     },
     "metadata": {},
     "output_type": "display_data"
    }
   ],
   "source": [
    "model.visualize_topics()"
   ]
  },
  {
   "cell_type": "code",
   "execution_count": null,
   "metadata": {},
   "outputs": [],
   "source": [
    "#### Example "
   ]
  },
  {
   "cell_type": "code",
   "execution_count": 38,
   "metadata": {},
   "outputs": [
    {
     "data": {
      "text/plain": [
       "[-1, -1, -1, 10, -1, 223, 234, -1, -1, -1]"
      ]
     },
     "execution_count": 38,
     "metadata": {},
     "output_type": "execute_result"
    }
   ],
   "source": [
    "topics[:10]"
   ]
  },
  {
   "cell_type": "code",
   "execution_count": 39,
   "metadata": {},
   "outputs": [
    {
     "data": {
      "text/plain": [
       "'Covid-19 masks are dangerous and the obligation to wear them is a crime against humanity'"
      ]
     },
     "execution_count": 39,
     "metadata": {},
     "output_type": "execute_result"
    }
   ],
   "source": [
    "data_list[0]"
   ]
  },
  {
   "cell_type": "code",
   "execution_count": 43,
   "metadata": {},
   "outputs": [
    {
     "data": {
      "text/plain": [
       "{-1: [('coronavirus', 0.027401760731205805),\n",
       "  ('covid', 0.02568523597300097),\n",
       "  ('19', 0.025019389631409938),\n",
       "  ('with', 0.01720157171148157),\n",
       "  ('video', 0.015538613752303202),\n",
       "  ('not', 0.014813361555547532),\n",
       "  ('who', 0.013918074302843142),\n",
       "  ('vaccine', 0.013837471473057278),\n",
       "  ('pandemic', 0.012849704402057866),\n",
       "  ('shows', 0.012576159148419697)],\n",
       " 6: [('5g', 0.2760212964564148),\n",
       "  ('coronavirus', 0.04964015626785358),\n",
       "  ('networks', 0.03229339032338212),\n",
       "  ('pandemic', 0.03190650235459548),\n",
       "  ('antennas', 0.027164569913547675),\n",
       "  ('telecommunications', 0.02479061925997738),\n",
       "  ('towers', 0.02124910222283775),\n",
       "  ('network', 0.0193431063092907),\n",
       "  ('five', 0.01884804884874391),\n",
       "  ('circuit', 0.01878458708589459)],\n",
       " 10: [('brazilian', 0.06666052451003349),\n",
       "  ('brazil', 0.06288491218608384),\n",
       "  ('paulo', 0.04075955734838888),\n",
       "  ('19', 0.03866927899564583),\n",
       "  ('video', 0.02330334658457953),\n",
       "  ('deaths', 0.020239277358006742),\n",
       "  ('rio', 0.018504152739131495),\n",
       "  ('lockdown', 0.018015202095289774),\n",
       "  ('hospital', 0.016913584968098593),\n",
       "  ('shows', 0.016572730137229753)],\n",
       " 76: [('coronavirus', 0.09306986496312862),\n",
       "  ('italy', 0.06689990258157702),\n",
       "  ('died', 0.05858952987034258),\n",
       "  ('coffins', 0.04318416820282376),\n",
       "  ('india', 0.03204626780874586),\n",
       "  ('pigs', 0.028977478227907257),\n",
       "  ('dead', 0.026045348855925573),\n",
       "  ('doctor', 0.02303974974105767),\n",
       "  ('indian', 0.020650147806674738),\n",
       "  ('novel', 0.020546298355142822)],\n",
       " 98: [('lab', 0.08215329329079449),\n",
       "  ('laboratory', 0.0761761746466007),\n",
       "  ('nobel', 0.07309982412443439),\n",
       "  ('coronavirus', 0.07299568656540667),\n",
       "  ('chinese', 0.05109937185752462),\n",
       "  ('china', 0.05031493187361117),\n",
       "  ('japanese', 0.04755944257102598),\n",
       "  ('laureate', 0.03666403900999458),\n",
       "  ('patented', 0.031188955715526465),\n",
       "  ('virus', 0.029389069195966615)],\n",
       " 176: [('coronavirus', 0.09860647175473984),\n",
       "  ('soup', 0.04210821265490468),\n",
       "  ('bat', 0.03825789558641018),\n",
       "  ('infected', 0.03685053600204006),\n",
       "  ('china', 0.03494647160266367),\n",
       "  ('spain', 0.03303130448987592),\n",
       "  ('chicken', 0.03094678813137845),\n",
       "  ('eating', 0.023198729561406693),\n",
       "  ('hospital', 0.021836885691825292),\n",
       "  ('broiler', 0.020920717901965924)],\n",
       " 193: [('19', 0.08974958891073744),\n",
       "  ('flu', 0.041389193643058556),\n",
       "  ('than', 0.03410525173650824),\n",
       "  ('vaccine', 0.03374239843129432),\n",
       "  ('deaths', 0.028068450524820324),\n",
       "  ('vaccines', 0.01825261754521566),\n",
       "  ('will', 0.01662281882641149),\n",
       "  ('rate', 0.015570306865923535),\n",
       "  ('virus', 0.01509913938196444),\n",
       "  ('caused', 0.014654434532912443)],\n",
       " 196: [('coronavirus', 0.11965602919632976),\n",
       "  ('cure', 0.04163522900688958),\n",
       "  ('drinking', 0.03203855420766038),\n",
       "  ('garlic', 0.03003234025245808),\n",
       "  ('vinegar', 0.02629728913031753),\n",
       "  ('lemon', 0.02628650971183874),\n",
       "  ('tea', 0.02494882932431917),\n",
       "  ('infected', 0.02160132516620701),\n",
       "  ('vitamin', 0.020840447034784108),\n",
       "  ('cures', 0.020705409361200886)],\n",
       " 223: [('19', 0.09354189653977159),\n",
       "  ('hospital', 0.051235190548183186),\n",
       "  ('died', 0.043604417487815475),\n",
       "  ('patients', 0.03266118228334416),\n",
       "  ('video', 0.02880359537261829),\n",
       "  ('indian', 0.021102237597608656),\n",
       "  ('africa', 0.018264928284266756),\n",
       "  ('india', 0.017738419132073968),\n",
       "  ('dead', 0.017445489678421307),\n",
       "  ('senegal', 0.01631012410250727)],\n",
       " 234: [('19', 0.12454525706944736),\n",
       "  ('cure', 0.07731481947162638),\n",
       "  ('hydroxychloroquine', 0.04516404508781086),\n",
       "  ('cures', 0.03704523038310574),\n",
       "  ('vaccine', 0.03042201555428954),\n",
       "  ('treatment', 0.029975799564321913),\n",
       "  ('treat', 0.02551565929613124),\n",
       "  ('chloroquine', 0.024575106458079175),\n",
       "  ('medicine', 0.02137378257236729),\n",
       "  ('vitamin', 0.01996279727837996)],\n",
       " 235: [('lemon', 0.08165476032824956),\n",
       "  ('cure', 0.05485907001850648),\n",
       "  ('garlic', 0.0452239618371968),\n",
       "  ('ginger', 0.036547744470705315),\n",
       "  ('honey', 0.032812361829776836),\n",
       "  ('cures', 0.032684273595654144),\n",
       "  ('tea', 0.032445952081023084),\n",
       "  ('soda', 0.030304504260567095),\n",
       "  ('remedy', 0.02814270960841705),\n",
       "  ('drinking', 0.027304618855385238)]}"
      ]
     },
     "execution_count": 43,
     "metadata": {},
     "output_type": "execute_result"
    }
   ],
   "source": [
    "model.get_topics()"
   ]
  },
  {
   "cell_type": "code",
   "execution_count": 18,
   "metadata": {},
   "outputs": [
    {
     "data": {
      "text/html": [
       "<div>\n",
       "<style scoped>\n",
       "    .dataframe tbody tr th:only-of-type {\n",
       "        vertical-align: middle;\n",
       "    }\n",
       "\n",
       "    .dataframe tbody tr th {\n",
       "        vertical-align: top;\n",
       "    }\n",
       "\n",
       "    .dataframe thead th {\n",
       "        text-align: right;\n",
       "    }\n",
       "</style>\n",
       "<table border=\"1\" class=\"dataframe\">\n",
       "  <thead>\n",
       "    <tr style=\"text-align: right;\">\n",
       "      <th></th>\n",
       "      <th>Topic</th>\n",
       "      <th>Count</th>\n",
       "      <th>Name</th>\n",
       "    </tr>\n",
       "  </thead>\n",
       "  <tbody>\n",
       "    <tr>\n",
       "      <th>0</th>\n",
       "      <td>-1</td>\n",
       "      <td>6805</td>\n",
       "      <td>-1_covid_19_coronavirus_vaccine</td>\n",
       "    </tr>\n",
       "    <tr>\n",
       "      <th>1</th>\n",
       "      <td>190</td>\n",
       "      <td>621</td>\n",
       "      <td>190_coronavirus_cure_novel_garlic</td>\n",
       "    </tr>\n",
       "    <tr>\n",
       "      <th>2</th>\n",
       "      <td>12</td>\n",
       "      <td>596</td>\n",
       "      <td>12_brazilian_brazil_paulo_19</td>\n",
       "    </tr>\n",
       "    <tr>\n",
       "      <th>3</th>\n",
       "      <td>2</td>\n",
       "      <td>531</td>\n",
       "      <td>2_italy_italian_italians_video</td>\n",
       "    </tr>\n",
       "    <tr>\n",
       "      <th>4</th>\n",
       "      <td>185</td>\n",
       "      <td>502</td>\n",
       "      <td>185_cure_cures_lemon_hydroxychloroquine</td>\n",
       "    </tr>\n",
       "    <tr>\n",
       "      <th>5</th>\n",
       "      <td>163</td>\n",
       "      <td>393</td>\n",
       "      <td>163_19_vaccine_died_vaccines</td>\n",
       "    </tr>\n",
       "    <tr>\n",
       "      <th>6</th>\n",
       "      <td>83</td>\n",
       "      <td>323</td>\n",
       "      <td>83_facebook_shared_multiple_thousands</td>\n",
       "    </tr>\n",
       "    <tr>\n",
       "      <th>7</th>\n",
       "      <td>134</td>\n",
       "      <td>311</td>\n",
       "      <td>134_vaccines_vaccine_microchips_pandemic</td>\n",
       "    </tr>\n",
       "    <tr>\n",
       "      <th>8</th>\n",
       "      <td>104</td>\n",
       "      <td>210</td>\n",
       "      <td>104_lab_laboratory_nobel_coronavirus</td>\n",
       "    </tr>\n",
       "    <tr>\n",
       "      <th>9</th>\n",
       "      <td>126</td>\n",
       "      <td>200</td>\n",
       "      <td>126_coronavirus_infected_died_doctor</td>\n",
       "    </tr>\n",
       "    <tr>\n",
       "      <th>10</th>\n",
       "      <td>112</td>\n",
       "      <td>164</td>\n",
       "      <td>112_mask_masks_oxygen_hypoxia</td>\n",
       "    </tr>\n",
       "    <tr>\n",
       "      <th>11</th>\n",
       "      <td>132</td>\n",
       "      <td>153</td>\n",
       "      <td>132_19_deaths_flu_less</td>\n",
       "    </tr>\n",
       "    <tr>\n",
       "      <th>12</th>\n",
       "      <td>116</td>\n",
       "      <td>152</td>\n",
       "      <td>116_coronavirus_20_kill_bakery</td>\n",
       "    </tr>\n",
       "    <tr>\n",
       "      <th>13</th>\n",
       "      <td>16</td>\n",
       "      <td>146</td>\n",
       "      <td>16_german_germany_koch_pandemic</td>\n",
       "    </tr>\n",
       "    <tr>\n",
       "      <th>14</th>\n",
       "      <td>18</td>\n",
       "      <td>145</td>\n",
       "      <td>18_5g_networks_coronavirus_antennas</td>\n",
       "    </tr>\n",
       "    <tr>\n",
       "      <th>15</th>\n",
       "      <td>89</td>\n",
       "      <td>133</td>\n",
       "      <td>89_trump_donald_president_obama</td>\n",
       "    </tr>\n",
       "    <tr>\n",
       "      <th>16</th>\n",
       "      <td>118</td>\n",
       "      <td>122</td>\n",
       "      <td>118_spain_spanish_coronavirus_barcelona</td>\n",
       "    </tr>\n",
       "    <tr>\n",
       "      <th>17</th>\n",
       "      <td>110</td>\n",
       "      <td>109</td>\n",
       "      <td>110_masks_not_mask_protect</td>\n",
       "    </tr>\n",
       "    <tr>\n",
       "      <th>18</th>\n",
       "      <td>130</td>\n",
       "      <td>97</td>\n",
       "      <td>130_india_chicken_coronavirus_wife</td>\n",
       "    </tr>\n",
       "    <tr>\n",
       "      <th>19</th>\n",
       "      <td>72</td>\n",
       "      <td>97</td>\n",
       "      <td>72_china_wuhan_pigs_sulfur</td>\n",
       "    </tr>\n",
       "    <tr>\n",
       "      <th>20</th>\n",
       "      <td>106</td>\n",
       "      <td>94</td>\n",
       "      <td>106_india_19_hospital_patients</td>\n",
       "    </tr>\n",
       "  </tbody>\n",
       "</table>\n",
       "</div>"
      ],
      "text/plain": [
       "    Topic  Count                                      Name\n",
       "0      -1   6805           -1_covid_19_coronavirus_vaccine\n",
       "1     190    621         190_coronavirus_cure_novel_garlic\n",
       "2      12    596              12_brazilian_brazil_paulo_19\n",
       "3       2    531            2_italy_italian_italians_video\n",
       "4     185    502   185_cure_cures_lemon_hydroxychloroquine\n",
       "5     163    393              163_19_vaccine_died_vaccines\n",
       "6      83    323     83_facebook_shared_multiple_thousands\n",
       "7     134    311  134_vaccines_vaccine_microchips_pandemic\n",
       "8     104    210      104_lab_laboratory_nobel_coronavirus\n",
       "9     126    200      126_coronavirus_infected_died_doctor\n",
       "10    112    164             112_mask_masks_oxygen_hypoxia\n",
       "11    132    153                    132_19_deaths_flu_less\n",
       "12    116    152            116_coronavirus_20_kill_bakery\n",
       "13     16    146           16_german_germany_koch_pandemic\n",
       "14     18    145       18_5g_networks_coronavirus_antennas\n",
       "15     89    133           89_trump_donald_president_obama\n",
       "16    118    122   118_spain_spanish_coronavirus_barcelona\n",
       "17    110    109                110_masks_not_mask_protect\n",
       "18    130     97        130_india_chicken_coronavirus_wife\n",
       "19     72     97                72_china_wuhan_pigs_sulfur\n",
       "20    106     94            106_india_19_hospital_patients"
      ]
     },
     "execution_count": 18,
     "metadata": {},
     "output_type": "execute_result"
    }
   ],
   "source": [
    "model.get_topic_info()"
   ]
  },
  {
   "cell_type": "code",
   "execution_count": null,
   "metadata": {},
   "outputs": [],
   "source": []
  }
 ],
 "metadata": {
  "kernelspec": {
   "display_name": "Python [conda env:.conda-bt] *",
   "language": "python",
   "name": "conda-env-.conda-bt-py"
  },
  "language_info": {
   "codemirror_mode": {
    "name": "ipython",
    "version": 3
   },
   "file_extension": ".py",
   "mimetype": "text/x-python",
   "name": "python",
   "nbconvert_exporter": "python",
   "pygments_lexer": "ipython3",
   "version": "3.7.9"
  }
 },
 "nbformat": 4,
 "nbformat_minor": 4
}
